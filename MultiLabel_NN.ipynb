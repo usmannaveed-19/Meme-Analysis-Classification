{
 "cells": [
  {
   "attachments": {},
   "cell_type": "markdown",
   "metadata": {},
   "source": [
    "### MEME CLASSIFICATION PROJECT Project - Part 2 - Multi Label Neural Network"
   ]
  },
  {
   "cell_type": "code",
   "execution_count": 44,
   "metadata": {},
   "outputs": [
    {
     "name": "stderr",
     "output_type": "stream",
     "text": [
      "[nltk_data] Downloading package punkt to /home/usman/nltk_data...\n",
      "[nltk_data]   Package punkt is already up-to-date!\n"
     ]
    }
   ],
   "source": [
    "import numpy as np\n",
    "import matplotlib.pyplot as plt\n",
    "import pandas as pd\n",
    "import os\n",
    "import glob\n",
    "from skimage.io import imread, imshow\n",
    "from PIL import Image, ImageOps, ImageFile, ImageFilter\n",
    "ImageFile.LOAD_TRUNCATED_IMAGES = True\n",
    "import random\n",
    "import nltk\n",
    "nltk.download('punkt')\n",
    "from nltk import word_tokenize\n",
    "import torch \n",
    "import torch.nn as nn"
   ]
  },
  {
   "cell_type": "markdown",
   "metadata": {},
   "source": [
    "#### Directing Paths to Folders"
   ]
  },
  {
   "cell_type": "code",
   "execution_count": 45,
   "metadata": {},
   "outputs": [],
   "source": [
    "path = '/home/usman/Desktop/AI - Project - 2022/archive_part2/memotion_dataset_7k/images'\n",
    "glove_file = '/home/usman/Desktop/AI - Project - 2022/glove.6B/glove.6B.100d.txt'\n",
    "label_xlsx_path = \"/home/usman/Desktop/AI - Project - 2022/archive_part2/memotion_dataset_7k/labels.xlsx\"\n",
    "path_images_info = \"/home/usman/Desktop/AI - Project - 2022/images_info.csv\"\n",
    "model_path = \"/home/usman/Desktop/AI - Project - 2022/part2_model.pt\"\n",
    "labels_path_part2 = '/home/usman/Desktop/AI - Project - 2022/part2.csv'\n",
    "\n",
    "# input path \n",
    "# original_img_path = \"/home/usman/Desktop/AI - Project - 2022/archive_part2/memotion_dataset_7k/images/\"\n",
    "# os.chdir(original_img_path)\n",
    "# images = os.listdir(os.getcwd())\n",
    "# print(len(images))\n",
    "\n",
    "# path = '/home/gpu2/Desktop/Usman Naveed/Part 2/archive_part2/memotion_dataset_7k/images'\n",
    "# glove_file = '/home/gpu2/Desktop/Usman Naveed/Part 2/glove.6B.100d.txt'\n",
    "# label_xlsx_path = \"/home/gpu2/Desktop/Usman Naveed/Part 2/labels.xlsx\"\n",
    "# path_images_info = \"/home/gpu2/Desktop/Usman Naveed/Part 2/images_info.csv\"\n",
    "# model_path = \"/home/gpu2/Desktop/Usman Naveed/Part 2/model_MMNN_part2.pt\"\n",
    "# labels_path_part2 = '/home/gpu2/Desktop/Usman Naveed/Part 2/part2.csv'"
   ]
  },
  {
   "cell_type": "markdown",
   "metadata": {},
   "source": [
    "### Image - Preprocessing"
   ]
  },
  {
   "cell_type": "markdown",
   "metadata": {},
   "source": []
  },
  {
   "cell_type": "code",
   "execution_count": 5,
   "metadata": {},
   "outputs": [
    {
     "name": "stdout",
     "output_type": "stream",
     "text": [
      "6989\n"
     ]
    }
   ],
   "source": [
    "os.chdir(path)\n",
    "images = os.listdir(path)\n",
    "print(len(images))"
   ]
  },
  {
   "cell_type": "markdown",
   "metadata": {},
   "source": [
    "#### Making a Dataframe of the Original Images"
   ]
  },
  {
   "cell_type": "code",
   "execution_count": 6,
   "metadata": {},
   "outputs": [
    {
     "data": {
      "text/html": [
       "<div>\n",
       "<style scoped>\n",
       "    .dataframe tbody tr th:only-of-type {\n",
       "        vertical-align: middle;\n",
       "    }\n",
       "\n",
       "    .dataframe tbody tr th {\n",
       "        vertical-align: top;\n",
       "    }\n",
       "\n",
       "    .dataframe thead th {\n",
       "        text-align: right;\n",
       "    }\n",
       "</style>\n",
       "<table border=\"1\" class=\"dataframe\">\n",
       "  <thead>\n",
       "    <tr style=\"text-align: right;\">\n",
       "      <th></th>\n",
       "      <th>image</th>\n",
       "      <th>size</th>\n",
       "      <th>width</th>\n",
       "      <th>height</th>\n",
       "    </tr>\n",
       "  </thead>\n",
       "  <tbody>\n",
       "    <tr>\n",
       "      <th>0</th>\n",
       "      <td>image_1467.jpg</td>\n",
       "      <td>122310</td>\n",
       "      <td>728</td>\n",
       "      <td>728</td>\n",
       "    </tr>\n",
       "    <tr>\n",
       "      <th>1</th>\n",
       "      <td>image_6363.jpg</td>\n",
       "      <td>40790</td>\n",
       "      <td>430</td>\n",
       "      <td>241</td>\n",
       "    </tr>\n",
       "    <tr>\n",
       "      <th>2</th>\n",
       "      <td>image_3356.png</td>\n",
       "      <td>150774</td>\n",
       "      <td>500</td>\n",
       "      <td>567</td>\n",
       "    </tr>\n",
       "    <tr>\n",
       "      <th>3</th>\n",
       "      <td>image_4500.jpg</td>\n",
       "      <td>40977</td>\n",
       "      <td>720</td>\n",
       "      <td>720</td>\n",
       "    </tr>\n",
       "    <tr>\n",
       "      <th>4</th>\n",
       "      <td>image_3819.jpg</td>\n",
       "      <td>21254</td>\n",
       "      <td>225</td>\n",
       "      <td>316</td>\n",
       "    </tr>\n",
       "    <tr>\n",
       "      <th>...</th>\n",
       "      <td>...</td>\n",
       "      <td>...</td>\n",
       "      <td>...</td>\n",
       "      <td>...</td>\n",
       "    </tr>\n",
       "    <tr>\n",
       "      <th>6987</th>\n",
       "      <td>image_1255.jpg</td>\n",
       "      <td>107475</td>\n",
       "      <td>1024</td>\n",
       "      <td>768</td>\n",
       "    </tr>\n",
       "    <tr>\n",
       "      <th>6988</th>\n",
       "      <td>image_773.jpg</td>\n",
       "      <td>63966</td>\n",
       "      <td>625</td>\n",
       "      <td>439</td>\n",
       "    </tr>\n",
       "    <tr>\n",
       "      <th>6989</th>\n",
       "      <td>image_5568.jpg</td>\n",
       "      <td>72639</td>\n",
       "      <td>960</td>\n",
       "      <td>960</td>\n",
       "    </tr>\n",
       "    <tr>\n",
       "      <th>6990</th>\n",
       "      <td>image_1053.jpg</td>\n",
       "      <td>114875</td>\n",
       "      <td>700</td>\n",
       "      <td>466</td>\n",
       "    </tr>\n",
       "    <tr>\n",
       "      <th>6991</th>\n",
       "      <td>image_1874.jpg</td>\n",
       "      <td>51886</td>\n",
       "      <td>600</td>\n",
       "      <td>336</td>\n",
       "    </tr>\n",
       "  </tbody>\n",
       "</table>\n",
       "<p>6992 rows × 4 columns</p>\n",
       "</div>"
      ],
      "text/plain": [
       "               image    size  width  height\n",
       "0     image_1467.jpg  122310    728     728\n",
       "1     image_6363.jpg   40790    430     241\n",
       "2     image_3356.png  150774    500     567\n",
       "3     image_4500.jpg   40977    720     720\n",
       "4     image_3819.jpg   21254    225     316\n",
       "...              ...     ...    ...     ...\n",
       "6987  image_1255.jpg  107475   1024     768\n",
       "6988   image_773.jpg   63966    625     439\n",
       "6989  image_5568.jpg   72639    960     960\n",
       "6990  image_1053.jpg  114875    700     466\n",
       "6991  image_1874.jpg   51886    600     336\n",
       "\n",
       "[6992 rows x 4 columns]"
      ]
     },
     "execution_count": 6,
     "metadata": {},
     "output_type": "execute_result"
    }
   ],
   "source": [
    "# Convert it to Dataframe\n",
    "def convert_to_df(images):\n",
    "    df = pd.DataFrame(columns=['image','size','width','height'])\n",
    "    for image in images:\n",
    "        img = Image.open(image)\n",
    "        img_size = img.size\n",
    "        df = df.append({'image':image, 'size':os.path.getsize(image), 'width':img_size[0], 'height':img_size[1]}, ignore_index=True)\n",
    "    return df\n",
    "\n",
    "# df = convert_to_df(images)\n",
    "# df.to_csv(path_images_info, index=False)\n",
    "df = pd.read_csv(path_images_info)\n",
    "df "
   ]
  },
  {
   "cell_type": "markdown",
   "metadata": {},
   "source": [
    "#### Getting Maximum Shapes of images"
   ]
  },
  {
   "cell_type": "code",
   "execution_count": 7,
   "metadata": {},
   "outputs": [],
   "source": [
    "def get_largest_sizes():\n",
    "    largest_image = df.loc[df['size'] == df['size'].max()]\n",
    "    print(\"Largest Image: \", largest_image['image'].values[0])\n",
    "    img = Image.open(largest_image.iloc[0]['image'])\n",
    "    print(img.size)\n",
    "    # imshow(imread(largest_image.iloc[0]['image']))\n",
    "\n",
    "    smallest_image = df.loc[df['size'] == df['size'].min()]\n",
    "    print(\"Smallest Image: \", smallest_image['image'].values[0])\n",
    "    img = Image.open(smallest_image.iloc[0]['image'])\n",
    "    print(img.size)\n",
    "    # imshow(imread(smallest_image.iloc[0]['image']))\n",
    "\n",
    "# get_largest_sizes()"
   ]
  },
  {
   "cell_type": "markdown",
   "metadata": {},
   "source": [
    "#### Scatter Plot for the Shapes - Width * Height"
   ]
  },
  {
   "cell_type": "code",
   "execution_count": 8,
   "metadata": {},
   "outputs": [
    {
     "data": {
      "image/png": "[encoded data removed]",
      "text/plain": [
       "<Figure size 432x288 with 2 Axes>"
      ]
     },
     "metadata": {
      "needs_background": "light"
     },
     "output_type": "display_data"
    }
   ],
   "source": [
    "# Visualize Image Resolutions with Scatter plot\n",
    "def scatter_plot_sizes():\n",
    "    plt.scatter(df['width'], df['height'], c=df['size'], cmap='viridis')\n",
    "    plt.xlabel('Width')\n",
    "    plt.ylabel('Height')\n",
    "    plt.title('Image Resolution')\n",
    "    plt.colorbar()\n",
    "    plt.show()\n",
    "    \n",
    "scatter_plot_sizes()"
   ]
  },
  {
   "cell_type": "markdown",
   "metadata": {},
   "source": [
    "#### Selecting Images of Shape Under 2500 * 2500"
   ]
  },
  {
   "cell_type": "code",
   "execution_count": 9,
   "metadata": {},
   "outputs": [
    {
     "data": {
      "text/html": [
       "<div>\n",
       "<style scoped>\n",
       "    .dataframe tbody tr th:only-of-type {\n",
       "        vertical-align: middle;\n",
       "    }\n",
       "\n",
       "    .dataframe tbody tr th {\n",
       "        vertical-align: top;\n",
       "    }\n",
       "\n",
       "    .dataframe thead th {\n",
       "        text-align: right;\n",
       "    }\n",
       "</style>\n",
       "<table border=\"1\" class=\"dataframe\">\n",
       "  <thead>\n",
       "    <tr style=\"text-align: right;\">\n",
       "      <th></th>\n",
       "      <th>image</th>\n",
       "      <th>size</th>\n",
       "      <th>width</th>\n",
       "      <th>height</th>\n",
       "    </tr>\n",
       "  </thead>\n",
       "  <tbody>\n",
       "    <tr>\n",
       "      <th>0</th>\n",
       "      <td>image_1467.jpg</td>\n",
       "      <td>122310</td>\n",
       "      <td>728</td>\n",
       "      <td>728</td>\n",
       "    </tr>\n",
       "    <tr>\n",
       "      <th>1</th>\n",
       "      <td>image_6363.jpg</td>\n",
       "      <td>40790</td>\n",
       "      <td>430</td>\n",
       "      <td>241</td>\n",
       "    </tr>\n",
       "    <tr>\n",
       "      <th>2</th>\n",
       "      <td>image_3356.png</td>\n",
       "      <td>150774</td>\n",
       "      <td>500</td>\n",
       "      <td>567</td>\n",
       "    </tr>\n",
       "    <tr>\n",
       "      <th>3</th>\n",
       "      <td>image_4500.jpg</td>\n",
       "      <td>40977</td>\n",
       "      <td>720</td>\n",
       "      <td>720</td>\n",
       "    </tr>\n",
       "    <tr>\n",
       "      <th>4</th>\n",
       "      <td>image_3819.jpg</td>\n",
       "      <td>21254</td>\n",
       "      <td>225</td>\n",
       "      <td>316</td>\n",
       "    </tr>\n",
       "    <tr>\n",
       "      <th>...</th>\n",
       "      <td>...</td>\n",
       "      <td>...</td>\n",
       "      <td>...</td>\n",
       "      <td>...</td>\n",
       "    </tr>\n",
       "    <tr>\n",
       "      <th>6987</th>\n",
       "      <td>image_1255.jpg</td>\n",
       "      <td>107475</td>\n",
       "      <td>1024</td>\n",
       "      <td>768</td>\n",
       "    </tr>\n",
       "    <tr>\n",
       "      <th>6988</th>\n",
       "      <td>image_773.jpg</td>\n",
       "      <td>63966</td>\n",
       "      <td>625</td>\n",
       "      <td>439</td>\n",
       "    </tr>\n",
       "    <tr>\n",
       "      <th>6989</th>\n",
       "      <td>image_5568.jpg</td>\n",
       "      <td>72639</td>\n",
       "      <td>960</td>\n",
       "      <td>960</td>\n",
       "    </tr>\n",
       "    <tr>\n",
       "      <th>6990</th>\n",
       "      <td>image_1053.jpg</td>\n",
       "      <td>114875</td>\n",
       "      <td>700</td>\n",
       "      <td>466</td>\n",
       "    </tr>\n",
       "    <tr>\n",
       "      <th>6991</th>\n",
       "      <td>image_1874.jpg</td>\n",
       "      <td>51886</td>\n",
       "      <td>600</td>\n",
       "      <td>336</td>\n",
       "    </tr>\n",
       "  </tbody>\n",
       "</table>\n",
       "<p>6981 rows × 4 columns</p>\n",
       "</div>"
      ],
      "text/plain": [
       "               image    size  width  height\n",
       "0     image_1467.jpg  122310    728     728\n",
       "1     image_6363.jpg   40790    430     241\n",
       "2     image_3356.png  150774    500     567\n",
       "3     image_4500.jpg   40977    720     720\n",
       "4     image_3819.jpg   21254    225     316\n",
       "...              ...     ...    ...     ...\n",
       "6987  image_1255.jpg  107475   1024     768\n",
       "6988   image_773.jpg   63966    625     439\n",
       "6989  image_5568.jpg   72639    960     960\n",
       "6990  image_1053.jpg  114875    700     466\n",
       "6991  image_1874.jpg   51886    600     336\n",
       "\n",
       "[6981 rows x 4 columns]"
      ]
     },
     "execution_count": 9,
     "metadata": {},
     "output_type": "execute_result"
    }
   ],
   "source": [
    "# Selecting images with height and width less than 2500\n",
    "selected_images = df[(df['width'] < 2500) & (df['height'] < 2500)]\n",
    "selected_images"
   ]
  },
  {
   "cell_type": "markdown",
   "metadata": {},
   "source": [
    "#### Average Size for Resizing"
   ]
  },
  {
   "cell_type": "code",
   "execution_count": 10,
   "metadata": {},
   "outputs": [
    {
     "name": "stdout",
     "output_type": "stream",
     "text": [
      "Average Image Resolution:  (583, 543)\n",
      "Selected Image Resolution:  (150, 150)\n"
     ]
    }
   ],
   "source": [
    "# Select the Average Image Resolution\n",
    "def get_avg_resolution(df):\n",
    "    avg_width = df['width'].mean()\n",
    "    avg_height = df['height'].mean()\n",
    "    max_shape = (avg_width, avg_height)\n",
    "    # round the shape to the nearest 100\n",
    "    max_shape = (round(max_shape[0]), round(max_shape[1]))\n",
    "    print(\"Average Image Resolution: \", max_shape)\n",
    "    return max_shape\n",
    "max_shape = get_avg_resolution(selected_images)\n",
    "max_shape = (150,150)\n",
    "print(\"Selected Image Resolution: \", max_shape)"
   ]
  },
  {
   "cell_type": "markdown",
   "metadata": {},
   "source": [
    "#### Resizing"
   ]
  },
  {
   "cell_type": "code",
   "execution_count": 11,
   "metadata": {},
   "outputs": [],
   "source": [
    "# Resize the image to the max resolution\n",
    "def resize_images(images):\n",
    "    for image in images:\n",
    "        img = Image.open(image)\n",
    "        # check if mode is not RGB\n",
    "        if img.mode != 'RGB':\n",
    "            img = img.convert('RGB')\n",
    "        img = img.resize(max_shape, Image.ANTIALIAS)\n",
    "        img.save(image)\n",
    "\n",
    "# resize_images(selected_images['image'].to_list())"
   ]
  },
  {
   "cell_type": "markdown",
   "metadata": {},
   "source": [
    "#### Extrating Features by Canny Edge Detection Algorithm"
   ]
  },
  {
   "cell_type": "code",
   "execution_count": 12,
   "metadata": {},
   "outputs": [],
   "source": [
    "# Extracting the Image Features using Cannied Edge Detection Algorithm\n",
    "from skimage.feature import canny\n",
    "\n",
    "def extract_canny_features(images):\n",
    "    for image in images:\n",
    "        img = Image.open(image)\n",
    "        img = img.convert('L') # Convert to Grayscale\n",
    "        img = np.array(img)\n",
    "        edges = canny(img, sigma=3, low_threshold=10, high_threshold=50)\n",
    "        # edges = edges.astype(np.uint8) * 255 \n",
    "        save_img = Image.fromarray(edges)\n",
    "        save_img.save(image)\n",
    "\n",
    "# extract_canny_features(selected_images['image'].to_list())"
   ]
  },
  {
   "cell_type": "markdown",
   "metadata": {},
   "source": [
    "#### Making all images to .jpg"
   ]
  },
  {
   "cell_type": "code",
   "execution_count": 13,
   "metadata": {},
   "outputs": [],
   "source": [
    "# convert all to .jpg\n",
    "def convert_to_jpg(images):\n",
    "    for image in images:\n",
    "        img = Image.open(image)\n",
    "        image.replace('.png','.jpg')\n",
    "        image.replace('.jpeg','.jpg')\n",
    "        image.replace('.JPG','.jpg')\n",
    "        image.replace('.JPEG','.jpg')\n",
    "        image.replace('.PNG','.jpg')\n",
    "        img.save(image)\n",
    "\n",
    "convert_to_jpg(selected_images['image'].to_list())"
   ]
  },
  {
   "cell_type": "markdown",
   "metadata": {},
   "source": [
    "#### Selecting the Label Column"
   ]
  },
  {
   "cell_type": "code",
   "execution_count": 14,
   "metadata": {},
   "outputs": [],
   "source": [
    "# Label Column \n",
    "label_path = label_xlsx_path\n",
    "df_label = pd.read_excel(label_path)\n",
    "df_label.head()\n",
    "df_label.drop(columns=['Unnamed: 0'], inplace=True)\n",
    "\n",
    "# select overall_sentiment column and replace 'positive' and 'negative' with int(1) and int(0)\n",
    "df_label['overall_sentiment'] = df_label['overall_sentiment'].replace(['positive', 'negative'], [1, 0])\n",
    "df_label['overall_sentiment'] = df_label['overall_sentiment'].replace(['very_positive', 'very_negative'], [1, 0])\n",
    "df_label['overall_sentiment'] = df_label['overall_sentiment'].replace(['neutral'], [2])\n",
    "df_label['overall_sentiment'] = df_label['overall_sentiment'].astype(int)\n",
    "\n",
    "# Humour Column\n",
    "df_label['humour'] = df_label['humour'].replace(['funny', 'very_funny', 'hilarious'], [1, 1, 1])\n",
    "df_label['humour'] = df_label['humour'].replace(['not_funny'], [0])\n",
    "df_label['humour'] = df_label['humour'].astype(int)\n",
    "\n",
    "# Sarcasm Column\n",
    "df_label['sarcasm'] = df_label['sarcasm'].replace(['general', 'very_twisted', 'twisted_meaning'], [1, 1, 1])\n",
    "df_label['sarcasm'] = df_label['sarcasm'].replace(['not_sarcastic'], [0])\n",
    "df_label['sarcasm'] = df_label['sarcasm'].astype(int)\n",
    "\n",
    "# Offensive Column\n",
    "df_label['offensive'] = df_label['offensive'].replace(['very_offensive', 'slight', 'hateful_offensive'], [1, 1, 1])\n",
    "df_label['offensive'] = df_label['offensive'].replace(['not_offensive'], [0])\n",
    "df_label['offensive'] = df_label['offensive'].astype(int)\n",
    "\n",
    "# Motivational Column\n",
    "df_label['motivational'] = df_label['motivational'].replace(['not_motivational', 'motivational'] , [0, 1])\n",
    "df_label['motivational'] = df_label['motivational'].astype(int)"
   ]
  },
  {
   "cell_type": "markdown",
   "metadata": {},
   "source": [
    "#### Deleting Rows of the Oversized Images and Replacing NaNof text_corrected to text"
   ]
  },
  {
   "cell_type": "code",
   "execution_count": 15,
   "metadata": {},
   "outputs": [
    {
     "name": "stdout",
     "output_type": "stream",
     "text": [
      "Images in Folder:  6981\n",
      "Length of DF:  6981\n"
     ]
    }
   ],
   "source": [
    "# delete images from folder that are not in selected_images\n",
    "for image in images:\n",
    "    if image not in selected_images['image'].to_list():\n",
    "        os.remove(image)\n",
    "images = os.listdir(path)\n",
    "\n",
    "os.chdir(path)\n",
    "images = os.listdir(os.getcwd())\n",
    "print(\"Images in Folder: \", len(images))\n",
    "\n",
    "df_label = df_label[df_label['image_name'].isin(selected_images['image'].to_list())]\n",
    "print(\"Length of DF: \", len(df_label))"
   ]
  },
  {
   "cell_type": "code",
   "execution_count": 16,
   "metadata": {},
   "outputs": [
    {
     "data": {
      "text/html": [
       "<div>\n",
       "<style scoped>\n",
       "    .dataframe tbody tr th:only-of-type {\n",
       "        vertical-align: middle;\n",
       "    }\n",
       "\n",
       "    .dataframe tbody tr th {\n",
       "        vertical-align: top;\n",
       "    }\n",
       "\n",
       "    .dataframe thead th {\n",
       "        text-align: right;\n",
       "    }\n",
       "</style>\n",
       "<table border=\"1\" class=\"dataframe\">\n",
       "  <thead>\n",
       "    <tr style=\"text-align: right;\">\n",
       "      <th></th>\n",
       "      <th>image_name</th>\n",
       "      <th>text_ocr</th>\n",
       "      <th>text_corrected</th>\n",
       "      <th>humour</th>\n",
       "      <th>sarcasm</th>\n",
       "      <th>offensive</th>\n",
       "      <th>motivational</th>\n",
       "      <th>overall_sentiment</th>\n",
       "    </tr>\n",
       "  </thead>\n",
       "  <tbody>\n",
       "    <tr>\n",
       "      <th>0</th>\n",
       "      <td>image_1.jpg</td>\n",
       "      <td>LOOK THERE MY FRIEND LIGHTYEAR NOW ALL SOHALIK...</td>\n",
       "      <td>LOOK THERE MY FRIEND LIGHTYEAR NOW ALL SOHALIK...</td>\n",
       "      <td>1</td>\n",
       "      <td>1</td>\n",
       "      <td>0</td>\n",
       "      <td>0</td>\n",
       "      <td>1</td>\n",
       "    </tr>\n",
       "    <tr>\n",
       "      <th>1</th>\n",
       "      <td>image_2.jpeg</td>\n",
       "      <td>The best of #10 YearChallenge! Completed in le...</td>\n",
       "      <td>The best of #10 YearChallenge! Completed in le...</td>\n",
       "      <td>0</td>\n",
       "      <td>1</td>\n",
       "      <td>0</td>\n",
       "      <td>1</td>\n",
       "      <td>1</td>\n",
       "    </tr>\n",
       "    <tr>\n",
       "      <th>2</th>\n",
       "      <td>image_3.JPG</td>\n",
       "      <td>Sam Thorne @Strippin ( Follow Follow Saw every...</td>\n",
       "      <td>Sam Thorne @Strippin ( Follow Follow Saw every...</td>\n",
       "      <td>1</td>\n",
       "      <td>0</td>\n",
       "      <td>0</td>\n",
       "      <td>0</td>\n",
       "      <td>1</td>\n",
       "    </tr>\n",
       "    <tr>\n",
       "      <th>3</th>\n",
       "      <td>image_4.png</td>\n",
       "      <td>10 Year Challenge - Sweet Dee Edition</td>\n",
       "      <td>10 Year Challenge - Sweet Dee Edition</td>\n",
       "      <td>1</td>\n",
       "      <td>1</td>\n",
       "      <td>1</td>\n",
       "      <td>1</td>\n",
       "      <td>1</td>\n",
       "    </tr>\n",
       "    <tr>\n",
       "      <th>4</th>\n",
       "      <td>image_5.png</td>\n",
       "      <td>10 YEAR CHALLENGE WITH NO FILTER 47 Hilarious ...</td>\n",
       "      <td>10 YEAR CHALLENGE WITH NO FILTER 47 Hilarious ...</td>\n",
       "      <td>1</td>\n",
       "      <td>1</td>\n",
       "      <td>1</td>\n",
       "      <td>0</td>\n",
       "      <td>2</td>\n",
       "    </tr>\n",
       "    <tr>\n",
       "      <th>...</th>\n",
       "      <td>...</td>\n",
       "      <td>...</td>\n",
       "      <td>...</td>\n",
       "      <td>...</td>\n",
       "      <td>...</td>\n",
       "      <td>...</td>\n",
       "      <td>...</td>\n",
       "      <td>...</td>\n",
       "    </tr>\n",
       "    <tr>\n",
       "      <th>6987</th>\n",
       "      <td>image_6988.jpg</td>\n",
       "      <td>Tuesday is Mardi Gras Wednesday is Valentine's...</td>\n",
       "      <td>Tuesday is Mardi Gras Wednesday is Valentine's...</td>\n",
       "      <td>1</td>\n",
       "      <td>1</td>\n",
       "      <td>1</td>\n",
       "      <td>1</td>\n",
       "      <td>2</td>\n",
       "    </tr>\n",
       "    <tr>\n",
       "      <th>6988</th>\n",
       "      <td>image_6989.jpg</td>\n",
       "      <td>MUST WATCH MOVIES OF 2017 ITI Chennai memes MA...</td>\n",
       "      <td>MUST WATCH MOVIES OF 2017 ITI Chennai memes MA...</td>\n",
       "      <td>1</td>\n",
       "      <td>1</td>\n",
       "      <td>0</td>\n",
       "      <td>0</td>\n",
       "      <td>2</td>\n",
       "    </tr>\n",
       "    <tr>\n",
       "      <th>6989</th>\n",
       "      <td>image_6990.png</td>\n",
       "      <td>LESS MORE TALKING PLANNING SODA JUNK FOOD COMP...</td>\n",
       "      <td>LESS MORE TALKING PLANNING SODA JUNK FOOD COMP...</td>\n",
       "      <td>1</td>\n",
       "      <td>1</td>\n",
       "      <td>1</td>\n",
       "      <td>0</td>\n",
       "      <td>1</td>\n",
       "    </tr>\n",
       "    <tr>\n",
       "      <th>6990</th>\n",
       "      <td>image_6991.jpg</td>\n",
       "      <td>When I VERY have time is a fantasy No one has ...</td>\n",
       "      <td>When I have time is a fantasy. no one has time...</td>\n",
       "      <td>0</td>\n",
       "      <td>1</td>\n",
       "      <td>0</td>\n",
       "      <td>1</td>\n",
       "      <td>1</td>\n",
       "    </tr>\n",
       "    <tr>\n",
       "      <th>6991</th>\n",
       "      <td>image_6992.jpg</td>\n",
       "      <td>The starting point for every good idea is \"Wha...</td>\n",
       "      <td>The starting point for every good idea is \"Wha...</td>\n",
       "      <td>0</td>\n",
       "      <td>0</td>\n",
       "      <td>0</td>\n",
       "      <td>1</td>\n",
       "      <td>1</td>\n",
       "    </tr>\n",
       "  </tbody>\n",
       "</table>\n",
       "<p>6981 rows × 8 columns</p>\n",
       "</div>"
      ],
      "text/plain": [
       "          image_name                                           text_ocr  \\\n",
       "0        image_1.jpg  LOOK THERE MY FRIEND LIGHTYEAR NOW ALL SOHALIK...   \n",
       "1       image_2.jpeg  The best of #10 YearChallenge! Completed in le...   \n",
       "2        image_3.JPG  Sam Thorne @Strippin ( Follow Follow Saw every...   \n",
       "3        image_4.png              10 Year Challenge - Sweet Dee Edition   \n",
       "4        image_5.png  10 YEAR CHALLENGE WITH NO FILTER 47 Hilarious ...   \n",
       "...              ...                                                ...   \n",
       "6987  image_6988.jpg  Tuesday is Mardi Gras Wednesday is Valentine's...   \n",
       "6988  image_6989.jpg  MUST WATCH MOVIES OF 2017 ITI Chennai memes MA...   \n",
       "6989  image_6990.png  LESS MORE TALKING PLANNING SODA JUNK FOOD COMP...   \n",
       "6990  image_6991.jpg  When I VERY have time is a fantasy No one has ...   \n",
       "6991  image_6992.jpg  The starting point for every good idea is \"Wha...   \n",
       "\n",
       "                                         text_corrected  humour  sarcasm  \\\n",
       "0     LOOK THERE MY FRIEND LIGHTYEAR NOW ALL SOHALIK...       1        1   \n",
       "1     The best of #10 YearChallenge! Completed in le...       0        1   \n",
       "2     Sam Thorne @Strippin ( Follow Follow Saw every...       1        0   \n",
       "3                 10 Year Challenge - Sweet Dee Edition       1        1   \n",
       "4     10 YEAR CHALLENGE WITH NO FILTER 47 Hilarious ...       1        1   \n",
       "...                                                 ...     ...      ...   \n",
       "6987  Tuesday is Mardi Gras Wednesday is Valentine's...       1        1   \n",
       "6988  MUST WATCH MOVIES OF 2017 ITI Chennai memes MA...       1        1   \n",
       "6989  LESS MORE TALKING PLANNING SODA JUNK FOOD COMP...       1        1   \n",
       "6990  When I have time is a fantasy. no one has time...       0        1   \n",
       "6991  The starting point for every good idea is \"Wha...       0        0   \n",
       "\n",
       "      offensive  motivational  overall_sentiment  \n",
       "0             0             0                  1  \n",
       "1             0             1                  1  \n",
       "2             0             0                  1  \n",
       "3             1             1                  1  \n",
       "4             1             0                  2  \n",
       "...         ...           ...                ...  \n",
       "6987          1             1                  2  \n",
       "6988          0             0                  2  \n",
       "6989          1             0                  1  \n",
       "6990          0             1                  1  \n",
       "6991          0             1                  1  \n",
       "\n",
       "[6981 rows x 8 columns]"
      ]
     },
     "execution_count": 16,
     "metadata": {},
     "output_type": "execute_result"
    }
   ],
   "source": [
    "df_label"
   ]
  },
  {
   "cell_type": "code",
   "execution_count": 17,
   "metadata": {},
   "outputs": [
    {
     "name": "stdout",
     "output_type": "stream",
     "text": [
      "Images in Folder:  6981\n",
      "Length of DF:  6981\n"
     ]
    }
   ],
   "source": [
    "# delete images from folder that are not in selected_images\n",
    "for image in images:\n",
    "    if image not in selected_images['image'].to_list():\n",
    "        try:\n",
    "            os.remove(image)\n",
    "        except:\n",
    "            print(\"File not found\")\n",
    "\n",
    "os.chdir(path)\n",
    "images = os.listdir(os.getcwd())\n",
    "print(\"Images in Folder: \", len(images))\n",
    "\n",
    "df_label = df_label[df_label['image_name'].isin(selected_images['image'].to_list())]\n",
    "print(\"Length of DF: \", len(df_label))"
   ]
  },
  {
   "cell_type": "code",
   "execution_count": 18,
   "metadata": {},
   "outputs": [],
   "source": [
    "# Create a new dataframe with the images in the images folder\n",
    "def create_df_images(df_label):\n",
    "    new_df = pd.DataFrame(columns=['image_name', 'text_ocr', 'text_corrected', 'humour', 'sarcasm', 'offensive', 'motivational', 'overall_sentiment'])\n",
    "    for i in images:\n",
    "        new_df = new_df.append({'image_name': i, 'text_ocr': df_label.loc[df_label['image_name'] == i, 'text_ocr'].values[0], 'text_corrected': df_label.loc[df_label['image_name'] == i, 'text_corrected'].values[0], 'humour': df_label.loc[df_label['image_name'] == i, 'humour'].values[0], 'sarcasm': df_label.loc[df_label['image_name'] == i, 'sarcasm'].values[0], 'offensive': df_label.loc[df_label['image_name'] == i, 'offensive'].values[0], 'motivational': df_label.loc[df_label['image_name'] == i, 'motivational'].values[0], 'overall_sentiment': df_label.loc[df_label['image_name'] == i, 'overall_sentiment'].values[0]}, ignore_index=True)\n",
    "\n",
    "    return new_df\n",
    "\n",
    "# new_df = create_df_images(df_label)\n",
    "\n",
    "# df_label = new_df\n",
    "# df_label.head()"
   ]
  },
  {
   "cell_type": "code",
   "execution_count": 19,
   "metadata": {},
   "outputs": [],
   "source": [
    "# df_label.to_csv(labels_path_part2)\n",
    "df_label = pd.read_csv(labels_path_part2)"
   ]
  },
  {
   "cell_type": "markdown",
   "metadata": {},
   "source": [
    "#### Function that return the original name of the augmented images"
   ]
  },
  {
   "cell_type": "code",
   "execution_count": 20,
   "metadata": {},
   "outputs": [],
   "source": [
    "def if_augmented_img_replace_name(img):\n",
    "    if \"flip\" or \"topdown\" or \"rotate_ninty\" or \"rotate_oneighty\" or \"flip_diagonal\" or \"flip_diagonal_oneighty\" or \"flip_diagonal_twoseventy\" in img:\n",
    "        img  = img.replace('_flip.jpg', '.jpg')\n",
    "        img  = img.replace('_topdown.jpg', '.jpg')\n",
    "        img  = img.replace('_rotate_ninty.jpg', '.jpg')\n",
    "        img  = img.replace('_rotate_oneighty.jpg', '.jpg')\n",
    "        img  = img.replace('_flip_diagonal.jpg', '.jpg')\n",
    "        img  = img.replace('_flip_diagonal_oneighty.jpg', '.jpg')\n",
    "        img  = img.replace('_flip_diagonal_twoseventy.jpg', '.jpg')\n",
    "        img = img.replace('_flip_diagonal_twoseventy_oneighty.jpg', '.jpg')\n",
    "        img = img.replace('_flip_diagonal_twoseventy_twoseventy.jpg', '.jpg')\n",
    "        img = img.replace('_flip_diagonal_twoseventy_twoseventy_oneighty.jpg', '.jpg')\n",
    "    return img"
   ]
  },
  {
   "cell_type": "markdown",
   "metadata": {},
   "source": [
    "#### Get Image Features"
   ]
  },
  {
   "cell_type": "code",
   "execution_count": 21,
   "metadata": {},
   "outputs": [
    {
     "name": "stdout",
     "output_type": "stream",
     "text": [
      "tensor([ 0.,  0.,  0.,  ..., 11., 22.,  0.])\n"
     ]
    }
   ],
   "source": [
    "# Get Image Features\n",
    "\n",
    "def get_image_features(image_name):\n",
    "    img = Image.open(image_name)\n",
    "    img = np.array(img)\n",
    "    img = img.flatten()\n",
    "    # label = df_label[df_label['image_name'] == image_name]['overall_sentiment'].values[0]\n",
    "    img = torch.from_numpy(img).float()\n",
    "    # label = torch.from_numpy(np.array(label)).long()\n",
    "    return img\n",
    "\n",
    "x = get_image_features('image_8.jpg')\n",
    "print(x)"
   ]
  },
  {
   "cell_type": "markdown",
   "metadata": {},
   "source": [
    "#### Get Label as Tensor"
   ]
  },
  {
   "cell_type": "code",
   "execution_count": 22,
   "metadata": {},
   "outputs": [
    {
     "name": "stdout",
     "output_type": "stream",
     "text": [
      "tensor([[1., 1., 0., 0.]])\n"
     ]
    }
   ],
   "source": [
    "# Get Label Features\n",
    "\n",
    "def get_label_features(image_name):\n",
    "\n",
    "    output_label_cols = ['humour', 'sarcasm', 'offensive', 'motivational']\n",
    "    labels = df_label[df_label['image_name'] == image_name][output_label_cols].values.tolist()\n",
    "    labels = torch.tensor(labels)\n",
    "    labels = labels.float()\n",
    "    return labels\n",
    "\n",
    "print(get_label_features('image_8.jpg'))"
   ]
  },
  {
   "cell_type": "markdown",
   "metadata": {},
   "source": [
    "### Text - Preprocessing"
   ]
  },
  {
   "cell_type": "code",
   "execution_count": 23,
   "metadata": {},
   "outputs": [],
   "source": [
    "replace_NaN_with = [\"CHALLENGE ACCEPTED! Friend: You can't honestly watch How I Met Your Mother again for like the 4th time.. Me:\" ,\"I'M GONNA BUILD SOME FANCY WALLS EVEN THOUGHIHAVE MILLIONS OF EXTRA DOLLARS IN GONNA MAKE THE MEXICANS PAY FORIT\"\n",
    "       ,\"IF DONALD AND HILLARY ARE TOGETHER ON A BOAT IN THE MIDDLE OF THE OCEAN AND IT SINKS. WHO SURVIVES? AMERICA\"\n",
    "       ,\"Bruh why this tub of margarine look like Donald Trump?\"\n",
    "       ,\"2016 ELECTION TRUMPS HILIARY STILL'A BETTER LOVE STORY THAN TWILIGHT\"]\n",
    "\n",
    "df_label[df_label['text_corrected'].isna()]\n",
    "df_label.loc[df_label['text_corrected'].isna(), 'text_corrected'] = replace_NaN_with"
   ]
  },
  {
   "cell_type": "markdown",
   "metadata": {},
   "source": [
    "#### Loading Glove Model"
   ]
  },
  {
   "cell_type": "code",
   "execution_count": 24,
   "metadata": {},
   "outputs": [
    {
     "name": "stdout",
     "output_type": "stream",
     "text": [
      "Loading Glove Model\n",
      "Done. 400000  words loaded!\n"
     ]
    }
   ],
   "source": [
    "# Loading Glove\n",
    "def load_glove_model(glove_file):\n",
    "    print(\"Loading Glove Model\")\n",
    "    f = open(glove_file, encoding=\"utf8\")\n",
    "    model = {}\n",
    "    for line in f:\n",
    "        splitLine = line.split()\n",
    "        word = splitLine[0]\n",
    "        embedding = np.array([float(val) for val in splitLine[1:]])\n",
    "        model[word] = embedding\n",
    "    print(\"Done.\", len(model), \" words loaded!\")\n",
    "    return model\n",
    "\n",
    "glove_model = load_glove_model(glove_file)\n",
    "\n",
    "# Reference: https://www.kaggle.com/jamesmcguigan/word-embeddings-for-sentiment-analysis"
   ]
  },
  {
   "cell_type": "code",
   "execution_count": 25,
   "metadata": {},
   "outputs": [
    {
     "name": "stdout",
     "output_type": "stream",
     "text": [
      "100\n"
     ]
    }
   ],
   "source": [
    "x = glove_model['usman']\n",
    "# print(x)\n",
    "print(len(x))"
   ]
  },
  {
   "cell_type": "markdown",
   "metadata": {},
   "source": [
    "#### Get Text Features and Padding them according to the highest Vector Length"
   ]
  },
  {
   "cell_type": "code",
   "execution_count": 26,
   "metadata": {},
   "outputs": [
    {
     "name": "stdout",
     "output_type": "stream",
     "text": [
      "tensor([0.0868, 0.3431, 0.0153,  ..., 0.0000, 0.0000, 0.0000])\n",
      "20700\n"
     ]
    }
   ],
   "source": [
    "# Get Text Features \n",
    "max_len_feature_vector = 20700\n",
    "\n",
    "def get_text_features(image):\n",
    "    text = str(df_label[df_label['image_name'] == image]['text_corrected'].values[0])\n",
    "    text = text.lower()\n",
    "    tokens = word_tokenize(text)\n",
    "    features = np.zeros((1, 100))\n",
    "    for word in tokens:\n",
    "        try:\n",
    "            vec = glove_model[word]\n",
    "            features = np.vstack((features, vec)) # add the vector to the features, without vstack it will add the vector to the last row\n",
    "        except KeyError:\n",
    "            continue\n",
    "    # Flatten \n",
    "    features = features[1:] # remove the first row\n",
    "    features = features.flatten()\n",
    "    # Padding\n",
    "    features = np.pad(features, (0, max_len_feature_vector - len(features)), 'constant')\n",
    "    # make it a tensor and float for training the model\n",
    "    features = torch.from_numpy(features).float()\n",
    "    \n",
    "    return features\n",
    "\n",
    "t = get_text_features('image_8.jpg')\n",
    "print(t)\n",
    "print(len(t))"
   ]
  },
  {
   "cell_type": "markdown",
   "metadata": {},
   "source": [
    "### Create Datasets for Training, Testing, Validation"
   ]
  },
  {
   "cell_type": "code",
   "execution_count": 27,
   "metadata": {},
   "outputs": [
    {
     "name": "stdout",
     "output_type": "stream",
     "text": [
      "Label Count Should be:  1745 1745 1745\n",
      "2923\n"
     ]
    }
   ],
   "source": [
    "# Create the 80 percent images as train and 20 percent images as test\n",
    "def create_data(images ,df_label):\n",
    "    training_dataset = []\n",
    "    # Get the Proportion for 75% training images \n",
    "    train_size = int(len(df_label) * 0.75)\n",
    "    label_0_count = label_1_count = label_2_count = int(train_size / 3)\n",
    "    print (\"Label Count Should be: \", label_0_count, label_1_count, label_2_count)\n",
    "    for i in range(0, len(df_label)):\n",
    "        if label_0_count == 0 or label_1_count == 0 or label_2_count == 0:\n",
    "            break\n",
    "        label = df_label.iloc[i]['overall_sentiment']\n",
    "        if label == 0:\n",
    "            training_dataset.append(df_label.iloc[i]['image_name'])\n",
    "            label_0_count -= 1\n",
    "        elif label == 1:\n",
    "            training_dataset.append(df_label.iloc[i]['image_name'])\n",
    "            label_1_count -= 1\n",
    "        elif label == 2:\n",
    "            training_dataset.append(df_label.iloc[i]['image_name'])\n",
    "            label_2_count -= 1\n",
    "    # print (\"Label Count: \", label_0_count, label_1_count, label_2_count)\n",
    "    return training_dataset\n",
    "\n",
    "training_dataset = create_data(images, df_label)\n",
    "\n",
    "# Count the number of positive, negative and neutral images in the training set\n",
    "l0, l1, l3 = 0, 0, 0\n",
    "for i in range(0, len(training_dataset)):\n",
    "    if df_label.iloc[i]['overall_sentiment'] == 0:\n",
    "        l0 += 1\n",
    "    elif df_label.iloc[i]['overall_sentiment'] == 1:\n",
    "        l1 += 1\n",
    "    elif df_label.iloc[i]['overall_sentiment'] == 2:\n",
    "        l3 += 1\n",
    "# print (\"Final Label Count in Training Dataset: \", l0, l1, l3)\n",
    "print(len(training_dataset))"
   ]
  },
  {
   "cell_type": "code",
   "execution_count": 28,
   "metadata": {},
   "outputs": [
    {
     "name": "stdout",
     "output_type": "stream",
     "text": [
      "1000\n"
     ]
    }
   ],
   "source": [
    "def create_test_data(images ,df_label):\n",
    "    test_dataset = []\n",
    "    # Select Random 1000 images from the training dataset\n",
    "    for i in range(0, len(df_label)):\n",
    "        if len(test_dataset) == 1000:\n",
    "            break\n",
    "        # if the image is not in the training dataset\n",
    "        if df_label.iloc[i]['image_name'] not in training_dataset:\n",
    "            test_dataset.append(df_label.iloc[i]['image_name'])\n",
    "    return test_dataset\n",
    "\n",
    "test_images = create_test_data(images, df_label)\n",
    "print(len(test_images))\n"
   ]
  },
  {
   "cell_type": "markdown",
   "metadata": {},
   "source": [
    "#### Dataloader "
   ]
  },
  {
   "cell_type": "code",
   "execution_count": 29,
   "metadata": {},
   "outputs": [
    {
     "name": "stdout",
     "output_type": "stream",
     "text": [
      "{'image': tensor([ 3.,  0., 14.,  ...,  0.,  0.,  0.]), 'text': tensor([-0.0667,  0.1631,  0.3910,  ...,  0.0000,  0.0000,  0.0000]), 'labels': tensor([[1., 1., 0., 0.]])}\n"
     ]
    }
   ],
   "source": [
    "# Create a Dataset Loader having image_name as input and output_label_cols as output \n",
    "from torch.utils.data import Dataset, DataLoader\n",
    "from torchvision import transforms, utils\n",
    "\n",
    "class MultiLabelDataset(Dataset):\n",
    "    def __init__(self, images, df_label, transform=None):\n",
    "        self.images = images\n",
    "        self.df_label = df_label\n",
    "        self.transform = transform\n",
    "\n",
    "    def __len__(self):\n",
    "        return len(self.images)\n",
    "\n",
    "    def __getitem__(self, index):\n",
    "        image = self.images[index]\n",
    "        image_name = self.images[index]\n",
    "\n",
    "        img_f = get_image_features(image_name)\n",
    "    \n",
    "        text_f = get_text_features(image_name)\n",
    "\n",
    "        labels = get_label_features(image_name)\n",
    "\n",
    "        # return img_f, text_f, labels\n",
    "    \n",
    "        sample = {'image': img_f, 'text': text_f, 'labels': labels}\n",
    "#         sample = {'image': img_f.cuda(), 'text': text_f.cuda(), 'labels': labels.cuda()}\n",
    "        \n",
    "\n",
    "        return sample\n",
    "\n",
    "# Create a data loader for the training dataset\n",
    "train_dataset = MultiLabelDataset(training_dataset, df_label, transform=transforms.ToTensor())\n",
    "# train_loader = DataLoader(train_dataset, batch_size=30, shuffle=True)\n",
    "print((train_dataset.__getitem__(0)))"
   ]
  },
  {
   "cell_type": "code",
   "execution_count": 30,
   "metadata": {},
   "outputs": [],
   "source": [
    "# Make the data loader for the test dataset\n",
    "test_dataset = MultiLabelDataset(test_images, df_label, transform=transforms.ToTensor())\n"
   ]
  },
  {
   "cell_type": "markdown",
   "metadata": {},
   "source": [
    "## Multi Label Classification - Neural Network "
   ]
  },
  {
   "cell_type": "markdown",
   "metadata": {},
   "source": [
    "#### Create Model and Architecture"
   ]
  },
  {
   "cell_type": "code",
   "execution_count": 51,
   "metadata": {},
   "outputs": [
    {
     "name": "stdout",
     "output_type": "stream",
     "text": [
      "Parameters:  <bound method Module.parameters of MultiLabelClassification_NN(\n",
      "  (Image_NN): Sequential(\n",
      "    (0): Linear(in_features=22500, out_features=500, bias=True)\n",
      "    (1): ReLU()\n",
      "    (2): Linear(in_features=500, out_features=220, bias=True)\n",
      "    (3): ReLU()\n",
      "    (4): Linear(in_features=220, out_features=100, bias=True)\n",
      "  )\n",
      "  (Text_NN): Sequential(\n",
      "    (0): Linear(in_features=20700, out_features=450, bias=True)\n",
      "    (1): Sigmoid()\n",
      "    (2): Linear(in_features=450, out_features=250, bias=True)\n",
      "    (3): Sigmoid()\n",
      "    (4): Linear(in_features=250, out_features=150, bias=True)\n",
      "  )\n",
      "  (concatenate_NN): Sequential(\n",
      "    (0): Linear(in_features=250, out_features=120, bias=True)\n",
      "    (1): ReLU()\n",
      "    (2): Linear(in_features=120, out_features=100, bias=True)\n",
      "    (3): Sigmoid()\n",
      "    (4): Linear(in_features=100, out_features=80, bias=True)\n",
      "    (5): ReLU()\n",
      "    (6): Linear(in_features=80, out_features=50, bias=True)\n",
      "  )\n",
      "  (HumourLayers): Sequential(\n",
      "    (0): Linear(in_features=50, out_features=40, bias=True)\n",
      "    (1): ReLU()\n",
      "    (2): Linear(in_features=40, out_features=20, bias=True)\n",
      "    (3): Sigmoid()\n",
      "    (4): Linear(in_features=20, out_features=2, bias=True)\n",
      "    (5): Sigmoid()\n",
      "  )\n",
      "  (SarcasmLayers): Sequential(\n",
      "    (0): Linear(in_features=50, out_features=40, bias=True)\n",
      "    (1): ReLU()\n",
      "    (2): Linear(in_features=40, out_features=20, bias=True)\n",
      "    (3): Sigmoid()\n",
      "    (4): Linear(in_features=20, out_features=2, bias=True)\n",
      "    (5): Sigmoid()\n",
      "  )\n",
      "  (OffensiveLayers): Sequential(\n",
      "    (0): Linear(in_features=50, out_features=40, bias=True)\n",
      "    (1): ReLU()\n",
      "    (2): Linear(in_features=40, out_features=20, bias=True)\n",
      "    (3): Sigmoid()\n",
      "    (4): Linear(in_features=20, out_features=2, bias=True)\n",
      "    (5): Sigmoid()\n",
      "  )\n",
      "  (MotivationalLayers): Sequential(\n",
      "    (0): Linear(in_features=50, out_features=40, bias=True)\n",
      "    (1): ReLU()\n",
      "    (2): Linear(in_features=40, out_features=20, bias=True)\n",
      "    (3): Sigmoid()\n",
      "    (4): Linear(in_features=20, out_features=2, bias=True)\n",
      "    (5): Sigmoid()\n",
      "  )\n",
      ")>\n"
     ]
    }
   ],
   "source": [
    "class MultiLabelClassification_NN(nn.Module):\n",
    "    def __init__(self,  \n",
    "    Net1_input, Net1_hidden1, Net1_hidden2, Net1_hidden3,\n",
    "    Net2_input, Net2_hidden1, Net2_hidden2, Net2_hidden3,\n",
    "    concat_hidden1, concat_hidden2, concat_hidden3, output,\n",
    "    humour_hidden1, humour_hidden2, humour_hidden3,\n",
    "    sarcasm_hidden1, sarcasm_hidden2, sarcasm_hidden3,\n",
    "    offensive_hidden1, offensive_hidden2, offensive_hidden3,\n",
    "    motivational_hidden1, motivational_hidden2, motivational_hidden3):\n",
    "\n",
    "        super(MultiLabelClassification_NN, self).__init__()\n",
    "\n",
    "        self.Image_NN = nn.Sequential(\n",
    "            nn.Linear(Net1_input, Net1_hidden1),\n",
    "            nn.ReLU(),\n",
    "            nn.Linear(Net1_hidden1, Net1_hidden2),\n",
    "            nn.ReLU(),\n",
    "            nn.Linear(Net1_hidden2, Net1_hidden3)\n",
    "        )\n",
    "        \n",
    "        self.Text_NN = nn.Sequential(\n",
    "            nn.Linear(Net2_input, Net2_hidden1),\n",
    "            nn.Sigmoid(),\n",
    "            nn.Linear(Net2_hidden1, Net2_hidden2),\n",
    "            nn.Sigmoid(),\n",
    "            nn.Linear(Net2_hidden2, Net2_hidden3)\n",
    "        )\n",
    "\n",
    "        # Concatenate the two NN and perform a linear layer and a hidden layer then concat_hidden layer\n",
    "        self.concatenate_NN = nn.Sequential(\n",
    "            nn.Linear(Net1_hidden3 + Net2_hidden3, concat_hidden1),\n",
    "            nn.ReLU(),\n",
    "            nn.Linear(concat_hidden1, concat_hidden2),\n",
    "            nn.Sigmoid(),\n",
    "            nn.Linear(concat_hidden2, concat_hidden3),\n",
    "            nn.ReLU(),\n",
    "            nn.Linear(concat_hidden3, output)\n",
    "        )\n",
    "\n",
    "        self.HumourLayers = nn.Sequential(\n",
    "            nn.Linear(output, humour_hidden1),\n",
    "            nn.ReLU(),\n",
    "            nn.Linear(humour_hidden1, humour_hidden2),\n",
    "            nn.Sigmoid(),\n",
    "            nn.Linear(humour_hidden2, humour_hidden3),\n",
    "            nn.Sigmoid()\n",
    "        )\n",
    "\n",
    "        self.SarcasmLayers = nn.Sequential(\n",
    "            nn.Linear(output, sarcasm_hidden1),\n",
    "            nn.ReLU(),\n",
    "            nn.Linear(sarcasm_hidden1, sarcasm_hidden2),\n",
    "            nn.Sigmoid(),\n",
    "            nn.Linear(sarcasm_hidden2, sarcasm_hidden3),\n",
    "            nn.Sigmoid()\n",
    "        )\n",
    "\n",
    "        self.OffensiveLayers = nn.Sequential(\n",
    "            nn.Linear(output, offensive_hidden1),\n",
    "            nn.ReLU(),\n",
    "            nn.Linear(offensive_hidden1, offensive_hidden2),\n",
    "            nn.Sigmoid(),\n",
    "            nn.Linear(offensive_hidden2, offensive_hidden3),\n",
    "            nn.Sigmoid()\n",
    "        )\n",
    "\n",
    "        self.MotivationalLayers = nn.Sequential(\n",
    "            nn.Linear(output, motivational_hidden1),\n",
    "            nn.ReLU(),\n",
    "            nn.Linear(motivational_hidden1, motivational_hidden2),\n",
    "            nn.Sigmoid(),\n",
    "            nn.Linear(motivational_hidden2, motivational_hidden3),\n",
    "            nn.Sigmoid()\n",
    "        )\n",
    "\n",
    "    def forward(self, img_f, text_f):\n",
    "        img_f = self.Image_NN(img_f)\n",
    "        text_f = self.Text_NN(text_f)\n",
    "\n",
    "        # Concatenate the two NN\n",
    "        concat_f = torch.cat([img_f, text_f], 1)\n",
    "        concat_out = self.concatenate_NN(concat_f)\n",
    "\n",
    "        humour_out = self.HumourLayers(concat_out)\n",
    "        sarcasm_out = self.SarcasmLayers(concat_out)\n",
    "        offensive_out = self.OffensiveLayers(concat_out)\n",
    "        motivational_out = self.MotivationalLayers(concat_out)\n",
    "\n",
    "        return (humour_out, sarcasm_out, offensive_out, motivational_out)\n",
    "\n",
    "\n",
    "# Hyperparameters\n",
    "Net1_input = 150*150 # 400 * 400 = 160000\n",
    "Net1_hidden1 = 500\n",
    "Net1_hidden2 = 220\n",
    "Net1_hidden3 = 100\n",
    "Net2_input = 20700 # 20700\n",
    "Net2_hidden1 = 450\n",
    "Net2_hidden2 = 250\n",
    "Net2_hidden3 = 150\n",
    "concat_hidden1 = 120\n",
    "concat_hidden2 = 100\n",
    "concat_hidden3 = 80\n",
    "output = 50\n",
    "humour_hidden1 = 40\n",
    "humour_hidden2 = 20\n",
    "humour_hidden3 = 2\n",
    "sarcasm_hidden1 = 40\n",
    "sarcasm_hidden2 = 20\n",
    "sarcasm_hidden3 = 2\n",
    "offensive_hidden1 = 40\n",
    "offensive_hidden2 = 20\n",
    "offensive_hidden3 = 2\n",
    "motivational_hidden1 = 40\n",
    "motivational_hidden2 = 20\n",
    "motivational_hidden3 = 2\n",
    "\n",
    "model = MultiLabelClassification_NN(\n",
    "    Net1_input, Net1_hidden1, Net1_hidden2, Net1_hidden3,\n",
    "    Net2_input, Net2_hidden1, Net2_hidden2, Net2_hidden3,\n",
    "    concat_hidden1, concat_hidden2, concat_hidden3, output,\n",
    "    humour_hidden1, humour_hidden2, humour_hidden3,\n",
    "    sarcasm_hidden1, sarcasm_hidden2, sarcasm_hidden3,\n",
    "    offensive_hidden1, offensive_hidden2, offensive_hidden3,\n",
    "    motivational_hidden1, motivational_hidden2, motivational_hidden3)\n",
    "print(\"Parameters: \", model.parameters)"
   ]
  },
  {
   "cell_type": "markdown",
   "metadata": {},
   "source": [
    "#### Model Architecture - Visualization "
   ]
  },
  {
   "cell_type": "code",
   "execution_count": 49,
   "metadata": {},
   "outputs": [
    {
     "data": {
      "image/svg+xml": "<?xml version=\"1.0\" encoding=\"UTF-8\" standalone=\"no\"?>\n<!DOCTYPE svg PUBLIC \"-//W3C//DTD SVG 1.1//EN\"\n \"http://www.w3.org/Graphics/SVG/1.1/DTD/svg11.dtd\">\n<!-- Generated by graphviz version 2.43.0 (0)\n -->\n<!-- Title: %3 Pages: 1 -->\n<svg width=\"2030pt\" height=\"1458pt\"\n viewBox=\"0.00 0.00 2030.00 1458.00\" xmlns=\"http://www.w3.org/2000/svg\" xmlns:xlink=\"http://www.w3.org/1999/xlink\">\n<g id=\"graph0\" class=\"graph\" transform=\"scale(1 1) rotate(0) translate(4 1454)\">\n<title>%3</title>\n<polygon fill=\"white\" stroke=\"transparent\" points=\"-4,4 -4,-1454 2026,-1454 2026,4 -4,4\"/>\n<!-- 140671672583328 -->\n<g id=\"node1\" class=\"node\">\n<title>140671672583328</title>\n<polygon fill=\"#caff70\" stroke=\"black\" points=\"276,-31 217,-31 217,0 276,0 276,-31\"/>\n<text text-anchor=\"middle\" x=\"246.5\" y=\"-7\" font-family=\"monospace\" font-size=\"10.00\"> (1, 2)</text>\n</g>\n<!-- 140672310101712 -->\n<g id=\"node2\" class=\"node\">\n<title>140672310101712</title>\n<polygon fill=\"lightgrey\" stroke=\"black\" points=\"303,-86 190,-86 190,-67 303,-67 303,-86\"/>\n<text text-anchor=\"middle\" x=\"246.5\" y=\"-74\" font-family=\"monospace\" font-size=\"10.00\">SigmoidBackward0</text>\n</g>\n<!-- 140672310101712&#45;&gt;140671672583328 -->\n<g id=\"edge89\" class=\"edge\">\n<title>140672310101712&#45;&gt;140671672583328</title>\n<path fill=\"none\" stroke=\"black\" d=\"M246.5,-66.79C246.5,-60.07 246.5,-50.4 246.5,-41.34\"/>\n<polygon fill=\"black\" stroke=\"black\" points=\"250,-41.19 246.5,-31.19 243,-41.19 250,-41.19\"/>\n</g>\n<!-- 140672310102096 -->\n<g id=\"node3\" class=\"node\">\n<title>140672310102096</title>\n<polygon fill=\"lightgrey\" stroke=\"black\" points=\"297,-141 196,-141 196,-122 297,-122 297,-141\"/>\n<text text-anchor=\"middle\" x=\"246.5\" y=\"-129\" font-family=\"monospace\" font-size=\"10.00\">AddmmBackward0</text>\n</g>\n<!-- 140672310102096&#45;&gt;140672310101712 -->\n<g id=\"edge1\" class=\"edge\">\n<title>140672310102096&#45;&gt;140672310101712</title>\n<path fill=\"none\" stroke=\"black\" d=\"M246.5,-121.75C246.5,-114.8 246.5,-104.85 246.5,-96.13\"/>\n<polygon fill=\"black\" stroke=\"black\" points=\"250,-96.09 246.5,-86.09 243,-96.09 250,-96.09\"/>\n</g>\n<!-- 140672057971760 -->\n<g id=\"node4\" class=\"node\">\n<title>140672057971760</title>\n<polygon fill=\"lightgrey\" stroke=\"black\" points=\"168,-196 67,-196 67,-177 168,-177 168,-196\"/>\n<text text-anchor=\"middle\" x=\"117.5\" y=\"-184\" font-family=\"monospace\" font-size=\"10.00\">AccumulateGrad</text>\n</g>\n<!-- 140672057971760&#45;&gt;140672310102096 -->\n<g id=\"edge2\" class=\"edge\">\n<title>140672057971760&#45;&gt;140672310102096</title>\n<path fill=\"none\" stroke=\"black\" d=\"M138.23,-176.98C159.26,-168.34 192.05,-154.87 216.04,-145.02\"/>\n<polygon fill=\"black\" stroke=\"black\" points=\"217.48,-148.21 225.4,-141.17 214.82,-141.73 217.48,-148.21\"/>\n</g>\n<!-- 140672566590016 -->\n<g id=\"node5\" class=\"node\">\n<title>140672566590016</title>\n<polygon fill=\"lightblue\" stroke=\"black\" points=\"178,-262 47,-262 47,-232 178,-232 178,-262\"/>\n<text text-anchor=\"middle\" x=\"112.5\" y=\"-250\" font-family=\"monospace\" font-size=\"10.00\">HumourLayers.4.bias</text>\n<text text-anchor=\"middle\" x=\"112.5\" y=\"-239\" font-family=\"monospace\" font-size=\"10.00\"> (2)</text>\n</g>\n<!-- 140672566590016&#45;&gt;140672057971760 -->\n<g id=\"edge3\" class=\"edge\">\n<title>140672566590016&#45;&gt;140672057971760</title>\n<path fill=\"none\" stroke=\"black\" d=\"M113.71,-231.84C114.36,-224.21 115.17,-214.7 115.88,-206.45\"/>\n<polygon fill=\"black\" stroke=\"black\" points=\"119.39,-206.53 116.75,-196.27 112.41,-205.93 119.39,-206.53\"/>\n</g>\n<!-- 140672310103104 -->\n<g id=\"node6\" class=\"node\">\n<title>140672310103104</title>\n<polygon fill=\"lightgrey\" stroke=\"black\" points=\"303,-196 190,-196 190,-177 303,-177 303,-196\"/>\n<text text-anchor=\"middle\" x=\"246.5\" y=\"-184\" font-family=\"monospace\" font-size=\"10.00\">SigmoidBackward0</text>\n</g>\n<!-- 140672310103104&#45;&gt;140672310102096 -->\n<g id=\"edge4\" class=\"edge\">\n<title>140672310103104&#45;&gt;140672310102096</title>\n<path fill=\"none\" stroke=\"black\" d=\"M246.5,-176.75C246.5,-169.8 246.5,-159.85 246.5,-151.13\"/>\n<polygon fill=\"black\" stroke=\"black\" points=\"250,-151.09 246.5,-141.09 243,-151.09 250,-151.09\"/>\n</g>\n<!-- 140672083816608 -->\n<g id=\"node7\" class=\"node\">\n<title>140672083816608</title>\n<polygon fill=\"lightgrey\" stroke=\"black\" points=\"297,-256.5 196,-256.5 196,-237.5 297,-237.5 297,-256.5\"/>\n<text text-anchor=\"middle\" x=\"246.5\" y=\"-244.5\" font-family=\"monospace\" font-size=\"10.00\">AddmmBackward0</text>\n</g>\n<!-- 140672083816608&#45;&gt;140672310103104 -->\n<g id=\"edge5\" class=\"edge\">\n<title>140672083816608&#45;&gt;140672310103104</title>\n<path fill=\"none\" stroke=\"black\" d=\"M246.5,-237.37C246.5,-229.25 246.5,-216.81 246.5,-206.39\"/>\n<polygon fill=\"black\" stroke=\"black\" points=\"250,-206.17 246.5,-196.17 243,-206.17 250,-206.17\"/>\n</g>\n<!-- 140672057973584 -->\n<g id=\"node8\" class=\"node\">\n<title>140672057973584</title>\n<polygon fill=\"lightgrey\" stroke=\"black\" points=\"120,-322.5 19,-322.5 19,-303.5 120,-303.5 120,-322.5\"/>\n<text text-anchor=\"middle\" x=\"69.5\" y=\"-310.5\" font-family=\"monospace\" font-size=\"10.00\">AccumulateGrad</text>\n</g>\n<!-- 140672057973584&#45;&gt;140672083816608 -->\n<g id=\"edge6\" class=\"edge\">\n<title>140672057973584&#45;&gt;140672083816608</title>\n<path fill=\"none\" stroke=\"black\" d=\"M93.37,-303.37C124.2,-292.22 178.05,-272.75 212.98,-260.12\"/>\n<polygon fill=\"black\" stroke=\"black\" points=\"214.51,-263.29 222.73,-256.6 212.13,-256.71 214.51,-263.29\"/>\n</g>\n<!-- 140672566589856 -->\n<g id=\"node9\" class=\"node\">\n<title>140672566589856</title>\n<polygon fill=\"lightblue\" stroke=\"black\" points=\"131,-394 0,-394 0,-364 131,-364 131,-394\"/>\n<text text-anchor=\"middle\" x=\"65.5\" y=\"-382\" font-family=\"monospace\" font-size=\"10.00\">HumourLayers.2.bias</text>\n<text text-anchor=\"middle\" x=\"65.5\" y=\"-371\" font-family=\"monospace\" font-size=\"10.00\"> (20)</text>\n</g>\n<!-- 140672566589856&#45;&gt;140672057973584 -->\n<g id=\"edge7\" class=\"edge\">\n<title>140672566589856&#45;&gt;140672057973584</title>\n<path fill=\"none\" stroke=\"black\" d=\"M66.39,-363.8C66.96,-354.7 67.7,-342.79 68.32,-332.9\"/>\n<polygon fill=\"black\" stroke=\"black\" points=\"71.82,-333.04 68.95,-322.84 64.83,-332.61 71.82,-333.04\"/>\n</g>\n<!-- 140672083818624 -->\n<g id=\"node10\" class=\"node\">\n<title>140672083818624</title>\n<polygon fill=\"lightgrey\" stroke=\"black\" points=\"242,-322.5 147,-322.5 147,-303.5 242,-303.5 242,-322.5\"/>\n<text text-anchor=\"middle\" x=\"194.5\" y=\"-310.5\" font-family=\"monospace\" font-size=\"10.00\">ReluBackward0</text>\n</g>\n<!-- 140672083818624&#45;&gt;140672083816608 -->\n<g id=\"edge8\" class=\"edge\">\n<title>140672083818624&#45;&gt;140672083816608</title>\n<path fill=\"none\" stroke=\"black\" d=\"M201.51,-303.37C209.53,-293.5 222.85,-277.11 232.92,-264.72\"/>\n<polygon fill=\"black\" stroke=\"black\" points=\"235.67,-266.87 239.26,-256.91 230.24,-262.46 235.67,-266.87\"/>\n</g>\n<!-- 140672058464672 -->\n<g id=\"node11\" class=\"node\">\n<title>140672058464672</title>\n<polygon fill=\"lightgrey\" stroke=\"black\" points=\"250,-388.5 149,-388.5 149,-369.5 250,-369.5 250,-388.5\"/>\n<text text-anchor=\"middle\" x=\"199.5\" y=\"-376.5\" font-family=\"monospace\" font-size=\"10.00\">AddmmBackward0</text>\n</g>\n<!-- 140672058464672&#45;&gt;140672083818624 -->\n<g id=\"edge9\" class=\"edge\">\n<title>140672058464672&#45;&gt;140672083818624</title>\n<path fill=\"none\" stroke=\"black\" d=\"M198.83,-369.37C198.1,-360.07 196.92,-344.98 195.98,-332.9\"/>\n<polygon fill=\"black\" stroke=\"black\" points=\"199.46,-332.6 195.2,-322.91 192.49,-333.15 199.46,-332.6\"/>\n</g>\n<!-- 140672058464480 -->\n<g id=\"node12\" class=\"node\">\n<title>140672058464480</title>\n<polygon fill=\"lightgrey\" stroke=\"black\" points=\"250,-454.5 149,-454.5 149,-435.5 250,-435.5 250,-454.5\"/>\n<text text-anchor=\"middle\" x=\"199.5\" y=\"-442.5\" font-family=\"monospace\" font-size=\"10.00\">AccumulateGrad</text>\n</g>\n<!-- 140672058464480&#45;&gt;140672058464672 -->\n<g id=\"edge10\" class=\"edge\">\n<title>140672058464480&#45;&gt;140672058464672</title>\n<path fill=\"none\" stroke=\"black\" d=\"M199.5,-435.37C199.5,-426.16 199.5,-411.29 199.5,-399.27\"/>\n<polygon fill=\"black\" stroke=\"black\" points=\"203,-398.91 199.5,-388.91 196,-398.91 203,-398.91\"/>\n</g>\n<!-- 140672566589696 -->\n<g id=\"node13\" class=\"node\">\n<title>140672566589696</title>\n<polygon fill=\"lightblue\" stroke=\"black\" points=\"272,-526 141,-526 141,-496 272,-496 272,-526\"/>\n<text text-anchor=\"middle\" x=\"206.5\" y=\"-514\" font-family=\"monospace\" font-size=\"10.00\">HumourLayers.0.bias</text>\n<text text-anchor=\"middle\" x=\"206.5\" y=\"-503\" font-family=\"monospace\" font-size=\"10.00\"> (40)</text>\n</g>\n<!-- 140672566589696&#45;&gt;140672058464480 -->\n<g id=\"edge11\" class=\"edge\">\n<title>140672566589696&#45;&gt;140672058464480</title>\n<path fill=\"none\" stroke=\"black\" d=\"M204.95,-495.8C203.95,-486.7 202.65,-474.79 201.57,-464.9\"/>\n<polygon fill=\"black\" stroke=\"black\" points=\"205.03,-464.4 200.47,-454.84 198.08,-465.17 205.03,-464.4\"/>\n</g>\n<!-- 140672083819968 -->\n<g id=\"node14\" class=\"node\">\n<title>140672083819968</title>\n<polygon fill=\"lightgrey\" stroke=\"black\" points=\"853,-454.5 752,-454.5 752,-435.5 853,-435.5 853,-454.5\"/>\n<text text-anchor=\"middle\" x=\"802.5\" y=\"-442.5\" font-family=\"monospace\" font-size=\"10.00\">AddmmBackward0</text>\n</g>\n<!-- 140672083819968&#45;&gt;140672058464672 -->\n<g id=\"edge12\" class=\"edge\">\n<title>140672083819968&#45;&gt;140672058464672</title>\n<path fill=\"none\" stroke=\"black\" d=\"M765.24,-435.45C755.29,-433.41 744.53,-431.41 734.5,-430 529.25,-401.04 474.83,-422.38 269.5,-394 262.57,-393.04 255.3,-391.83 248.16,-390.51\"/>\n<polygon fill=\"black\" stroke=\"black\" points=\"248.35,-386.99 237.87,-388.54 247.03,-393.86 248.35,-386.99\"/>\n</g>\n<!-- 140672166939808 -->\n<g id=\"node101\" class=\"node\">\n<title>140672166939808</title>\n<polygon fill=\"lightgrey\" stroke=\"black\" points=\"733,-388.5 632,-388.5 632,-369.5 733,-369.5 733,-388.5\"/>\n<text text-anchor=\"middle\" x=\"682.5\" y=\"-376.5\" font-family=\"monospace\" font-size=\"10.00\">AddmmBackward0</text>\n</g>\n<!-- 140672083819968&#45;&gt;140672166939808 -->\n<g id=\"edge101\" class=\"edge\">\n<title>140672083819968&#45;&gt;140672166939808</title>\n<path fill=\"none\" stroke=\"black\" d=\"M786.32,-435.37C766.19,-424.63 731.59,-406.18 707.91,-393.55\"/>\n<polygon fill=\"black\" stroke=\"black\" points=\"709.28,-390.32 698.81,-388.7 705.99,-396.49 709.28,-390.32\"/>\n</g>\n<!-- 140672083707600 -->\n<g id=\"node123\" class=\"node\">\n<title>140672083707600</title>\n<polygon fill=\"lightgrey\" stroke=\"black\" points=\"1227,-388.5 1126,-388.5 1126,-369.5 1227,-369.5 1227,-388.5\"/>\n<text text-anchor=\"middle\" x=\"1176.5\" y=\"-376.5\" font-family=\"monospace\" font-size=\"10.00\">AddmmBackward0</text>\n</g>\n<!-- 140672083819968&#45;&gt;140672083707600 -->\n<g id=\"edge123\" class=\"edge\">\n<title>140672083819968&#45;&gt;140672083707600</title>\n<path fill=\"none\" stroke=\"black\" d=\"M836.66,-435.48C845.07,-433.53 854.09,-431.57 862.5,-430 975.01,-408.98 1005.03,-415.24 1117.5,-394 1122.54,-393.05 1127.8,-391.95 1133.02,-390.8\"/>\n<polygon fill=\"black\" stroke=\"black\" points=\"1133.95,-394.18 1142.92,-388.54 1132.39,-387.35 1133.95,-394.18\"/>\n</g>\n<!-- 140672083706160 -->\n<g id=\"node145\" class=\"node\">\n<title>140672083706160</title>\n<polygon fill=\"lightgrey\" stroke=\"black\" points=\"1711,-388.5 1610,-388.5 1610,-369.5 1711,-369.5 1711,-388.5\"/>\n<text text-anchor=\"middle\" x=\"1660.5\" y=\"-376.5\" font-family=\"monospace\" font-size=\"10.00\">AddmmBackward0</text>\n</g>\n<!-- 140672083819968&#45;&gt;140672083706160 -->\n<g id=\"edge145\" class=\"edge\">\n<title>140672083819968&#45;&gt;140672083706160</title>\n<path fill=\"none\" stroke=\"black\" d=\"M834.37,-435.44C843.4,-433.32 853.28,-431.29 862.5,-430 1188.16,-384.45 1275.92,-440.16 1601.5,-394 1607.31,-393.18 1613.39,-392.05 1619.34,-390.79\"/>\n<polygon fill=\"black\" stroke=\"black\" points=\"1620.18,-394.18 1629.17,-388.57 1618.64,-387.36 1620.18,-394.18\"/>\n</g>\n<!-- 140672083819440 -->\n<g id=\"node15\" class=\"node\">\n<title>140672083819440</title>\n<polygon fill=\"lightgrey\" stroke=\"black\" points=\"825,-520.5 724,-520.5 724,-501.5 825,-501.5 825,-520.5\"/>\n<text text-anchor=\"middle\" x=\"774.5\" y=\"-508.5\" font-family=\"monospace\" font-size=\"10.00\">AccumulateGrad</text>\n</g>\n<!-- 140672083819440&#45;&gt;140672083819968 -->\n<g id=\"edge13\" class=\"edge\">\n<title>140672083819440&#45;&gt;140672083819968</title>\n<path fill=\"none\" stroke=\"black\" d=\"M778.28,-501.37C782.43,-491.88 789.22,-476.36 794.55,-464.16\"/>\n<polygon fill=\"black\" stroke=\"black\" points=\"797.8,-465.47 798.6,-454.91 791.39,-462.66 797.8,-465.47\"/>\n</g>\n<!-- 140672566589536 -->\n<g id=\"node16\" class=\"node\">\n<title>140672566589536</title>\n<polygon fill=\"lightblue\" stroke=\"black\" points=\"822,-592 679,-592 679,-562 822,-562 822,-592\"/>\n<text text-anchor=\"middle\" x=\"750.5\" y=\"-580\" font-family=\"monospace\" font-size=\"10.00\">concatenate_NN.6.bias</text>\n<text text-anchor=\"middle\" x=\"750.5\" y=\"-569\" font-family=\"monospace\" font-size=\"10.00\"> (50)</text>\n</g>\n<!-- 140672566589536&#45;&gt;140672083819440 -->\n<g id=\"edge14\" class=\"edge\">\n<title>140672566589536&#45;&gt;140672083819440</title>\n<path fill=\"none\" stroke=\"black\" d=\"M755.83,-561.8C759.31,-552.5 763.9,-540.27 767.65,-530.26\"/>\n<polygon fill=\"black\" stroke=\"black\" points=\"770.95,-531.44 771.18,-520.84 764.39,-528.98 770.95,-531.44\"/>\n</g>\n<!-- 140672083819296 -->\n<g id=\"node17\" class=\"node\">\n<title>140672083819296</title>\n<polygon fill=\"lightgrey\" stroke=\"black\" points=\"938,-520.5 843,-520.5 843,-501.5 938,-501.5 938,-520.5\"/>\n<text text-anchor=\"middle\" x=\"890.5\" y=\"-508.5\" font-family=\"monospace\" font-size=\"10.00\">ReluBackward0</text>\n</g>\n<!-- 140672083819296&#45;&gt;140672083819968 -->\n<g id=\"edge15\" class=\"edge\">\n<title>140672083819296&#45;&gt;140672083819968</title>\n<path fill=\"none\" stroke=\"black\" d=\"M878.63,-501.37C864.33,-490.97 840.07,-473.32 822.78,-460.75\"/>\n<polygon fill=\"black\" stroke=\"black\" points=\"824.61,-457.75 814.46,-454.7 820.49,-463.41 824.61,-457.75\"/>\n</g>\n<!-- 140672083817424 -->\n<g id=\"node18\" class=\"node\">\n<title>140672083817424</title>\n<polygon fill=\"lightgrey\" stroke=\"black\" points=\"941,-586.5 840,-586.5 840,-567.5 941,-567.5 941,-586.5\"/>\n<text text-anchor=\"middle\" x=\"890.5\" y=\"-574.5\" font-family=\"monospace\" font-size=\"10.00\">AddmmBackward0</text>\n</g>\n<!-- 140672083817424&#45;&gt;140672083819296 -->\n<g id=\"edge16\" class=\"edge\">\n<title>140672083817424&#45;&gt;140672083819296</title>\n<path fill=\"none\" stroke=\"black\" d=\"M890.5,-567.37C890.5,-558.16 890.5,-543.29 890.5,-531.27\"/>\n<polygon fill=\"black\" stroke=\"black\" points=\"894,-530.91 890.5,-520.91 887,-530.91 894,-530.91\"/>\n</g>\n<!-- 140672083816560 -->\n<g id=\"node19\" class=\"node\">\n<title>140672083816560</title>\n<polygon fill=\"lightgrey\" stroke=\"black\" points=\"898,-652.5 797,-652.5 797,-633.5 898,-633.5 898,-652.5\"/>\n<text text-anchor=\"middle\" x=\"847.5\" y=\"-640.5\" font-family=\"monospace\" font-size=\"10.00\">AccumulateGrad</text>\n</g>\n<!-- 140672083816560&#45;&gt;140672083817424 -->\n<g id=\"edge17\" class=\"edge\">\n<title>140672083816560&#45;&gt;140672083817424</title>\n<path fill=\"none\" stroke=\"black\" d=\"M853.3,-633.37C859.8,-623.69 870.52,-607.74 878.78,-595.44\"/>\n<polygon fill=\"black\" stroke=\"black\" points=\"881.85,-597.16 884.52,-586.91 876.03,-593.25 881.85,-597.16\"/>\n</g>\n<!-- 140672566589376 -->\n<g id=\"node20\" class=\"node\">\n<title>140672566589376</title>\n<polygon fill=\"lightblue\" stroke=\"black\" points=\"919,-724 776,-724 776,-694 919,-694 919,-724\"/>\n<text text-anchor=\"middle\" x=\"847.5\" y=\"-712\" font-family=\"monospace\" font-size=\"10.00\">concatenate_NN.4.bias</text>\n<text text-anchor=\"middle\" x=\"847.5\" y=\"-701\" font-family=\"monospace\" font-size=\"10.00\"> (80)</text>\n</g>\n<!-- 140672566589376&#45;&gt;140672083816560 -->\n<g id=\"edge18\" class=\"edge\">\n<title>140672566589376&#45;&gt;140672083816560</title>\n<path fill=\"none\" stroke=\"black\" d=\"M847.5,-693.8C847.5,-684.7 847.5,-672.79 847.5,-662.9\"/>\n<polygon fill=\"black\" stroke=\"black\" points=\"851,-662.84 847.5,-652.84 844,-662.84 851,-662.84\"/>\n</g>\n<!-- 140672083816992 -->\n<g id=\"node21\" class=\"node\">\n<title>140672083816992</title>\n<polygon fill=\"lightgrey\" stroke=\"black\" points=\"1029,-652.5 916,-652.5 916,-633.5 1029,-633.5 1029,-652.5\"/>\n<text text-anchor=\"middle\" x=\"972.5\" y=\"-640.5\" font-family=\"monospace\" font-size=\"10.00\">SigmoidBackward0</text>\n</g>\n<!-- 140672083816992&#45;&gt;140672083817424 -->\n<g id=\"edge19\" class=\"edge\">\n<title>140672083816992&#45;&gt;140672083817424</title>\n<path fill=\"none\" stroke=\"black\" d=\"M961.44,-633.37C948.24,-623.06 925.92,-605.65 909.84,-593.09\"/>\n<polygon fill=\"black\" stroke=\"black\" points=\"911.68,-590.09 901.65,-586.7 907.38,-595.61 911.68,-590.09\"/>\n</g>\n<!-- 140672310103008 -->\n<g id=\"node22\" class=\"node\">\n<title>140672310103008</title>\n<polygon fill=\"lightgrey\" stroke=\"black\" points=\"1038,-718.5 937,-718.5 937,-699.5 1038,-699.5 1038,-718.5\"/>\n<text text-anchor=\"middle\" x=\"987.5\" y=\"-706.5\" font-family=\"monospace\" font-size=\"10.00\">AddmmBackward0</text>\n</g>\n<!-- 140672310103008&#45;&gt;140672083816992 -->\n<g id=\"edge20\" class=\"edge\">\n<title>140672310103008&#45;&gt;140672083816992</title>\n<path fill=\"none\" stroke=\"black\" d=\"M985.48,-699.37C983.3,-690.07 979.76,-674.98 976.93,-662.9\"/>\n<polygon fill=\"black\" stroke=\"black\" points=\"980.28,-661.84 974.59,-652.91 973.46,-663.44 980.28,-661.84\"/>\n</g>\n<!-- 140672332088320 -->\n<g id=\"node23\" class=\"node\">\n<title>140672332088320</title>\n<polygon fill=\"lightgrey\" stroke=\"black\" points=\"913,-784.5 812,-784.5 812,-765.5 913,-765.5 913,-784.5\"/>\n<text text-anchor=\"middle\" x=\"862.5\" y=\"-772.5\" font-family=\"monospace\" font-size=\"10.00\">AccumulateGrad</text>\n</g>\n<!-- 140672332088320&#45;&gt;140672310103008 -->\n<g id=\"edge21\" class=\"edge\">\n<title>140672332088320&#45;&gt;140672310103008</title>\n<path fill=\"none\" stroke=\"black\" d=\"M879.36,-765.37C900.42,-754.59 936.68,-736.02 961.36,-723.38\"/>\n<polygon fill=\"black\" stroke=\"black\" points=\"963.2,-726.37 970.51,-718.7 960.01,-720.14 963.2,-726.37\"/>\n</g>\n<!-- 140672566589216 -->\n<g id=\"node24\" class=\"node\">\n<title>140672566589216</title>\n<polygon fill=\"lightblue\" stroke=\"black\" points=\"919,-856 776,-856 776,-826 919,-826 919,-856\"/>\n<text text-anchor=\"middle\" x=\"847.5\" y=\"-844\" font-family=\"monospace\" font-size=\"10.00\">concatenate_NN.2.bias</text>\n<text text-anchor=\"middle\" x=\"847.5\" y=\"-833\" font-family=\"monospace\" font-size=\"10.00\"> (100)</text>\n</g>\n<!-- 140672566589216&#45;&gt;140672332088320 -->\n<g id=\"edge22\" class=\"edge\">\n<title>140672566589216&#45;&gt;140672332088320</title>\n<path fill=\"none\" stroke=\"black\" d=\"M850.83,-825.8C852.96,-816.7 855.75,-804.79 858.07,-794.9\"/>\n<polygon fill=\"black\" stroke=\"black\" points=\"861.55,-795.38 860.43,-784.84 854.74,-793.78 861.55,-795.38\"/>\n</g>\n<!-- 140672332090336 -->\n<g id=\"node25\" class=\"node\">\n<title>140672332090336</title>\n<polygon fill=\"lightgrey\" stroke=\"black\" points=\"1035,-784.5 940,-784.5 940,-765.5 1035,-765.5 1035,-784.5\"/>\n<text text-anchor=\"middle\" x=\"987.5\" y=\"-772.5\" font-family=\"monospace\" font-size=\"10.00\">ReluBackward0</text>\n</g>\n<!-- 140672332090336&#45;&gt;140672310103008 -->\n<g id=\"edge23\" class=\"edge\">\n<title>140672332090336&#45;&gt;140672310103008</title>\n<path fill=\"none\" stroke=\"black\" d=\"M987.5,-765.37C987.5,-756.16 987.5,-741.29 987.5,-729.27\"/>\n<polygon fill=\"black\" stroke=\"black\" points=\"991,-728.91 987.5,-718.91 984,-728.91 991,-728.91\"/>\n</g>\n<!-- 140672083803632 -->\n<g id=\"node26\" class=\"node\">\n<title>140672083803632</title>\n<polygon fill=\"lightgrey\" stroke=\"black\" points=\"1038,-850.5 937,-850.5 937,-831.5 1038,-831.5 1038,-850.5\"/>\n<text text-anchor=\"middle\" x=\"987.5\" y=\"-838.5\" font-family=\"monospace\" font-size=\"10.00\">AddmmBackward0</text>\n</g>\n<!-- 140672083803632&#45;&gt;140672332090336 -->\n<g id=\"edge24\" class=\"edge\">\n<title>140672083803632&#45;&gt;140672332090336</title>\n<path fill=\"none\" stroke=\"black\" d=\"M987.5,-831.37C987.5,-822.16 987.5,-807.29 987.5,-795.27\"/>\n<polygon fill=\"black\" stroke=\"black\" points=\"991,-794.91 987.5,-784.91 984,-794.91 991,-794.91\"/>\n</g>\n<!-- 140672566562288 -->\n<g id=\"node27\" class=\"node\">\n<title>140672566562288</title>\n<polygon fill=\"lightgrey\" stroke=\"black\" points=\"1001,-916.5 900,-916.5 900,-897.5 1001,-897.5 1001,-916.5\"/>\n<text text-anchor=\"middle\" x=\"950.5\" y=\"-904.5\" font-family=\"monospace\" font-size=\"10.00\">AccumulateGrad</text>\n</g>\n<!-- 140672566562288&#45;&gt;140672083803632 -->\n<g id=\"edge25\" class=\"edge\">\n<title>140672566562288&#45;&gt;140672083803632</title>\n<path fill=\"none\" stroke=\"black\" d=\"M955.49,-897.37C961.03,-887.78 970.13,-872.05 977.21,-859.8\"/>\n<polygon fill=\"black\" stroke=\"black\" points=\"980.38,-861.31 982.35,-850.91 974.32,-857.81 980.38,-861.31\"/>\n</g>\n<!-- 140672566589056 -->\n<g id=\"node28\" class=\"node\">\n<title>140672566589056</title>\n<polygon fill=\"lightblue\" stroke=\"black\" points=\"1009,-988 866,-988 866,-958 1009,-958 1009,-988\"/>\n<text text-anchor=\"middle\" x=\"937.5\" y=\"-976\" font-family=\"monospace\" font-size=\"10.00\">concatenate_NN.0.bias</text>\n<text text-anchor=\"middle\" x=\"937.5\" y=\"-965\" font-family=\"monospace\" font-size=\"10.00\"> (120)</text>\n</g>\n<!-- 140672566589056&#45;&gt;140672566562288 -->\n<g id=\"edge26\" class=\"edge\">\n<title>140672566589056&#45;&gt;140672566562288</title>\n<path fill=\"none\" stroke=\"black\" d=\"M940.39,-957.8C942.23,-948.7 944.65,-936.79 946.66,-926.9\"/>\n<polygon fill=\"black\" stroke=\"black\" points=\"950.14,-927.34 948.7,-916.84 943.28,-925.95 950.14,-927.34\"/>\n</g>\n<!-- 140672566562528 -->\n<g id=\"node29\" class=\"node\">\n<title>140672566562528</title>\n<polygon fill=\"lightgrey\" stroke=\"black\" points=\"1115,-916.5 1026,-916.5 1026,-897.5 1115,-897.5 1115,-916.5\"/>\n<text text-anchor=\"middle\" x=\"1070.5\" y=\"-904.5\" font-family=\"monospace\" font-size=\"10.00\">CatBackward0</text>\n</g>\n<!-- 140672566562528&#45;&gt;140672083803632 -->\n<g id=\"edge27\" class=\"edge\">\n<title>140672566562528&#45;&gt;140672083803632</title>\n<path fill=\"none\" stroke=\"black\" d=\"M1059.31,-897.37C1045.94,-887.06 1023.35,-869.65 1007.08,-857.09\"/>\n<polygon fill=\"black\" stroke=\"black\" points=\"1008.84,-854.03 998.78,-850.7 1004.56,-859.58 1008.84,-854.03\"/>\n</g>\n<!-- 140672566560704 -->\n<g id=\"node30\" class=\"node\">\n<title>140672566560704</title>\n<polygon fill=\"lightgrey\" stroke=\"black\" points=\"1420,-982.5 1319,-982.5 1319,-963.5 1420,-963.5 1420,-982.5\"/>\n<text text-anchor=\"middle\" x=\"1369.5\" y=\"-970.5\" font-family=\"monospace\" font-size=\"10.00\">AddmmBackward0</text>\n</g>\n<!-- 140672566560704&#45;&gt;140672566562528 -->\n<g id=\"edge28\" class=\"edge\">\n<title>140672566560704&#45;&gt;140672566562528</title>\n<path fill=\"none\" stroke=\"black\" d=\"M1324.19,-963.49C1274.9,-954.06 1193.86,-938.06 1124.5,-922 1120.58,-921.09 1116.51,-920.11 1112.44,-919.1\"/>\n<polygon fill=\"black\" stroke=\"black\" points=\"1112.97,-915.63 1102.41,-916.57 1111.25,-922.41 1112.97,-915.63\"/>\n</g>\n<!-- 140672566560176 -->\n<g id=\"node31\" class=\"node\">\n<title>140672566560176</title>\n<polygon fill=\"lightgrey\" stroke=\"black\" points=\"1361,-1048.5 1260,-1048.5 1260,-1029.5 1361,-1029.5 1361,-1048.5\"/>\n<text text-anchor=\"middle\" x=\"1310.5\" y=\"-1036.5\" font-family=\"monospace\" font-size=\"10.00\">AccumulateGrad</text>\n</g>\n<!-- 140672566560176&#45;&gt;140672566560704 -->\n<g id=\"edge29\" class=\"edge\">\n<title>140672566560176&#45;&gt;140672566560704</title>\n<path fill=\"none\" stroke=\"black\" d=\"M1318.46,-1029.37C1327.64,-1019.4 1342.96,-1002.79 1354.42,-990.36\"/>\n<polygon fill=\"black\" stroke=\"black\" points=\"1357.09,-992.63 1361.29,-982.91 1351.94,-987.89 1357.09,-992.63\"/>\n</g>\n<!-- 140672566366016 -->\n<g id=\"node32\" class=\"node\">\n<title>140672566366016</title>\n<polygon fill=\"lightblue\" stroke=\"black\" points=\"1361,-1120 1254,-1120 1254,-1090 1361,-1090 1361,-1120\"/>\n<text text-anchor=\"middle\" x=\"1307.5\" y=\"-1108\" font-family=\"monospace\" font-size=\"10.00\">Image_NN.4.bias</text>\n<text text-anchor=\"middle\" x=\"1307.5\" y=\"-1097\" font-family=\"monospace\" font-size=\"10.00\"> (100)</text>\n</g>\n<!-- 140672566366016&#45;&gt;140672566560176 -->\n<g id=\"edge30\" class=\"edge\">\n<title>140672566366016&#45;&gt;140672566560176</title>\n<path fill=\"none\" stroke=\"black\" d=\"M1308.17,-1089.8C1308.59,-1080.7 1309.15,-1068.79 1309.61,-1058.9\"/>\n<polygon fill=\"black\" stroke=\"black\" points=\"1313.11,-1059 1310.09,-1048.84 1306.12,-1058.67 1313.11,-1059\"/>\n</g>\n<!-- 140672566560224 -->\n<g id=\"node33\" class=\"node\">\n<title>140672566560224</title>\n<polygon fill=\"lightgrey\" stroke=\"black\" points=\"1476,-1048.5 1381,-1048.5 1381,-1029.5 1476,-1029.5 1476,-1048.5\"/>\n<text text-anchor=\"middle\" x=\"1428.5\" y=\"-1036.5\" font-family=\"monospace\" font-size=\"10.00\">ReluBackward0</text>\n</g>\n<!-- 140672566560224&#45;&gt;140672566560704 -->\n<g id=\"edge31\" class=\"edge\">\n<title>140672566560224&#45;&gt;140672566560704</title>\n<path fill=\"none\" stroke=\"black\" d=\"M1420.54,-1029.37C1411.36,-1019.4 1396.04,-1002.79 1384.58,-990.36\"/>\n<polygon fill=\"black\" stroke=\"black\" points=\"1387.06,-987.89 1377.71,-982.91 1381.91,-992.63 1387.06,-987.89\"/>\n</g>\n<!-- 140672566559744 -->\n<g id=\"node34\" class=\"node\">\n<title>140672566559744</title>\n<polygon fill=\"lightgrey\" stroke=\"black\" points=\"1480,-1114.5 1379,-1114.5 1379,-1095.5 1480,-1095.5 1480,-1114.5\"/>\n<text text-anchor=\"middle\" x=\"1429.5\" y=\"-1102.5\" font-family=\"monospace\" font-size=\"10.00\">AddmmBackward0</text>\n</g>\n<!-- 140672566559744&#45;&gt;140672566560224 -->\n<g id=\"edge32\" class=\"edge\">\n<title>140672566559744&#45;&gt;140672566560224</title>\n<path fill=\"none\" stroke=\"black\" d=\"M1429.37,-1095.37C1429.22,-1086.16 1428.99,-1071.29 1428.8,-1059.27\"/>\n<polygon fill=\"black\" stroke=\"black\" points=\"1432.3,-1058.85 1428.64,-1048.91 1425.3,-1058.96 1432.3,-1058.85\"/>\n</g>\n<!-- 140672566559456 -->\n<g id=\"node35\" class=\"node\">\n<title>140672566559456</title>\n<polygon fill=\"lightgrey\" stroke=\"black\" points=\"1471,-1180.5 1370,-1180.5 1370,-1161.5 1471,-1161.5 1471,-1180.5\"/>\n<text text-anchor=\"middle\" x=\"1420.5\" y=\"-1168.5\" font-family=\"monospace\" font-size=\"10.00\">AccumulateGrad</text>\n</g>\n<!-- 140672566559456&#45;&gt;140672566559744 -->\n<g id=\"edge33\" class=\"edge\">\n<title>140672566559456&#45;&gt;140672566559744</title>\n<path fill=\"none\" stroke=\"black\" d=\"M1421.71,-1161.37C1423.02,-1152.07 1425.14,-1136.98 1426.84,-1124.9\"/>\n<polygon fill=\"black\" stroke=\"black\" points=\"1430.32,-1125.3 1428.25,-1114.91 1423.39,-1124.32 1430.32,-1125.3\"/>\n</g>\n<!-- 140672565913776 -->\n<g id=\"node36\" class=\"node\">\n<title>140672565913776</title>\n<polygon fill=\"lightblue\" stroke=\"black\" points=\"1474,-1252 1367,-1252 1367,-1222 1474,-1222 1474,-1252\"/>\n<text text-anchor=\"middle\" x=\"1420.5\" y=\"-1240\" font-family=\"monospace\" font-size=\"10.00\">Image_NN.2.bias</text>\n<text text-anchor=\"middle\" x=\"1420.5\" y=\"-1229\" font-family=\"monospace\" font-size=\"10.00\"> (220)</text>\n</g>\n<!-- 140672565913776&#45;&gt;140672566559456 -->\n<g id=\"edge34\" class=\"edge\">\n<title>140672565913776&#45;&gt;140672566559456</title>\n<path fill=\"none\" stroke=\"black\" d=\"M1420.5,-1221.8C1420.5,-1212.7 1420.5,-1200.79 1420.5,-1190.9\"/>\n<polygon fill=\"black\" stroke=\"black\" points=\"1424,-1190.84 1420.5,-1180.84 1417,-1190.84 1424,-1190.84\"/>\n</g>\n<!-- 140672566559552 -->\n<g id=\"node37\" class=\"node\">\n<title>140672566559552</title>\n<polygon fill=\"lightgrey\" stroke=\"black\" points=\"1584,-1180.5 1489,-1180.5 1489,-1161.5 1584,-1161.5 1584,-1180.5\"/>\n<text text-anchor=\"middle\" x=\"1536.5\" y=\"-1168.5\" font-family=\"monospace\" font-size=\"10.00\">ReluBackward0</text>\n</g>\n<!-- 140672566559552&#45;&gt;140672566559744 -->\n<g id=\"edge35\" class=\"edge\">\n<title>140672566559552&#45;&gt;140672566559744</title>\n<path fill=\"none\" stroke=\"black\" d=\"M1522.07,-1161.37C1504.28,-1150.73 1473.82,-1132.51 1452.72,-1119.89\"/>\n<polygon fill=\"black\" stroke=\"black\" points=\"1454.42,-1116.83 1444.04,-1114.7 1450.83,-1122.84 1454.42,-1116.83\"/>\n</g>\n<!-- 140672566559360 -->\n<g id=\"node38\" class=\"node\">\n<title>140672566559360</title>\n<polygon fill=\"lightgrey\" stroke=\"black\" points=\"1593,-1246.5 1492,-1246.5 1492,-1227.5 1593,-1227.5 1593,-1246.5\"/>\n<text text-anchor=\"middle\" x=\"1542.5\" y=\"-1234.5\" font-family=\"monospace\" font-size=\"10.00\">AddmmBackward0</text>\n</g>\n<!-- 140672566559360&#45;&gt;140672566559552 -->\n<g id=\"edge36\" class=\"edge\">\n<title>140672566559360&#45;&gt;140672566559552</title>\n<path fill=\"none\" stroke=\"black\" d=\"M1541.69,-1227.37C1540.82,-1218.07 1539.4,-1202.98 1538.27,-1190.9\"/>\n<polygon fill=\"black\" stroke=\"black\" points=\"1541.75,-1190.53 1537.33,-1180.91 1534.78,-1191.19 1541.75,-1190.53\"/>\n</g>\n<!-- 140672566559024 -->\n<g id=\"node39\" class=\"node\">\n<title>140672566559024</title>\n<polygon fill=\"lightgrey\" stroke=\"black\" points=\"1648,-1312.5 1547,-1312.5 1547,-1293.5 1648,-1293.5 1648,-1312.5\"/>\n<text text-anchor=\"middle\" x=\"1597.5\" y=\"-1300.5\" font-family=\"monospace\" font-size=\"10.00\">AccumulateGrad</text>\n</g>\n<!-- 140672566559024&#45;&gt;140672566559360 -->\n<g id=\"edge37\" class=\"edge\">\n<title>140672566559024&#45;&gt;140672566559360</title>\n<path fill=\"none\" stroke=\"black\" d=\"M1590.08,-1293.37C1581.6,-1283.5 1567.52,-1267.11 1556.87,-1254.72\"/>\n<polygon fill=\"black\" stroke=\"black\" points=\"1559.33,-1252.21 1550.15,-1246.91 1554.02,-1256.77 1559.33,-1252.21\"/>\n</g>\n<!-- 140673701954880 -->\n<g id=\"node40\" class=\"node\">\n<title>140673701954880</title>\n<polygon fill=\"lightblue\" stroke=\"black\" points=\"1658,-1384 1551,-1384 1551,-1354 1658,-1354 1658,-1384\"/>\n<text text-anchor=\"middle\" x=\"1604.5\" y=\"-1372\" font-family=\"monospace\" font-size=\"10.00\">Image_NN.0.bias</text>\n<text text-anchor=\"middle\" x=\"1604.5\" y=\"-1361\" font-family=\"monospace\" font-size=\"10.00\"> (500)</text>\n</g>\n<!-- 140673701954880&#45;&gt;140672566559024 -->\n<g id=\"edge38\" class=\"edge\">\n<title>140673701954880&#45;&gt;140672566559024</title>\n<path fill=\"none\" stroke=\"black\" d=\"M1602.95,-1353.8C1601.95,-1344.7 1600.65,-1332.79 1599.57,-1322.9\"/>\n<polygon fill=\"black\" stroke=\"black\" points=\"1603.03,-1322.4 1598.47,-1312.84 1596.08,-1323.17 1603.03,-1322.4\"/>\n</g>\n<!-- 140672566559168 -->\n<g id=\"node41\" class=\"node\">\n<title>140672566559168</title>\n<polygon fill=\"lightgrey\" stroke=\"black\" points=\"1525,-1312.5 1448,-1312.5 1448,-1293.5 1525,-1293.5 1525,-1312.5\"/>\n<text text-anchor=\"middle\" x=\"1486.5\" y=\"-1300.5\" font-family=\"monospace\" font-size=\"10.00\">TBackward0</text>\n</g>\n<!-- 140672566559168&#45;&gt;140672566559360 -->\n<g id=\"edge39\" class=\"edge\">\n<title>140672566559168&#45;&gt;140672566559360</title>\n<path fill=\"none\" stroke=\"black\" d=\"M1494.05,-1293.37C1502.69,-1283.5 1517.03,-1267.11 1527.87,-1254.72\"/>\n<polygon fill=\"black\" stroke=\"black\" points=\"1530.76,-1256.74 1534.71,-1246.91 1525.49,-1252.13 1530.76,-1256.74\"/>\n</g>\n<!-- 140672566406928 -->\n<g id=\"node42\" class=\"node\">\n<title>140672566406928</title>\n<polygon fill=\"lightgrey\" stroke=\"black\" points=\"1533,-1378.5 1432,-1378.5 1432,-1359.5 1533,-1359.5 1533,-1378.5\"/>\n<text text-anchor=\"middle\" x=\"1482.5\" y=\"-1366.5\" font-family=\"monospace\" font-size=\"10.00\">AccumulateGrad</text>\n</g>\n<!-- 140672566406928&#45;&gt;140672566559168 -->\n<g id=\"edge40\" class=\"edge\">\n<title>140672566406928&#45;&gt;140672566559168</title>\n<path fill=\"none\" stroke=\"black\" d=\"M1483.04,-1359.37C1483.62,-1350.07 1484.56,-1334.98 1485.32,-1322.9\"/>\n<polygon fill=\"black\" stroke=\"black\" points=\"1488.81,-1323.1 1485.94,-1312.91 1481.83,-1322.67 1488.81,-1323.1\"/>\n</g>\n<!-- 140673701956560 -->\n<g id=\"node43\" class=\"node\">\n<title>140673701956560</title>\n<polygon fill=\"lightblue\" stroke=\"black\" points=\"1542,-1450 1423,-1450 1423,-1420 1542,-1420 1542,-1450\"/>\n<text text-anchor=\"middle\" x=\"1482.5\" y=\"-1438\" font-family=\"monospace\" font-size=\"10.00\">Image_NN.0.weight</text>\n<text text-anchor=\"middle\" x=\"1482.5\" y=\"-1427\" font-family=\"monospace\" font-size=\"10.00\"> (500, 22500)</text>\n</g>\n<!-- 140673701956560&#45;&gt;140672566406928 -->\n<g id=\"edge41\" class=\"edge\">\n<title>140673701956560&#45;&gt;140672566406928</title>\n<path fill=\"none\" stroke=\"black\" d=\"M1482.5,-1419.8C1482.5,-1410.7 1482.5,-1398.79 1482.5,-1388.9\"/>\n<polygon fill=\"black\" stroke=\"black\" points=\"1486,-1388.84 1482.5,-1378.84 1479,-1388.84 1486,-1388.84\"/>\n</g>\n<!-- 140672566559600 -->\n<g id=\"node44\" class=\"node\">\n<title>140672566559600</title>\n<polygon fill=\"lightgrey\" stroke=\"black\" points=\"1350,-1180.5 1273,-1180.5 1273,-1161.5 1350,-1161.5 1350,-1180.5\"/>\n<text text-anchor=\"middle\" x=\"1311.5\" y=\"-1168.5\" font-family=\"monospace\" font-size=\"10.00\">TBackward0</text>\n</g>\n<!-- 140672566559600&#45;&gt;140672566559744 -->\n<g id=\"edge42\" class=\"edge\">\n<title>140672566559600&#45;&gt;140672566559744</title>\n<path fill=\"none\" stroke=\"black\" d=\"M1327.41,-1161.37C1347.21,-1150.63 1381.23,-1132.18 1404.51,-1119.55\"/>\n<polygon fill=\"black\" stroke=\"black\" points=\"1406.34,-1122.54 1413.46,-1114.7 1403,-1116.39 1406.34,-1122.54\"/>\n</g>\n<!-- 140672566559216 -->\n<g id=\"node45\" class=\"node\">\n<title>140672566559216</title>\n<polygon fill=\"lightgrey\" stroke=\"black\" points=\"1349,-1246.5 1248,-1246.5 1248,-1227.5 1349,-1227.5 1349,-1246.5\"/>\n<text text-anchor=\"middle\" x=\"1298.5\" y=\"-1234.5\" font-family=\"monospace\" font-size=\"10.00\">AccumulateGrad</text>\n</g>\n<!-- 140672566559216&#45;&gt;140672566559600 -->\n<g id=\"edge43\" class=\"edge\">\n<title>140672566559216&#45;&gt;140672566559600</title>\n<path fill=\"none\" stroke=\"black\" d=\"M1300.25,-1227.37C1302.14,-1218.07 1305.21,-1202.98 1307.66,-1190.9\"/>\n<polygon fill=\"black\" stroke=\"black\" points=\"1311.13,-1191.4 1309.69,-1180.91 1304.27,-1190.01 1311.13,-1191.4\"/>\n</g>\n<!-- 140672565911856 -->\n<g id=\"node46\" class=\"node\">\n<title>140672565911856</title>\n<polygon fill=\"lightblue\" stroke=\"black\" points=\"1358,-1318 1239,-1318 1239,-1288 1358,-1288 1358,-1318\"/>\n<text text-anchor=\"middle\" x=\"1298.5\" y=\"-1306\" font-family=\"monospace\" font-size=\"10.00\">Image_NN.2.weight</text>\n<text text-anchor=\"middle\" x=\"1298.5\" y=\"-1295\" font-family=\"monospace\" font-size=\"10.00\"> (220, 500)</text>\n</g>\n<!-- 140672565911856&#45;&gt;140672566559216 -->\n<g id=\"edge44\" class=\"edge\">\n<title>140672565911856&#45;&gt;140672566559216</title>\n<path fill=\"none\" stroke=\"black\" d=\"M1298.5,-1287.8C1298.5,-1278.7 1298.5,-1266.79 1298.5,-1256.9\"/>\n<polygon fill=\"black\" stroke=\"black\" points=\"1302,-1256.84 1298.5,-1246.84 1295,-1256.84 1302,-1256.84\"/>\n</g>\n<!-- 140672566560272 -->\n<g id=\"node47\" class=\"node\">\n<title>140672566560272</title>\n<polygon fill=\"lightgrey\" stroke=\"black\" points=\"1607,-1048.5 1530,-1048.5 1530,-1029.5 1607,-1029.5 1607,-1048.5\"/>\n<text text-anchor=\"middle\" x=\"1568.5\" y=\"-1036.5\" font-family=\"monospace\" font-size=\"10.00\">TBackward0</text>\n</g>\n<!-- 140672566560272&#45;&gt;140672566560704 -->\n<g id=\"edge45\" class=\"edge\">\n<title>140672566560272&#45;&gt;140672566560704</title>\n<path fill=\"none\" stroke=\"black\" d=\"M1541.66,-1029.37C1506.63,-1018.1 1445.16,-998.33 1405.94,-985.72\"/>\n<polygon fill=\"black\" stroke=\"black\" points=\"1406.82,-982.33 1396.23,-982.6 1404.68,-988.99 1406.82,-982.33\"/>\n</g>\n<!-- 140672566559264 -->\n<g id=\"node48\" class=\"node\">\n<title>140672566559264</title>\n<polygon fill=\"lightgrey\" stroke=\"black\" points=\"1655,-1114.5 1554,-1114.5 1554,-1095.5 1655,-1095.5 1655,-1114.5\"/>\n<text text-anchor=\"middle\" x=\"1604.5\" y=\"-1102.5\" font-family=\"monospace\" font-size=\"10.00\">AccumulateGrad</text>\n</g>\n<!-- 140672566559264&#45;&gt;140672566560272 -->\n<g id=\"edge46\" class=\"edge\">\n<title>140672566559264&#45;&gt;140672566560272</title>\n<path fill=\"none\" stroke=\"black\" d=\"M1599.64,-1095.37C1594.25,-1085.78 1585.4,-1070.05 1578.51,-1057.8\"/>\n<polygon fill=\"black\" stroke=\"black\" points=\"1581.46,-1055.91 1573.51,-1048.91 1575.36,-1059.34 1581.46,-1055.91\"/>\n</g>\n<!-- 140672307608048 -->\n<g id=\"node49\" class=\"node\">\n<title>140672307608048</title>\n<polygon fill=\"lightblue\" stroke=\"black\" points=\"1721,-1186 1602,-1186 1602,-1156 1721,-1156 1721,-1186\"/>\n<text text-anchor=\"middle\" x=\"1661.5\" y=\"-1174\" font-family=\"monospace\" font-size=\"10.00\">Image_NN.4.weight</text>\n<text text-anchor=\"middle\" x=\"1661.5\" y=\"-1163\" font-family=\"monospace\" font-size=\"10.00\"> (100, 220)</text>\n</g>\n<!-- 140672307608048&#45;&gt;140672566559264 -->\n<g id=\"edge47\" class=\"edge\">\n<title>140672307608048&#45;&gt;140672566559264</title>\n<path fill=\"none\" stroke=\"black\" d=\"M1648.85,-1155.8C1640.05,-1145.92 1628.3,-1132.72 1619.1,-1122.39\"/>\n<polygon fill=\"black\" stroke=\"black\" points=\"1621.64,-1119.98 1612.38,-1114.84 1616.41,-1124.64 1621.64,-1119.98\"/>\n</g>\n<!-- 140672566560512 -->\n<g id=\"node50\" class=\"node\">\n<title>140672566560512</title>\n<polygon fill=\"lightgrey\" stroke=\"black\" points=\"1128,-982.5 1027,-982.5 1027,-963.5 1128,-963.5 1128,-982.5\"/>\n<text text-anchor=\"middle\" x=\"1077.5\" y=\"-970.5\" font-family=\"monospace\" font-size=\"10.00\">AddmmBackward0</text>\n</g>\n<!-- 140672566560512&#45;&gt;140672566562528 -->\n<g id=\"edge48\" class=\"edge\">\n<title>140672566560512&#45;&gt;140672566562528</title>\n<path fill=\"none\" stroke=\"black\" d=\"M1076.56,-963.37C1075.54,-954.07 1073.89,-938.98 1072.57,-926.9\"/>\n<polygon fill=\"black\" stroke=\"black\" points=\"1076.04,-926.47 1071.47,-916.91 1069.08,-927.23 1076.04,-926.47\"/>\n</g>\n<!-- 140672566559648 -->\n<g id=\"node51\" class=\"node\">\n<title>140672566559648</title>\n<polygon fill=\"lightgrey\" stroke=\"black\" points=\"998,-1048.5 897,-1048.5 897,-1029.5 998,-1029.5 998,-1048.5\"/>\n<text text-anchor=\"middle\" x=\"947.5\" y=\"-1036.5\" font-family=\"monospace\" font-size=\"10.00\">AccumulateGrad</text>\n</g>\n<!-- 140672566559648&#45;&gt;140672566560512 -->\n<g id=\"edge49\" class=\"edge\">\n<title>140672566559648&#45;&gt;140672566560512</title>\n<path fill=\"none\" stroke=\"black\" d=\"M965.03,-1029.37C987.03,-1018.54 1024.99,-999.85 1050.65,-987.22\"/>\n<polygon fill=\"black\" stroke=\"black\" points=\"1052.4,-990.26 1059.83,-982.7 1049.31,-983.98 1052.4,-990.26\"/>\n</g>\n<!-- 140672566588896 -->\n<g id=\"node52\" class=\"node\">\n<title>140672566588896</title>\n<polygon fill=\"lightblue\" stroke=\"black\" points=\"998,-1120 897,-1120 897,-1090 998,-1090 998,-1120\"/>\n<text text-anchor=\"middle\" x=\"947.5\" y=\"-1108\" font-family=\"monospace\" font-size=\"10.00\">Text_NN.4.bias</text>\n<text text-anchor=\"middle\" x=\"947.5\" y=\"-1097\" font-family=\"monospace\" font-size=\"10.00\"> (150)</text>\n</g>\n<!-- 140672566588896&#45;&gt;140672566559648 -->\n<g id=\"edge50\" class=\"edge\">\n<title>140672566588896&#45;&gt;140672566559648</title>\n<path fill=\"none\" stroke=\"black\" d=\"M947.5,-1089.8C947.5,-1080.7 947.5,-1068.79 947.5,-1058.9\"/>\n<polygon fill=\"black\" stroke=\"black\" points=\"951,-1058.84 947.5,-1048.84 944,-1058.84 951,-1058.84\"/>\n</g>\n<!-- 140672566559408 -->\n<g id=\"node53\" class=\"node\">\n<title>140672566559408</title>\n<polygon fill=\"lightgrey\" stroke=\"black\" points=\"1129,-1048.5 1016,-1048.5 1016,-1029.5 1129,-1029.5 1129,-1048.5\"/>\n<text text-anchor=\"middle\" x=\"1072.5\" y=\"-1036.5\" font-family=\"monospace\" font-size=\"10.00\">SigmoidBackward0</text>\n</g>\n<!-- 140672566559408&#45;&gt;140672566560512 -->\n<g id=\"edge51\" class=\"edge\">\n<title>140672566559408&#45;&gt;140672566560512</title>\n<path fill=\"none\" stroke=\"black\" d=\"M1073.17,-1029.37C1073.9,-1020.07 1075.08,-1004.98 1076.02,-992.9\"/>\n<polygon fill=\"black\" stroke=\"black\" points=\"1079.51,-993.15 1076.8,-982.91 1072.54,-992.6 1079.51,-993.15\"/>\n</g>\n<!-- 140672566406208 -->\n<g id=\"node54\" class=\"node\">\n<title>140672566406208</title>\n<polygon fill=\"lightgrey\" stroke=\"black\" points=\"1117,-1114.5 1016,-1114.5 1016,-1095.5 1117,-1095.5 1117,-1114.5\"/>\n<text text-anchor=\"middle\" x=\"1066.5\" y=\"-1102.5\" font-family=\"monospace\" font-size=\"10.00\">AddmmBackward0</text>\n</g>\n<!-- 140672566406208&#45;&gt;140672566559408 -->\n<g id=\"edge52\" class=\"edge\">\n<title>140672566406208&#45;&gt;140672566559408</title>\n<path fill=\"none\" stroke=\"black\" d=\"M1067.31,-1095.37C1068.18,-1086.07 1069.6,-1070.98 1070.73,-1058.9\"/>\n<polygon fill=\"black\" stroke=\"black\" points=\"1074.22,-1059.19 1071.67,-1048.91 1067.25,-1058.53 1074.22,-1059.19\"/>\n</g>\n<!-- 140672566406640 -->\n<g id=\"node55\" class=\"node\">\n<title>140672566406640</title>\n<polygon fill=\"lightgrey\" stroke=\"black\" points=\"1120,-1180.5 1019,-1180.5 1019,-1161.5 1120,-1161.5 1120,-1180.5\"/>\n<text text-anchor=\"middle\" x=\"1069.5\" y=\"-1168.5\" font-family=\"monospace\" font-size=\"10.00\">AccumulateGrad</text>\n</g>\n<!-- 140672566406640&#45;&gt;140672566406208 -->\n<g id=\"edge53\" class=\"edge\">\n<title>140672566406640&#45;&gt;140672566406208</title>\n<path fill=\"none\" stroke=\"black\" d=\"M1069.1,-1161.37C1068.66,-1152.07 1067.95,-1136.98 1067.39,-1124.9\"/>\n<polygon fill=\"black\" stroke=\"black\" points=\"1070.88,-1124.73 1066.92,-1114.91 1063.89,-1125.06 1070.88,-1124.73\"/>\n</g>\n<!-- 140672566389152 -->\n<g id=\"node56\" class=\"node\">\n<title>140672566389152</title>\n<polygon fill=\"lightblue\" stroke=\"black\" points=\"1132,-1252 1031,-1252 1031,-1222 1132,-1222 1132,-1252\"/>\n<text text-anchor=\"middle\" x=\"1081.5\" y=\"-1240\" font-family=\"monospace\" font-size=\"10.00\">Text_NN.2.bias</text>\n<text text-anchor=\"middle\" x=\"1081.5\" y=\"-1229\" font-family=\"monospace\" font-size=\"10.00\"> (250)</text>\n</g>\n<!-- 140672566389152&#45;&gt;140672566406640 -->\n<g id=\"edge54\" class=\"edge\">\n<title>140672566389152&#45;&gt;140672566406640</title>\n<path fill=\"none\" stroke=\"black\" d=\"M1078.84,-1221.8C1077.13,-1212.7 1074.9,-1200.79 1073.04,-1190.9\"/>\n<polygon fill=\"black\" stroke=\"black\" points=\"1076.44,-1190.03 1071.16,-1180.84 1069.56,-1191.32 1076.44,-1190.03\"/>\n</g>\n<!-- 140672566406352 -->\n<g id=\"node57\" class=\"node\">\n<title>140672566406352</title>\n<polygon fill=\"lightgrey\" stroke=\"black\" points=\"902,-1180.5 789,-1180.5 789,-1161.5 902,-1161.5 902,-1180.5\"/>\n<text text-anchor=\"middle\" x=\"845.5\" y=\"-1168.5\" font-family=\"monospace\" font-size=\"10.00\">SigmoidBackward0</text>\n</g>\n<!-- 140672566406352&#45;&gt;140672566406208 -->\n<g id=\"edge55\" class=\"edge\">\n<title>140672566406352&#45;&gt;140672566406208</title>\n<path fill=\"none\" stroke=\"black\" d=\"M875.31,-1161.37C914.55,-1150 983.64,-1130 1027.14,-1117.4\"/>\n<polygon fill=\"black\" stroke=\"black\" points=\"1028.18,-1120.74 1036.82,-1114.6 1026.24,-1114.02 1028.18,-1120.74\"/>\n</g>\n<!-- 140672566406160 -->\n<g id=\"node58\" class=\"node\">\n<title>140672566406160</title>\n<polygon fill=\"lightgrey\" stroke=\"black\" points=\"891,-1246.5 790,-1246.5 790,-1227.5 891,-1227.5 891,-1246.5\"/>\n<text text-anchor=\"middle\" x=\"840.5\" y=\"-1234.5\" font-family=\"monospace\" font-size=\"10.00\">AddmmBackward0</text>\n</g>\n<!-- 140672566406160&#45;&gt;140672566406352 -->\n<g id=\"edge56\" class=\"edge\">\n<title>140672566406160&#45;&gt;140672566406352</title>\n<path fill=\"none\" stroke=\"black\" d=\"M841.17,-1227.37C841.9,-1218.07 843.08,-1202.98 844.02,-1190.9\"/>\n<polygon fill=\"black\" stroke=\"black\" points=\"847.51,-1191.15 844.8,-1180.91 840.54,-1190.6 847.51,-1191.15\"/>\n</g>\n<!-- 140672166940480 -->\n<g id=\"node59\" class=\"node\">\n<title>140672166940480</title>\n<polygon fill=\"lightgrey\" stroke=\"black\" points=\"891,-1312.5 790,-1312.5 790,-1293.5 891,-1293.5 891,-1312.5\"/>\n<text text-anchor=\"middle\" x=\"840.5\" y=\"-1300.5\" font-family=\"monospace\" font-size=\"10.00\">AccumulateGrad</text>\n</g>\n<!-- 140672166940480&#45;&gt;140672566406160 -->\n<g id=\"edge57\" class=\"edge\">\n<title>140672166940480&#45;&gt;140672566406160</title>\n<path fill=\"none\" stroke=\"black\" d=\"M840.5,-1293.37C840.5,-1284.16 840.5,-1269.29 840.5,-1257.27\"/>\n<polygon fill=\"black\" stroke=\"black\" points=\"844,-1256.91 840.5,-1246.91 837,-1256.91 844,-1256.91\"/>\n</g>\n<!-- 140673416061472 -->\n<g id=\"node60\" class=\"node\">\n<title>140673416061472</title>\n<polygon fill=\"lightblue\" stroke=\"black\" points=\"894,-1384 793,-1384 793,-1354 894,-1354 894,-1384\"/>\n<text text-anchor=\"middle\" x=\"843.5\" y=\"-1372\" font-family=\"monospace\" font-size=\"10.00\">Text_NN.0.bias</text>\n<text text-anchor=\"middle\" x=\"843.5\" y=\"-1361\" font-family=\"monospace\" font-size=\"10.00\"> (450)</text>\n</g>\n<!-- 140673416061472&#45;&gt;140672166940480 -->\n<g id=\"edge58\" class=\"edge\">\n<title>140673416061472&#45;&gt;140672166940480</title>\n<path fill=\"none\" stroke=\"black\" d=\"M842.83,-1353.8C842.41,-1344.7 841.85,-1332.79 841.39,-1322.9\"/>\n<polygon fill=\"black\" stroke=\"black\" points=\"844.88,-1322.67 840.91,-1312.84 837.89,-1323 844.88,-1322.67\"/>\n</g>\n<!-- 140672166940528 -->\n<g id=\"node61\" class=\"node\">\n<title>140672166940528</title>\n<polygon fill=\"lightgrey\" stroke=\"black\" points=\"769,-1312.5 692,-1312.5 692,-1293.5 769,-1293.5 769,-1312.5\"/>\n<text text-anchor=\"middle\" x=\"730.5\" y=\"-1300.5\" font-family=\"monospace\" font-size=\"10.00\">TBackward0</text>\n</g>\n<!-- 140672166940528&#45;&gt;140672566406160 -->\n<g id=\"edge59\" class=\"edge\">\n<title>140672166940528&#45;&gt;140672566406160</title>\n<path fill=\"none\" stroke=\"black\" d=\"M745.34,-1293.37C763.62,-1282.73 794.94,-1264.51 816.63,-1251.89\"/>\n<polygon fill=\"black\" stroke=\"black\" points=\"818.67,-1254.75 825.55,-1246.7 815.14,-1248.7 818.67,-1254.75\"/>\n</g>\n<!-- 140672166940432 -->\n<g id=\"node62\" class=\"node\">\n<title>140672166940432</title>\n<polygon fill=\"lightgrey\" stroke=\"black\" points=\"775,-1378.5 674,-1378.5 674,-1359.5 775,-1359.5 775,-1378.5\"/>\n<text text-anchor=\"middle\" x=\"724.5\" y=\"-1366.5\" font-family=\"monospace\" font-size=\"10.00\">AccumulateGrad</text>\n</g>\n<!-- 140672166940432&#45;&gt;140672166940528 -->\n<g id=\"edge60\" class=\"edge\">\n<title>140672166940432&#45;&gt;140672166940528</title>\n<path fill=\"none\" stroke=\"black\" d=\"M725.31,-1359.37C726.18,-1350.07 727.6,-1334.98 728.73,-1322.9\"/>\n<polygon fill=\"black\" stroke=\"black\" points=\"732.22,-1323.19 729.67,-1312.91 725.25,-1322.53 732.22,-1323.19\"/>\n</g>\n<!-- 140672566363776 -->\n<g id=\"node63\" class=\"node\">\n<title>140672566363776</title>\n<polygon fill=\"lightblue\" stroke=\"black\" points=\"781,-1450 668,-1450 668,-1420 781,-1420 781,-1450\"/>\n<text text-anchor=\"middle\" x=\"724.5\" y=\"-1438\" font-family=\"monospace\" font-size=\"10.00\">Text_NN.0.weight</text>\n<text text-anchor=\"middle\" x=\"724.5\" y=\"-1427\" font-family=\"monospace\" font-size=\"10.00\"> (450, 20700)</text>\n</g>\n<!-- 140672566363776&#45;&gt;140672166940432 -->\n<g id=\"edge61\" class=\"edge\">\n<title>140672566363776&#45;&gt;140672166940432</title>\n<path fill=\"none\" stroke=\"black\" d=\"M724.5,-1419.8C724.5,-1410.7 724.5,-1398.79 724.5,-1388.9\"/>\n<polygon fill=\"black\" stroke=\"black\" points=\"728,-1388.84 724.5,-1378.84 721,-1388.84 728,-1388.84\"/>\n</g>\n<!-- 140672566406592 -->\n<g id=\"node64\" class=\"node\">\n<title>140672566406592</title>\n<polygon fill=\"lightgrey\" stroke=\"black\" points=\"1001,-1180.5 924,-1180.5 924,-1161.5 1001,-1161.5 1001,-1180.5\"/>\n<text text-anchor=\"middle\" x=\"962.5\" y=\"-1168.5\" font-family=\"monospace\" font-size=\"10.00\">TBackward0</text>\n</g>\n<!-- 140672566406592&#45;&gt;140672566406208 -->\n<g id=\"edge62\" class=\"edge\">\n<title>140672566406592&#45;&gt;140672566406208</title>\n<path fill=\"none\" stroke=\"black\" d=\"M976.53,-1161.37C993.74,-1150.78 1023.16,-1132.67 1043.65,-1120.06\"/>\n<polygon fill=\"black\" stroke=\"black\" points=\"1045.68,-1122.92 1052.36,-1114.7 1042.01,-1116.96 1045.68,-1122.92\"/>\n</g>\n<!-- 140672566406784 -->\n<g id=\"node65\" class=\"node\">\n<title>140672566406784</title>\n<polygon fill=\"lightgrey\" stroke=\"black\" points=\"1013,-1246.5 912,-1246.5 912,-1227.5 1013,-1227.5 1013,-1246.5\"/>\n<text text-anchor=\"middle\" x=\"962.5\" y=\"-1234.5\" font-family=\"monospace\" font-size=\"10.00\">AccumulateGrad</text>\n</g>\n<!-- 140672566406784&#45;&gt;140672566406592 -->\n<g id=\"edge63\" class=\"edge\">\n<title>140672566406784&#45;&gt;140672566406592</title>\n<path fill=\"none\" stroke=\"black\" d=\"M962.5,-1227.37C962.5,-1218.16 962.5,-1203.29 962.5,-1191.27\"/>\n<polygon fill=\"black\" stroke=\"black\" points=\"966,-1190.91 962.5,-1180.91 959,-1190.91 966,-1190.91\"/>\n</g>\n<!-- 140673416061312 -->\n<g id=\"node66\" class=\"node\">\n<title>140673416061312</title>\n<polygon fill=\"lightblue\" stroke=\"black\" points=\"1022,-1318 909,-1318 909,-1288 1022,-1288 1022,-1318\"/>\n<text text-anchor=\"middle\" x=\"965.5\" y=\"-1306\" font-family=\"monospace\" font-size=\"10.00\">Text_NN.2.weight</text>\n<text text-anchor=\"middle\" x=\"965.5\" y=\"-1295\" font-family=\"monospace\" font-size=\"10.00\"> (250, 450)</text>\n</g>\n<!-- 140673416061312&#45;&gt;140672566406784 -->\n<g id=\"edge64\" class=\"edge\">\n<title>140673416061312&#45;&gt;140672566406784</title>\n<path fill=\"none\" stroke=\"black\" d=\"M964.83,-1287.8C964.41,-1278.7 963.85,-1266.79 963.39,-1256.9\"/>\n<polygon fill=\"black\" stroke=\"black\" points=\"966.88,-1256.67 962.91,-1246.84 959.89,-1257 966.88,-1256.67\"/>\n</g>\n<!-- 140672566559840 -->\n<g id=\"node67\" class=\"node\">\n<title>140672566559840</title>\n<polygon fill=\"lightgrey\" stroke=\"black\" points=\"1224,-1048.5 1147,-1048.5 1147,-1029.5 1224,-1029.5 1224,-1048.5\"/>\n<text text-anchor=\"middle\" x=\"1185.5\" y=\"-1036.5\" font-family=\"monospace\" font-size=\"10.00\">TBackward0</text>\n</g>\n<!-- 140672566559840&#45;&gt;140672566560512 -->\n<g id=\"edge65\" class=\"edge\">\n<title>140672566559840&#45;&gt;140672566560512</title>\n<path fill=\"none\" stroke=\"black\" d=\"M1170.93,-1029.37C1152.98,-1018.73 1122.23,-1000.51 1100.94,-987.89\"/>\n<polygon fill=\"black\" stroke=\"black\" points=\"1102.57,-984.79 1092.18,-982.7 1099,-990.81 1102.57,-984.79\"/>\n</g>\n<!-- 140672566406256 -->\n<g id=\"node68\" class=\"node\">\n<title>140672566406256</title>\n<polygon fill=\"lightgrey\" stroke=\"black\" points=\"1236,-1114.5 1135,-1114.5 1135,-1095.5 1236,-1095.5 1236,-1114.5\"/>\n<text text-anchor=\"middle\" x=\"1185.5\" y=\"-1102.5\" font-family=\"monospace\" font-size=\"10.00\">AccumulateGrad</text>\n</g>\n<!-- 140672566406256&#45;&gt;140672566559840 -->\n<g id=\"edge66\" class=\"edge\">\n<title>140672566406256&#45;&gt;140672566559840</title>\n<path fill=\"none\" stroke=\"black\" d=\"M1185.5,-1095.37C1185.5,-1086.16 1185.5,-1071.29 1185.5,-1059.27\"/>\n<polygon fill=\"black\" stroke=\"black\" points=\"1189,-1058.91 1185.5,-1048.91 1182,-1058.91 1189,-1058.91\"/>\n</g>\n<!-- 140672566588816 -->\n<g id=\"node69\" class=\"node\">\n<title>140672566588816</title>\n<polygon fill=\"lightblue\" stroke=\"black\" points=\"1251,-1186 1138,-1186 1138,-1156 1251,-1156 1251,-1186\"/>\n<text text-anchor=\"middle\" x=\"1194.5\" y=\"-1174\" font-family=\"monospace\" font-size=\"10.00\">Text_NN.4.weight</text>\n<text text-anchor=\"middle\" x=\"1194.5\" y=\"-1163\" font-family=\"monospace\" font-size=\"10.00\"> (150, 250)</text>\n</g>\n<!-- 140672566588816&#45;&gt;140672566406256 -->\n<g id=\"edge67\" class=\"edge\">\n<title>140672566588816&#45;&gt;140672566406256</title>\n<path fill=\"none\" stroke=\"black\" d=\"M1192.5,-1155.8C1191.22,-1146.7 1189.55,-1134.79 1188.16,-1124.9\"/>\n<polygon fill=\"black\" stroke=\"black\" points=\"1191.6,-1124.26 1186.74,-1114.84 1184.67,-1125.23 1191.6,-1124.26\"/>\n</g>\n<!-- 140672566562576 -->\n<g id=\"node70\" class=\"node\">\n<title>140672566562576</title>\n<polygon fill=\"lightgrey\" stroke=\"black\" points=\"866,-916.5 789,-916.5 789,-897.5 866,-897.5 866,-916.5\"/>\n<text text-anchor=\"middle\" x=\"827.5\" y=\"-904.5\" font-family=\"monospace\" font-size=\"10.00\">TBackward0</text>\n</g>\n<!-- 140672566562576&#45;&gt;140672083803632 -->\n<g id=\"edge68\" class=\"edge\">\n<title>140672566562576&#45;&gt;140672083803632</title>\n<path fill=\"none\" stroke=\"black\" d=\"M849.08,-897.37C876.71,-886.32 924.79,-867.08 956.38,-854.45\"/>\n<polygon fill=\"black\" stroke=\"black\" points=\"958.02,-857.56 966.01,-850.6 955.42,-851.06 958.02,-857.56\"/>\n</g>\n<!-- 140672566406736 -->\n<g id=\"node71\" class=\"node\">\n<title>140672566406736</title>\n<polygon fill=\"lightgrey\" stroke=\"black\" points=\"848,-982.5 747,-982.5 747,-963.5 848,-963.5 848,-982.5\"/>\n<text text-anchor=\"middle\" x=\"797.5\" y=\"-970.5\" font-family=\"monospace\" font-size=\"10.00\">AccumulateGrad</text>\n</g>\n<!-- 140672566406736&#45;&gt;140672566562576 -->\n<g id=\"edge69\" class=\"edge\">\n<title>140672566406736&#45;&gt;140672566562576</title>\n<path fill=\"none\" stroke=\"black\" d=\"M801.55,-963.37C805.99,-953.88 813.27,-938.36 818.99,-926.16\"/>\n<polygon fill=\"black\" stroke=\"black\" points=\"822.25,-927.45 823.33,-916.91 815.91,-924.47 822.25,-927.45\"/>\n</g>\n<!-- 140672566588976 -->\n<g id=\"node72\" class=\"node\">\n<title>140672566588976</title>\n<polygon fill=\"lightblue\" stroke=\"black\" points=\"875,-1054 720,-1054 720,-1024 875,-1024 875,-1054\"/>\n<text text-anchor=\"middle\" x=\"797.5\" y=\"-1042\" font-family=\"monospace\" font-size=\"10.00\">concatenate_NN.0.weight</text>\n<text text-anchor=\"middle\" x=\"797.5\" y=\"-1031\" font-family=\"monospace\" font-size=\"10.00\"> (120, 250)</text>\n</g>\n<!-- 140672566588976&#45;&gt;140672566406736 -->\n<g id=\"edge70\" class=\"edge\">\n<title>140672566588976&#45;&gt;140672566406736</title>\n<path fill=\"none\" stroke=\"black\" d=\"M797.5,-1023.8C797.5,-1014.7 797.5,-1002.79 797.5,-992.9\"/>\n<polygon fill=\"black\" stroke=\"black\" points=\"801,-992.84 797.5,-982.84 794,-992.84 801,-992.84\"/>\n</g>\n<!-- 140672332088560 -->\n<g id=\"node73\" class=\"node\">\n<title>140672332088560</title>\n<polygon fill=\"lightgrey\" stroke=\"black\" points=\"1171,-784.5 1094,-784.5 1094,-765.5 1171,-765.5 1171,-784.5\"/>\n<text text-anchor=\"middle\" x=\"1132.5\" y=\"-772.5\" font-family=\"monospace\" font-size=\"10.00\">TBackward0</text>\n</g>\n<!-- 140672332088560&#45;&gt;140672310103008 -->\n<g id=\"edge71\" class=\"edge\">\n<title>140672332088560&#45;&gt;140672310103008</title>\n<path fill=\"none\" stroke=\"black\" d=\"M1112.94,-765.37C1088.19,-754.44 1045.33,-735.52 1016.69,-722.88\"/>\n<polygon fill=\"black\" stroke=\"black\" points=\"1017.77,-719.54 1007.21,-718.7 1014.94,-725.94 1017.77,-719.54\"/>\n</g>\n<!-- 140672566406976 -->\n<g id=\"node74\" class=\"node\">\n<title>140672566406976</title>\n<polygon fill=\"lightgrey\" stroke=\"black\" points=\"1224,-850.5 1123,-850.5 1123,-831.5 1224,-831.5 1224,-850.5\"/>\n<text text-anchor=\"middle\" x=\"1173.5\" y=\"-838.5\" font-family=\"monospace\" font-size=\"10.00\">AccumulateGrad</text>\n</g>\n<!-- 140672566406976&#45;&gt;140672332088560 -->\n<g id=\"edge72\" class=\"edge\">\n<title>140672566406976&#45;&gt;140672332088560</title>\n<path fill=\"none\" stroke=\"black\" d=\"M1167.97,-831.37C1161.77,-821.69 1151.55,-805.74 1143.67,-793.44\"/>\n<polygon fill=\"black\" stroke=\"black\" points=\"1146.55,-791.44 1138.2,-784.91 1140.65,-795.21 1146.55,-791.44\"/>\n</g>\n<!-- 140672566589136 -->\n<g id=\"node75\" class=\"node\">\n<title>140672566589136</title>\n<polygon fill=\"lightblue\" stroke=\"black\" points=\"1288,-922 1133,-922 1133,-892 1288,-892 1288,-922\"/>\n<text text-anchor=\"middle\" x=\"1210.5\" y=\"-910\" font-family=\"monospace\" font-size=\"10.00\">concatenate_NN.2.weight</text>\n<text text-anchor=\"middle\" x=\"1210.5\" y=\"-899\" font-family=\"monospace\" font-size=\"10.00\"> (100, 120)</text>\n</g>\n<!-- 140672566589136&#45;&gt;140672566406976 -->\n<g id=\"edge73\" class=\"edge\">\n<title>140672566589136&#45;&gt;140672566406976</title>\n<path fill=\"none\" stroke=\"black\" d=\"M1202.29,-891.8C1196.8,-882.31 1189.55,-869.76 1183.69,-859.63\"/>\n<polygon fill=\"black\" stroke=\"black\" points=\"1186.65,-857.75 1178.61,-850.84 1180.59,-861.25 1186.65,-857.75\"/>\n</g>\n<!-- 140672310100704 -->\n<g id=\"node76\" class=\"node\">\n<title>140672310100704</title>\n<polygon fill=\"lightgrey\" stroke=\"black\" points=\"762,-652.5 685,-652.5 685,-633.5 762,-633.5 762,-652.5\"/>\n<text text-anchor=\"middle\" x=\"723.5\" y=\"-640.5\" font-family=\"monospace\" font-size=\"10.00\">TBackward0</text>\n</g>\n<!-- 140672310100704&#45;&gt;140672083817424 -->\n<g id=\"edge74\" class=\"edge\">\n<title>140672310100704&#45;&gt;140672083817424</title>\n<path fill=\"none\" stroke=\"black\" d=\"M746.02,-633.37C774.99,-622.27 825.48,-602.92 858.44,-590.28\"/>\n<polygon fill=\"black\" stroke=\"black\" points=\"859.98,-593.44 868.07,-586.6 857.48,-586.91 859.98,-593.44\"/>\n</g>\n<!-- 140672083802864 -->\n<g id=\"node77\" class=\"node\">\n<title>140672083802864</title>\n<polygon fill=\"lightgrey\" stroke=\"black\" points=\"758,-718.5 657,-718.5 657,-699.5 758,-699.5 758,-718.5\"/>\n<text text-anchor=\"middle\" x=\"707.5\" y=\"-706.5\" font-family=\"monospace\" font-size=\"10.00\">AccumulateGrad</text>\n</g>\n<!-- 140672083802864&#45;&gt;140672310100704 -->\n<g id=\"edge75\" class=\"edge\">\n<title>140672083802864&#45;&gt;140672310100704</title>\n<path fill=\"none\" stroke=\"black\" d=\"M709.66,-699.37C711.98,-690.07 715.76,-674.98 718.78,-662.9\"/>\n<polygon fill=\"black\" stroke=\"black\" points=\"722.24,-663.46 721.27,-652.91 715.45,-661.76 722.24,-663.46\"/>\n</g>\n<!-- 140672566589296 -->\n<g id=\"node78\" class=\"node\">\n<title>140672566589296</title>\n<polygon fill=\"lightblue\" stroke=\"black\" points=\"785,-790 630,-790 630,-760 785,-760 785,-790\"/>\n<text text-anchor=\"middle\" x=\"707.5\" y=\"-778\" font-family=\"monospace\" font-size=\"10.00\">concatenate_NN.4.weight</text>\n<text text-anchor=\"middle\" x=\"707.5\" y=\"-767\" font-family=\"monospace\" font-size=\"10.00\"> (80, 100)</text>\n</g>\n<!-- 140672566589296&#45;&gt;140672083802864 -->\n<g id=\"edge76\" class=\"edge\">\n<title>140672566589296&#45;&gt;140672083802864</title>\n<path fill=\"none\" stroke=\"black\" d=\"M707.5,-759.8C707.5,-750.7 707.5,-738.79 707.5,-728.9\"/>\n<polygon fill=\"black\" stroke=\"black\" points=\"711,-728.84 707.5,-718.84 704,-728.84 711,-728.84\"/>\n</g>\n<!-- 140672083818912 -->\n<g id=\"node79\" class=\"node\">\n<title>140672083818912</title>\n<polygon fill=\"lightgrey\" stroke=\"black\" points=\"1033,-520.5 956,-520.5 956,-501.5 1033,-501.5 1033,-520.5\"/>\n<text text-anchor=\"middle\" x=\"994.5\" y=\"-508.5\" font-family=\"monospace\" font-size=\"10.00\">TBackward0</text>\n</g>\n<!-- 140672083818912&#45;&gt;140672083819968 -->\n<g id=\"edge77\" class=\"edge\">\n<title>140672083818912&#45;&gt;140672083819968</title>\n<path fill=\"none\" stroke=\"black\" d=\"M968.61,-501.37C934.87,-490.12 875.75,-470.42 837.89,-457.8\"/>\n<polygon fill=\"black\" stroke=\"black\" points=\"838.88,-454.44 828.29,-454.6 836.67,-461.08 838.88,-454.44\"/>\n</g>\n<!-- 140672310101952 -->\n<g id=\"node80\" class=\"node\">\n<title>140672310101952</title>\n<polygon fill=\"lightgrey\" stroke=\"black\" points=\"1132,-586.5 1031,-586.5 1031,-567.5 1132,-567.5 1132,-586.5\"/>\n<text text-anchor=\"middle\" x=\"1081.5\" y=\"-574.5\" font-family=\"monospace\" font-size=\"10.00\">AccumulateGrad</text>\n</g>\n<!-- 140672310101952&#45;&gt;140672083818912 -->\n<g id=\"edge78\" class=\"edge\">\n<title>140672310101952&#45;&gt;140672083818912</title>\n<path fill=\"none\" stroke=\"black\" d=\"M1069.77,-567.37C1055.63,-556.97 1031.64,-539.32 1014.55,-526.75\"/>\n<polygon fill=\"black\" stroke=\"black\" points=\"1016.45,-523.81 1006.33,-520.7 1012.31,-529.44 1016.45,-523.81\"/>\n</g>\n<!-- 140672566589456 -->\n<g id=\"node81\" class=\"node\">\n<title>140672566589456</title>\n<polygon fill=\"lightblue\" stroke=\"black\" points=\"1202,-658 1047,-658 1047,-628 1202,-628 1202,-658\"/>\n<text text-anchor=\"middle\" x=\"1124.5\" y=\"-646\" font-family=\"monospace\" font-size=\"10.00\">concatenate_NN.6.weight</text>\n<text text-anchor=\"middle\" x=\"1124.5\" y=\"-635\" font-family=\"monospace\" font-size=\"10.00\"> (50, 80)</text>\n</g>\n<!-- 140672566589456&#45;&gt;140672310101952 -->\n<g id=\"edge79\" class=\"edge\">\n<title>140672566589456&#45;&gt;140672310101952</title>\n<path fill=\"none\" stroke=\"black\" d=\"M1114.96,-627.8C1108.52,-618.21 1099.98,-605.5 1093.14,-595.32\"/>\n<polygon fill=\"black\" stroke=\"black\" points=\"1095.92,-593.19 1087.44,-586.84 1090.11,-597.1 1095.92,-593.19\"/>\n</g>\n<!-- 140672083820208 -->\n<g id=\"node82\" class=\"node\">\n<title>140672083820208</title>\n<polygon fill=\"lightgrey\" stroke=\"black\" points=\"118,-454.5 41,-454.5 41,-435.5 118,-435.5 118,-454.5\"/>\n<text text-anchor=\"middle\" x=\"79.5\" y=\"-442.5\" font-family=\"monospace\" font-size=\"10.00\">TBackward0</text>\n</g>\n<!-- 140672083820208&#45;&gt;140672058464672 -->\n<g id=\"edge80\" class=\"edge\">\n<title>140672083820208&#45;&gt;140672058464672</title>\n<path fill=\"none\" stroke=\"black\" d=\"M95.68,-435.37C115.81,-424.63 150.41,-406.18 174.09,-393.55\"/>\n<polygon fill=\"black\" stroke=\"black\" points=\"176.01,-396.49 183.19,-388.7 172.72,-390.32 176.01,-396.49\"/>\n</g>\n<!-- 140672083817136 -->\n<g id=\"node83\" class=\"node\">\n<title>140672083817136</title>\n<polygon fill=\"lightgrey\" stroke=\"black\" points=\"123,-520.5 22,-520.5 22,-501.5 123,-501.5 123,-520.5\"/>\n<text text-anchor=\"middle\" x=\"72.5\" y=\"-508.5\" font-family=\"monospace\" font-size=\"10.00\">AccumulateGrad</text>\n</g>\n<!-- 140672083817136&#45;&gt;140672083820208 -->\n<g id=\"edge81\" class=\"edge\">\n<title>140672083817136&#45;&gt;140672083820208</title>\n<path fill=\"none\" stroke=\"black\" d=\"M73.44,-501.37C74.46,-492.07 76.11,-476.98 77.43,-464.9\"/>\n<polygon fill=\"black\" stroke=\"black\" points=\"80.92,-465.23 78.53,-454.91 73.96,-464.47 80.92,-465.23\"/>\n</g>\n<!-- 140672566589616 -->\n<g id=\"node84\" class=\"node\">\n<title>140672566589616</title>\n<polygon fill=\"lightblue\" stroke=\"black\" points=\"144,-592 1,-592 1,-562 144,-562 144,-592\"/>\n<text text-anchor=\"middle\" x=\"72.5\" y=\"-580\" font-family=\"monospace\" font-size=\"10.00\">HumourLayers.0.weight</text>\n<text text-anchor=\"middle\" x=\"72.5\" y=\"-569\" font-family=\"monospace\" font-size=\"10.00\"> (40, 50)</text>\n</g>\n<!-- 140672566589616&#45;&gt;140672083817136 -->\n<g id=\"edge82\" class=\"edge\">\n<title>140672566589616&#45;&gt;140672083817136</title>\n<path fill=\"none\" stroke=\"black\" d=\"M72.5,-561.8C72.5,-552.7 72.5,-540.79 72.5,-530.9\"/>\n<polygon fill=\"black\" stroke=\"black\" points=\"76,-530.84 72.5,-520.84 69,-530.84 76,-530.84\"/>\n</g>\n<!-- 140672083819392 -->\n<g id=\"node85\" class=\"node\">\n<title>140672083819392</title>\n<polygon fill=\"lightgrey\" stroke=\"black\" points=\"337,-322.5 260,-322.5 260,-303.5 337,-303.5 337,-322.5\"/>\n<text text-anchor=\"middle\" x=\"298.5\" y=\"-310.5\" font-family=\"monospace\" font-size=\"10.00\">TBackward0</text>\n</g>\n<!-- 140672083819392&#45;&gt;140672083816608 -->\n<g id=\"edge83\" class=\"edge\">\n<title>140672083819392&#45;&gt;140672083816608</title>\n<path fill=\"none\" stroke=\"black\" d=\"M291.49,-303.37C283.47,-293.5 270.15,-277.11 260.08,-264.72\"/>\n<polygon fill=\"black\" stroke=\"black\" points=\"262.76,-262.46 253.74,-256.91 257.33,-266.87 262.76,-262.46\"/>\n</g>\n<!-- 140672083818048 -->\n<g id=\"node86\" class=\"node\">\n<title>140672083818048</title>\n<polygon fill=\"lightgrey\" stroke=\"black\" points=\"380,-388.5 279,-388.5 279,-369.5 380,-369.5 380,-388.5\"/>\n<text text-anchor=\"middle\" x=\"329.5\" y=\"-376.5\" font-family=\"monospace\" font-size=\"10.00\">AccumulateGrad</text>\n</g>\n<!-- 140672083818048&#45;&gt;140672083819392 -->\n<g id=\"edge84\" class=\"edge\">\n<title>140672083818048&#45;&gt;140672083819392</title>\n<path fill=\"none\" stroke=\"black\" d=\"M325.32,-369.37C320.72,-359.88 313.21,-344.36 307.3,-332.16\"/>\n<polygon fill=\"black\" stroke=\"black\" points=\"310.32,-330.38 302.81,-322.91 304.02,-333.43 310.32,-330.38\"/>\n</g>\n<!-- 140672566589776 -->\n<g id=\"node87\" class=\"node\">\n<title>140672566589776</title>\n<polygon fill=\"lightblue\" stroke=\"black\" points=\"411,-460 268,-460 268,-430 411,-430 411,-460\"/>\n<text text-anchor=\"middle\" x=\"339.5\" y=\"-448\" font-family=\"monospace\" font-size=\"10.00\">HumourLayers.2.weight</text>\n<text text-anchor=\"middle\" x=\"339.5\" y=\"-437\" font-family=\"monospace\" font-size=\"10.00\"> (20, 40)</text>\n</g>\n<!-- 140672566589776&#45;&gt;140672083818048 -->\n<g id=\"edge85\" class=\"edge\">\n<title>140672566589776&#45;&gt;140672083818048</title>\n<path fill=\"none\" stroke=\"black\" d=\"M337.28,-429.8C335.86,-420.7 334,-408.79 332.45,-398.9\"/>\n<polygon fill=\"black\" stroke=\"black\" points=\"335.88,-398.18 330.88,-388.84 328.97,-399.26 335.88,-398.18\"/>\n</g>\n<!-- 140672310100512 -->\n<g id=\"node88\" class=\"node\">\n<title>140672310100512</title>\n<polygon fill=\"lightgrey\" stroke=\"black\" points=\"403,-196 326,-196 326,-177 403,-177 403,-196\"/>\n<text text-anchor=\"middle\" x=\"364.5\" y=\"-184\" font-family=\"monospace\" font-size=\"10.00\">TBackward0</text>\n</g>\n<!-- 140672310100512&#45;&gt;140672310102096 -->\n<g id=\"edge86\" class=\"edge\">\n<title>140672310100512&#45;&gt;140672310102096</title>\n<path fill=\"none\" stroke=\"black\" d=\"M345.54,-176.98C326.47,-168.42 296.84,-155.11 274.95,-145.28\"/>\n<polygon fill=\"black\" stroke=\"black\" points=\"276.36,-142.07 265.8,-141.17 273.49,-148.46 276.36,-142.07\"/>\n</g>\n<!-- 140672566562240 -->\n<g id=\"node89\" class=\"node\">\n<title>140672566562240</title>\n<polygon fill=\"lightgrey\" stroke=\"black\" points=\"420,-256.5 319,-256.5 319,-237.5 420,-237.5 420,-256.5\"/>\n<text text-anchor=\"middle\" x=\"369.5\" y=\"-244.5\" font-family=\"monospace\" font-size=\"10.00\">AccumulateGrad</text>\n</g>\n<!-- 140672566562240&#45;&gt;140672310100512 -->\n<g id=\"edge87\" class=\"edge\">\n<title>140672566562240&#45;&gt;140672310100512</title>\n<path fill=\"none\" stroke=\"black\" d=\"M368.76,-237.37C368.07,-229.25 367,-216.81 366.11,-206.39\"/>\n<polygon fill=\"black\" stroke=\"black\" points=\"369.58,-205.83 365.24,-196.17 362.61,-206.43 369.58,-205.83\"/>\n</g>\n<!-- 140672566589936 -->\n<g id=\"node90\" class=\"node\">\n<title>140672566589936</title>\n<polygon fill=\"lightblue\" stroke=\"black\" points=\"498,-328 355,-328 355,-298 498,-298 498,-328\"/>\n<text text-anchor=\"middle\" x=\"426.5\" y=\"-316\" font-family=\"monospace\" font-size=\"10.00\">HumourLayers.4.weight</text>\n<text text-anchor=\"middle\" x=\"426.5\" y=\"-305\" font-family=\"monospace\" font-size=\"10.00\"> (2, 20)</text>\n</g>\n<!-- 140672566589936&#45;&gt;140672566562240 -->\n<g id=\"edge88\" class=\"edge\">\n<title>140672566589936&#45;&gt;140672566562240</title>\n<path fill=\"none\" stroke=\"black\" d=\"M413.85,-297.8C405.05,-287.92 393.3,-274.72 384.1,-264.39\"/>\n<polygon fill=\"black\" stroke=\"black\" points=\"386.64,-261.98 377.38,-256.84 381.41,-266.64 386.64,-261.98\"/>\n</g>\n<!-- 140671672583568 -->\n<g id=\"node91\" class=\"node\">\n<title>140671672583568</title>\n<polygon fill=\"#caff70\" stroke=\"black\" points=\"757,-31 698,-31 698,0 757,0 757,-31\"/>\n<text text-anchor=\"middle\" x=\"727.5\" y=\"-7\" font-family=\"monospace\" font-size=\"10.00\"> (1, 2)</text>\n</g>\n<!-- 140672566560416 -->\n<g id=\"node92\" class=\"node\">\n<title>140672566560416</title>\n<polygon fill=\"lightgrey\" stroke=\"black\" points=\"784,-86 671,-86 671,-67 784,-67 784,-86\"/>\n<text text-anchor=\"middle\" x=\"727.5\" y=\"-74\" font-family=\"monospace\" font-size=\"10.00\">SigmoidBackward0</text>\n</g>\n<!-- 140672566560416&#45;&gt;140671672583568 -->\n<g id=\"edge111\" class=\"edge\">\n<title>140672566560416&#45;&gt;140671672583568</title>\n<path fill=\"none\" stroke=\"black\" d=\"M727.5,-66.79C727.5,-60.07 727.5,-50.4 727.5,-41.34\"/>\n<polygon fill=\"black\" stroke=\"black\" points=\"731,-41.19 727.5,-31.19 724,-41.19 731,-41.19\"/>\n</g>\n<!-- 140672083819536 -->\n<g id=\"node93\" class=\"node\">\n<title>140672083819536</title>\n<polygon fill=\"lightgrey\" stroke=\"black\" points=\"778,-141 677,-141 677,-122 778,-122 778,-141\"/>\n<text text-anchor=\"middle\" x=\"727.5\" y=\"-129\" font-family=\"monospace\" font-size=\"10.00\">AddmmBackward0</text>\n</g>\n<!-- 140672083819536&#45;&gt;140672566560416 -->\n<g id=\"edge90\" class=\"edge\">\n<title>140672083819536&#45;&gt;140672566560416</title>\n<path fill=\"none\" stroke=\"black\" d=\"M727.5,-121.75C727.5,-114.8 727.5,-104.85 727.5,-96.13\"/>\n<polygon fill=\"black\" stroke=\"black\" points=\"731,-96.09 727.5,-86.09 724,-96.09 731,-96.09\"/>\n</g>\n<!-- 140672332088512 -->\n<g id=\"node94\" class=\"node\">\n<title>140672332088512</title>\n<polygon fill=\"lightgrey\" stroke=\"black\" points=\"647,-196 546,-196 546,-177 647,-177 647,-196\"/>\n<text text-anchor=\"middle\" x=\"596.5\" y=\"-184\" font-family=\"monospace\" font-size=\"10.00\">AccumulateGrad</text>\n</g>\n<!-- 140672332088512&#45;&gt;140672083819536 -->\n<g id=\"edge91\" class=\"edge\">\n<title>140672332088512&#45;&gt;140672083819536</title>\n<path fill=\"none\" stroke=\"black\" d=\"M617.55,-176.98C638.91,-168.34 672.2,-154.87 696.56,-145.02\"/>\n<polygon fill=\"black\" stroke=\"black\" points=\"698.11,-148.17 706.07,-141.17 695.49,-141.68 698.11,-148.17\"/>\n</g>\n<!-- 140672566590496 -->\n<g id=\"node95\" class=\"node\">\n<title>140672566590496</title>\n<polygon fill=\"lightblue\" stroke=\"black\" points=\"659,-262 522,-262 522,-232 659,-232 659,-262\"/>\n<text text-anchor=\"middle\" x=\"590.5\" y=\"-250\" font-family=\"monospace\" font-size=\"10.00\">SarcasmLayers.4.bias</text>\n<text text-anchor=\"middle\" x=\"590.5\" y=\"-239\" font-family=\"monospace\" font-size=\"10.00\"> (2)</text>\n</g>\n<!-- 140672566590496&#45;&gt;140672332088512 -->\n<g id=\"edge92\" class=\"edge\">\n<title>140672566590496&#45;&gt;140672332088512</title>\n<path fill=\"none\" stroke=\"black\" d=\"M591.95,-231.84C592.73,-224.21 593.71,-214.7 594.56,-206.45\"/>\n<polygon fill=\"black\" stroke=\"black\" points=\"598.06,-206.57 595.6,-196.27 591.1,-205.86 598.06,-206.57\"/>\n</g>\n<!-- 140672332089712 -->\n<g id=\"node96\" class=\"node\">\n<title>140672332089712</title>\n<polygon fill=\"lightgrey\" stroke=\"black\" points=\"784,-196 671,-196 671,-177 784,-177 784,-196\"/>\n<text text-anchor=\"middle\" x=\"727.5\" y=\"-184\" font-family=\"monospace\" font-size=\"10.00\">SigmoidBackward0</text>\n</g>\n<!-- 140672332089712&#45;&gt;140672083819536 -->\n<g id=\"edge93\" class=\"edge\">\n<title>140672332089712&#45;&gt;140672083819536</title>\n<path fill=\"none\" stroke=\"black\" d=\"M727.5,-176.75C727.5,-169.8 727.5,-159.85 727.5,-151.13\"/>\n<polygon fill=\"black\" stroke=\"black\" points=\"731,-151.09 727.5,-141.09 724,-151.09 731,-151.09\"/>\n</g>\n<!-- 140672166940384 -->\n<g id=\"node97\" class=\"node\">\n<title>140672166940384</title>\n<polygon fill=\"lightgrey\" stroke=\"black\" points=\"778,-256.5 677,-256.5 677,-237.5 778,-237.5 778,-256.5\"/>\n<text text-anchor=\"middle\" x=\"727.5\" y=\"-244.5\" font-family=\"monospace\" font-size=\"10.00\">AddmmBackward0</text>\n</g>\n<!-- 140672166940384&#45;&gt;140672332089712 -->\n<g id=\"edge94\" class=\"edge\">\n<title>140672166940384&#45;&gt;140672332089712</title>\n<path fill=\"none\" stroke=\"black\" d=\"M727.5,-237.37C727.5,-229.25 727.5,-216.81 727.5,-206.39\"/>\n<polygon fill=\"black\" stroke=\"black\" points=\"731,-206.17 727.5,-196.17 724,-206.17 731,-206.17\"/>\n</g>\n<!-- 140672166939904 -->\n<g id=\"node98\" class=\"node\">\n<title>140672166939904</title>\n<polygon fill=\"lightgrey\" stroke=\"black\" points=\"617,-322.5 516,-322.5 516,-303.5 617,-303.5 617,-322.5\"/>\n<text text-anchor=\"middle\" x=\"566.5\" y=\"-310.5\" font-family=\"monospace\" font-size=\"10.00\">AccumulateGrad</text>\n</g>\n<!-- 140672166939904&#45;&gt;140672166940384 -->\n<g id=\"edge95\" class=\"edge\">\n<title>140672166939904&#45;&gt;140672166940384</title>\n<path fill=\"none\" stroke=\"black\" d=\"M588.21,-303.37C616.02,-292.32 664.4,-273.08 696.18,-260.45\"/>\n<polygon fill=\"black\" stroke=\"black\" points=\"697.87,-263.54 705.87,-256.6 695.29,-257.04 697.87,-263.54\"/>\n</g>\n<!-- 140672566590336 -->\n<g id=\"node99\" class=\"node\">\n<title>140672566590336</title>\n<polygon fill=\"lightblue\" stroke=\"black\" points=\"614,-394 477,-394 477,-364 614,-364 614,-394\"/>\n<text text-anchor=\"middle\" x=\"545.5\" y=\"-382\" font-family=\"monospace\" font-size=\"10.00\">SarcasmLayers.2.bias</text>\n<text text-anchor=\"middle\" x=\"545.5\" y=\"-371\" font-family=\"monospace\" font-size=\"10.00\"> (20)</text>\n</g>\n<!-- 140672566590336&#45;&gt;140672166939904 -->\n<g id=\"edge96\" class=\"edge\">\n<title>140672566590336&#45;&gt;140672166939904</title>\n<path fill=\"none\" stroke=\"black\" d=\"M550.16,-363.8C553.18,-354.6 557.14,-342.53 560.4,-332.58\"/>\n<polygon fill=\"black\" stroke=\"black\" points=\"563.81,-333.44 563.6,-322.84 557.15,-331.25 563.81,-333.44\"/>\n</g>\n<!-- 140672166940096 -->\n<g id=\"node100\" class=\"node\">\n<title>140672166940096</title>\n<polygon fill=\"lightgrey\" stroke=\"black\" points=\"730,-322.5 635,-322.5 635,-303.5 730,-303.5 730,-322.5\"/>\n<text text-anchor=\"middle\" x=\"682.5\" y=\"-310.5\" font-family=\"monospace\" font-size=\"10.00\">ReluBackward0</text>\n</g>\n<!-- 140672166940096&#45;&gt;140672166940384 -->\n<g id=\"edge97\" class=\"edge\">\n<title>140672166940096&#45;&gt;140672166940384</title>\n<path fill=\"none\" stroke=\"black\" d=\"M688.57,-303.37C695.37,-293.69 706.59,-277.74 715.24,-265.44\"/>\n<polygon fill=\"black\" stroke=\"black\" points=\"718.35,-267.1 721.24,-256.91 712.62,-263.07 718.35,-267.1\"/>\n</g>\n<!-- 140672166939808&#45;&gt;140672166940096 -->\n<g id=\"edge98\" class=\"edge\">\n<title>140672166939808&#45;&gt;140672166940096</title>\n<path fill=\"none\" stroke=\"black\" d=\"M682.5,-369.37C682.5,-360.16 682.5,-345.29 682.5,-333.27\"/>\n<polygon fill=\"black\" stroke=\"black\" points=\"686,-332.91 682.5,-322.91 679,-332.91 686,-332.91\"/>\n</g>\n<!-- 140672166939616 -->\n<g id=\"node102\" class=\"node\">\n<title>140672166939616</title>\n<polygon fill=\"lightgrey\" stroke=\"black\" points=\"725,-454.5 624,-454.5 624,-435.5 725,-435.5 725,-454.5\"/>\n<text text-anchor=\"middle\" x=\"674.5\" y=\"-442.5\" font-family=\"monospace\" font-size=\"10.00\">AccumulateGrad</text>\n</g>\n<!-- 140672166939616&#45;&gt;140672166939808 -->\n<g id=\"edge99\" class=\"edge\">\n<title>140672166939616&#45;&gt;140672166939808</title>\n<path fill=\"none\" stroke=\"black\" d=\"M675.58,-435.37C676.74,-426.07 678.63,-410.98 680.14,-398.9\"/>\n<polygon fill=\"black\" stroke=\"black\" points=\"683.62,-399.26 681.39,-388.91 676.67,-398.39 683.62,-399.26\"/>\n</g>\n<!-- 140672566590176 -->\n<g id=\"node103\" class=\"node\">\n<title>140672566590176</title>\n<polygon fill=\"lightblue\" stroke=\"black\" points=\"706,-526 569,-526 569,-496 706,-496 706,-526\"/>\n<text text-anchor=\"middle\" x=\"637.5\" y=\"-514\" font-family=\"monospace\" font-size=\"10.00\">SarcasmLayers.0.bias</text>\n<text text-anchor=\"middle\" x=\"637.5\" y=\"-503\" font-family=\"monospace\" font-size=\"10.00\"> (40)</text>\n</g>\n<!-- 140672566590176&#45;&gt;140672166939616 -->\n<g id=\"edge100\" class=\"edge\">\n<title>140672566590176&#45;&gt;140672166939616</title>\n<path fill=\"none\" stroke=\"black\" d=\"M645.71,-495.8C651.2,-486.31 658.45,-473.76 664.31,-463.63\"/>\n<polygon fill=\"black\" stroke=\"black\" points=\"667.41,-465.25 669.39,-454.84 661.35,-461.75 667.41,-465.25\"/>\n</g>\n<!-- 140672166939664 -->\n<g id=\"node104\" class=\"node\">\n<title>140672166939664</title>\n<polygon fill=\"lightgrey\" stroke=\"black\" points=\"582,-454.5 505,-454.5 505,-435.5 582,-435.5 582,-454.5\"/>\n<text text-anchor=\"middle\" x=\"543.5\" y=\"-442.5\" font-family=\"monospace\" font-size=\"10.00\">TBackward0</text>\n</g>\n<!-- 140672166939664&#45;&gt;140672166939808 -->\n<g id=\"edge102\" class=\"edge\">\n<title>140672166939664&#45;&gt;140672166939808</title>\n<path fill=\"none\" stroke=\"black\" d=\"M562.25,-435.37C585.98,-424.44 627.07,-405.52 654.52,-392.88\"/>\n<polygon fill=\"black\" stroke=\"black\" points=\"655.99,-396.06 663.61,-388.7 653.06,-389.7 655.99,-396.06\"/>\n</g>\n<!-- 140672166939568 -->\n<g id=\"node105\" class=\"node\">\n<title>140672166939568</title>\n<polygon fill=\"lightgrey\" stroke=\"black\" points=\"551,-520.5 450,-520.5 450,-501.5 551,-501.5 551,-520.5\"/>\n<text text-anchor=\"middle\" x=\"500.5\" y=\"-508.5\" font-family=\"monospace\" font-size=\"10.00\">AccumulateGrad</text>\n</g>\n<!-- 140672166939568&#45;&gt;140672166939664 -->\n<g id=\"edge103\" class=\"edge\">\n<title>140672166939568&#45;&gt;140672166939664</title>\n<path fill=\"none\" stroke=\"black\" d=\"M506.3,-501.37C512.8,-491.69 523.52,-475.74 531.78,-463.44\"/>\n<polygon fill=\"black\" stroke=\"black\" points=\"534.85,-465.16 537.52,-454.91 529.03,-461.25 534.85,-465.16\"/>\n</g>\n<!-- 140672566590096 -->\n<g id=\"node106\" class=\"node\">\n<title>140672566590096</title>\n<polygon fill=\"lightblue\" stroke=\"black\" points=\"575,-592 426,-592 426,-562 575,-562 575,-592\"/>\n<text text-anchor=\"middle\" x=\"500.5\" y=\"-580\" font-family=\"monospace\" font-size=\"10.00\">SarcasmLayers.0.weight</text>\n<text text-anchor=\"middle\" x=\"500.5\" y=\"-569\" font-family=\"monospace\" font-size=\"10.00\"> (40, 50)</text>\n</g>\n<!-- 140672566590096&#45;&gt;140672166939568 -->\n<g id=\"edge104\" class=\"edge\">\n<title>140672566590096&#45;&gt;140672166939568</title>\n<path fill=\"none\" stroke=\"black\" d=\"M500.5,-561.8C500.5,-552.7 500.5,-540.79 500.5,-530.9\"/>\n<polygon fill=\"black\" stroke=\"black\" points=\"504,-530.84 500.5,-520.84 497,-530.84 504,-530.84\"/>\n</g>\n<!-- 140672166940288 -->\n<g id=\"node107\" class=\"node\">\n<title>140672166940288</title>\n<polygon fill=\"lightgrey\" stroke=\"black\" points=\"825,-322.5 748,-322.5 748,-303.5 825,-303.5 825,-322.5\"/>\n<text text-anchor=\"middle\" x=\"786.5\" y=\"-310.5\" font-family=\"monospace\" font-size=\"10.00\">TBackward0</text>\n</g>\n<!-- 140672166940288&#45;&gt;140672166940384 -->\n<g id=\"edge105\" class=\"edge\">\n<title>140672166940288&#45;&gt;140672166940384</title>\n<path fill=\"none\" stroke=\"black\" d=\"M778.54,-303.37C769.36,-293.4 754.04,-276.79 742.58,-264.36\"/>\n<polygon fill=\"black\" stroke=\"black\" points=\"745.06,-261.89 735.71,-256.91 739.91,-266.63 745.06,-261.89\"/>\n</g>\n<!-- 140672166938848 -->\n<g id=\"node108\" class=\"node\">\n<title>140672166938848</title>\n<polygon fill=\"lightgrey\" stroke=\"black\" points=\"896,-388.5 795,-388.5 795,-369.5 896,-369.5 896,-388.5\"/>\n<text text-anchor=\"middle\" x=\"845.5\" y=\"-376.5\" font-family=\"monospace\" font-size=\"10.00\">AccumulateGrad</text>\n</g>\n<!-- 140672166938848&#45;&gt;140672166940288 -->\n<g id=\"edge106\" class=\"edge\">\n<title>140672166938848&#45;&gt;140672166940288</title>\n<path fill=\"none\" stroke=\"black\" d=\"M837.54,-369.37C828.36,-359.4 813.04,-342.79 801.58,-330.36\"/>\n<polygon fill=\"black\" stroke=\"black\" points=\"804.06,-327.89 794.71,-322.91 798.91,-332.63 804.06,-327.89\"/>\n</g>\n<!-- 140672566590256 -->\n<g id=\"node109\" class=\"node\">\n<title>140672566590256</title>\n<polygon fill=\"lightblue\" stroke=\"black\" points=\"1020,-460 871,-460 871,-430 1020,-430 1020,-460\"/>\n<text text-anchor=\"middle\" x=\"945.5\" y=\"-448\" font-family=\"monospace\" font-size=\"10.00\">SarcasmLayers.2.weight</text>\n<text text-anchor=\"middle\" x=\"945.5\" y=\"-437\" font-family=\"monospace\" font-size=\"10.00\"> (20, 40)</text>\n</g>\n<!-- 140672566590256&#45;&gt;140672166938848 -->\n<g id=\"edge107\" class=\"edge\">\n<title>140672566590256&#45;&gt;140672166938848</title>\n<path fill=\"none\" stroke=\"black\" d=\"M923.31,-429.8C906.7,-419.17 884.1,-404.7 867.53,-394.1\"/>\n<polygon fill=\"black\" stroke=\"black\" points=\"869.34,-391.1 859.03,-388.66 865.56,-397 869.34,-391.1\"/>\n</g>\n<!-- 140672166940192 -->\n<g id=\"node110\" class=\"node\">\n<title>140672166940192</title>\n<polygon fill=\"lightgrey\" stroke=\"black\" points=\"882,-196 805,-196 805,-177 882,-177 882,-196\"/>\n<text text-anchor=\"middle\" x=\"843.5\" y=\"-184\" font-family=\"monospace\" font-size=\"10.00\">TBackward0</text>\n</g>\n<!-- 140672166940192&#45;&gt;140672083819536 -->\n<g id=\"edge108\" class=\"edge\">\n<title>140672166940192&#45;&gt;140672083819536</title>\n<path fill=\"none\" stroke=\"black\" d=\"M824.86,-176.98C806.2,-168.46 777.25,-155.23 755.76,-145.41\"/>\n<polygon fill=\"black\" stroke=\"black\" points=\"757.03,-142.14 746.48,-141.17 754.12,-148.51 757.03,-142.14\"/>\n</g>\n<!-- 140672166939712 -->\n<g id=\"node111\" class=\"node\">\n<title>140672166939712</title>\n<polygon fill=\"lightgrey\" stroke=\"black\" points=\"941,-256.5 840,-256.5 840,-237.5 941,-237.5 941,-256.5\"/>\n<text text-anchor=\"middle\" x=\"890.5\" y=\"-244.5\" font-family=\"monospace\" font-size=\"10.00\">AccumulateGrad</text>\n</g>\n<!-- 140672166939712&#45;&gt;140672166940192 -->\n<g id=\"edge109\" class=\"edge\">\n<title>140672166939712&#45;&gt;140672166940192</title>\n<path fill=\"none\" stroke=\"black\" d=\"M883.56,-237.37C876.55,-228.64 865.54,-214.93 856.83,-204.09\"/>\n<polygon fill=\"black\" stroke=\"black\" points=\"859.46,-201.77 850.46,-196.17 854,-206.16 859.46,-201.77\"/>\n</g>\n<!-- 140672566590416 -->\n<g id=\"node112\" class=\"node\">\n<title>140672566590416</title>\n<polygon fill=\"lightblue\" stroke=\"black\" points=\"992,-328 843,-328 843,-298 992,-298 992,-328\"/>\n<text text-anchor=\"middle\" x=\"917.5\" y=\"-316\" font-family=\"monospace\" font-size=\"10.00\">SarcasmLayers.4.weight</text>\n<text text-anchor=\"middle\" x=\"917.5\" y=\"-305\" font-family=\"monospace\" font-size=\"10.00\"> (2, 20)</text>\n</g>\n<!-- 140672566590416&#45;&gt;140672166939712 -->\n<g id=\"edge110\" class=\"edge\">\n<title>140672566590416&#45;&gt;140672166939712</title>\n<path fill=\"none\" stroke=\"black\" d=\"M911.51,-297.8C907.59,-288.5 902.43,-276.27 898.2,-266.26\"/>\n<polygon fill=\"black\" stroke=\"black\" points=\"901.34,-264.7 894.23,-256.84 894.89,-267.42 901.34,-264.7\"/>\n</g>\n<!-- 140671672583808 -->\n<g id=\"node113\" class=\"node\">\n<title>140671672583808</title>\n<polygon fill=\"#caff70\" stroke=\"black\" points=\"1228,-31 1169,-31 1169,0 1228,0 1228,-31\"/>\n<text text-anchor=\"middle\" x=\"1198.5\" y=\"-7\" font-family=\"monospace\" font-size=\"10.00\"> (1, 2)</text>\n</g>\n<!-- 140672058464576 -->\n<g id=\"node114\" class=\"node\">\n<title>140672058464576</title>\n<polygon fill=\"lightgrey\" stroke=\"black\" points=\"1255,-86 1142,-86 1142,-67 1255,-67 1255,-86\"/>\n<text text-anchor=\"middle\" x=\"1198.5\" y=\"-74\" font-family=\"monospace\" font-size=\"10.00\">SigmoidBackward0</text>\n</g>\n<!-- 140672058464576&#45;&gt;140671672583808 -->\n<g id=\"edge133\" class=\"edge\">\n<title>140672058464576&#45;&gt;140671672583808</title>\n<path fill=\"none\" stroke=\"black\" d=\"M1198.5,-66.79C1198.5,-60.07 1198.5,-50.4 1198.5,-41.34\"/>\n<polygon fill=\"black\" stroke=\"black\" points=\"1202,-41.19 1198.5,-31.19 1195,-41.19 1202,-41.19\"/>\n</g>\n<!-- 140672166938704 -->\n<g id=\"node115\" class=\"node\">\n<title>140672166938704</title>\n<polygon fill=\"lightgrey\" stroke=\"black\" points=\"1249,-141 1148,-141 1148,-122 1249,-122 1249,-141\"/>\n<text text-anchor=\"middle\" x=\"1198.5\" y=\"-129\" font-family=\"monospace\" font-size=\"10.00\">AddmmBackward0</text>\n</g>\n<!-- 140672166938704&#45;&gt;140672058464576 -->\n<g id=\"edge112\" class=\"edge\">\n<title>140672166938704&#45;&gt;140672058464576</title>\n<path fill=\"none\" stroke=\"black\" d=\"M1198.5,-121.75C1198.5,-114.8 1198.5,-104.85 1198.5,-96.13\"/>\n<polygon fill=\"black\" stroke=\"black\" points=\"1202,-96.09 1198.5,-86.09 1195,-96.09 1202,-96.09\"/>\n</g>\n<!-- 140672166940576 -->\n<g id=\"node116\" class=\"node\">\n<title>140672166940576</title>\n<polygon fill=\"lightgrey\" stroke=\"black\" points=\"1115,-196 1014,-196 1014,-177 1115,-177 1115,-196\"/>\n<text text-anchor=\"middle\" x=\"1064.5\" y=\"-184\" font-family=\"monospace\" font-size=\"10.00\">AccumulateGrad</text>\n</g>\n<!-- 140672166940576&#45;&gt;140672166938704 -->\n<g id=\"edge113\" class=\"edge\">\n<title>140672166940576&#45;&gt;140672166938704</title>\n<path fill=\"none\" stroke=\"black\" d=\"M1086.03,-176.98C1107.97,-168.3 1142.24,-154.75 1167.19,-144.88\"/>\n<polygon fill=\"black\" stroke=\"black\" points=\"1168.57,-148.1 1176.58,-141.17 1165.99,-141.59 1168.57,-148.1\"/>\n</g>\n<!-- 140672566590976 -->\n<g id=\"node117\" class=\"node\">\n<title>140672566590976</title>\n<polygon fill=\"lightblue\" stroke=\"black\" points=\"1130,-262 981,-262 981,-232 1130,-232 1130,-262\"/>\n<text text-anchor=\"middle\" x=\"1055.5\" y=\"-250\" font-family=\"monospace\" font-size=\"10.00\">OffensiveLayers.4.bias</text>\n<text text-anchor=\"middle\" x=\"1055.5\" y=\"-239\" font-family=\"monospace\" font-size=\"10.00\"> (2)</text>\n</g>\n<!-- 140672566590976&#45;&gt;140672166940576 -->\n<g id=\"edge114\" class=\"edge\">\n<title>140672566590976&#45;&gt;140672166940576</title>\n<path fill=\"none\" stroke=\"black\" d=\"M1057.68,-231.84C1058.87,-224.13 1060.35,-214.49 1061.63,-206.17\"/>\n<polygon fill=\"black\" stroke=\"black\" points=\"1065.09,-206.68 1063.15,-196.27 1058.17,-205.62 1065.09,-206.68\"/>\n</g>\n<!-- 140672166938752 -->\n<g id=\"node118\" class=\"node\">\n<title>140672166938752</title>\n<polygon fill=\"lightgrey\" stroke=\"black\" points=\"1255,-196 1142,-196 1142,-177 1255,-177 1255,-196\"/>\n<text text-anchor=\"middle\" x=\"1198.5\" y=\"-184\" font-family=\"monospace\" font-size=\"10.00\">SigmoidBackward0</text>\n</g>\n<!-- 140672166938752&#45;&gt;140672166938704 -->\n<g id=\"edge115\" class=\"edge\">\n<title>140672166938752&#45;&gt;140672166938704</title>\n<path fill=\"none\" stroke=\"black\" d=\"M1198.5,-176.75C1198.5,-169.8 1198.5,-159.85 1198.5,-151.13\"/>\n<polygon fill=\"black\" stroke=\"black\" points=\"1202,-151.09 1198.5,-141.09 1195,-151.09 1202,-151.09\"/>\n</g>\n<!-- 140672166938800 -->\n<g id=\"node119\" class=\"node\">\n<title>140672166938800</title>\n<polygon fill=\"lightgrey\" stroke=\"black\" points=\"1249,-256.5 1148,-256.5 1148,-237.5 1249,-237.5 1249,-256.5\"/>\n<text text-anchor=\"middle\" x=\"1198.5\" y=\"-244.5\" font-family=\"monospace\" font-size=\"10.00\">AddmmBackward0</text>\n</g>\n<!-- 140672166938800&#45;&gt;140672166938752 -->\n<g id=\"edge116\" class=\"edge\">\n<title>140672166938800&#45;&gt;140672166938752</title>\n<path fill=\"none\" stroke=\"black\" d=\"M1198.5,-237.37C1198.5,-229.25 1198.5,-216.81 1198.5,-206.39\"/>\n<polygon fill=\"black\" stroke=\"black\" points=\"1202,-206.17 1198.5,-196.17 1195,-206.17 1202,-206.17\"/>\n</g>\n<!-- 140672166940240 -->\n<g id=\"node120\" class=\"node\">\n<title>140672166940240</title>\n<polygon fill=\"lightgrey\" stroke=\"black\" points=\"1111,-322.5 1010,-322.5 1010,-303.5 1111,-303.5 1111,-322.5\"/>\n<text text-anchor=\"middle\" x=\"1060.5\" y=\"-310.5\" font-family=\"monospace\" font-size=\"10.00\">AccumulateGrad</text>\n</g>\n<!-- 140672166940240&#45;&gt;140672166938800 -->\n<g id=\"edge117\" class=\"edge\">\n<title>140672166940240&#45;&gt;140672166938800</title>\n<path fill=\"none\" stroke=\"black\" d=\"M1079.11,-303.37C1102.57,-292.49 1143.11,-273.69 1170.36,-261.05\"/>\n<polygon fill=\"black\" stroke=\"black\" points=\"1172.14,-264.08 1179.74,-256.7 1169.2,-257.73 1172.14,-264.08\"/>\n</g>\n<!-- 140672566590816 -->\n<g id=\"node121\" class=\"node\">\n<title>140672566590816</title>\n<polygon fill=\"lightblue\" stroke=\"black\" points=\"1108,-394 959,-394 959,-364 1108,-364 1108,-394\"/>\n<text text-anchor=\"middle\" x=\"1033.5\" y=\"-382\" font-family=\"monospace\" font-size=\"10.00\">OffensiveLayers.2.bias</text>\n<text text-anchor=\"middle\" x=\"1033.5\" y=\"-371\" font-family=\"monospace\" font-size=\"10.00\"> (20)</text>\n</g>\n<!-- 140672566590816&#45;&gt;140672166940240 -->\n<g id=\"edge118\" class=\"edge\">\n<title>140672566590816&#45;&gt;140672166940240</title>\n<path fill=\"none\" stroke=\"black\" d=\"M1039.49,-363.8C1043.41,-354.5 1048.57,-342.27 1052.8,-332.26\"/>\n<polygon fill=\"black\" stroke=\"black\" points=\"1056.11,-333.42 1056.77,-322.84 1049.66,-330.7 1056.11,-333.42\"/>\n</g>\n<!-- 140672083708608 -->\n<g id=\"node122\" class=\"node\">\n<title>140672083708608</title>\n<polygon fill=\"lightgrey\" stroke=\"black\" points=\"1224,-322.5 1129,-322.5 1129,-303.5 1224,-303.5 1224,-322.5\"/>\n<text text-anchor=\"middle\" x=\"1176.5\" y=\"-310.5\" font-family=\"monospace\" font-size=\"10.00\">ReluBackward0</text>\n</g>\n<!-- 140672083708608&#45;&gt;140672166938800 -->\n<g id=\"edge119\" class=\"edge\">\n<title>140672083708608&#45;&gt;140672166938800</title>\n<path fill=\"none\" stroke=\"black\" d=\"M1179.47,-303.37C1182.7,-293.97 1187.96,-278.67 1192.13,-266.53\"/>\n<polygon fill=\"black\" stroke=\"black\" points=\"1195.5,-267.5 1195.44,-256.91 1188.88,-265.22 1195.5,-267.5\"/>\n</g>\n<!-- 140672083707600&#45;&gt;140672083708608 -->\n<g id=\"edge120\" class=\"edge\">\n<title>140672083707600&#45;&gt;140672083708608</title>\n<path fill=\"none\" stroke=\"black\" d=\"M1176.5,-369.37C1176.5,-360.16 1176.5,-345.29 1176.5,-333.27\"/>\n<polygon fill=\"black\" stroke=\"black\" points=\"1180,-332.91 1176.5,-322.91 1173,-332.91 1180,-332.91\"/>\n</g>\n<!-- 140672083707024 -->\n<g id=\"node124\" class=\"node\">\n<title>140672083707024</title>\n<polygon fill=\"lightgrey\" stroke=\"black\" points=\"1176,-454.5 1075,-454.5 1075,-435.5 1176,-435.5 1176,-454.5\"/>\n<text text-anchor=\"middle\" x=\"1125.5\" y=\"-442.5\" font-family=\"monospace\" font-size=\"10.00\">AccumulateGrad</text>\n</g>\n<!-- 140672083707024&#45;&gt;140672083707600 -->\n<g id=\"edge121\" class=\"edge\">\n<title>140672083707024&#45;&gt;140672083707600</title>\n<path fill=\"none\" stroke=\"black\" d=\"M1132.38,-435.37C1140.17,-425.59 1153.05,-409.42 1162.89,-397.08\"/>\n<polygon fill=\"black\" stroke=\"black\" points=\"1165.91,-398.91 1169.4,-388.91 1160.43,-394.54 1165.91,-398.91\"/>\n</g>\n<!-- 140672566590656 -->\n<g id=\"node125\" class=\"node\">\n<title>140672566590656</title>\n<polygon fill=\"lightblue\" stroke=\"black\" points=\"1200,-526 1051,-526 1051,-496 1200,-496 1200,-526\"/>\n<text text-anchor=\"middle\" x=\"1125.5\" y=\"-514\" font-family=\"monospace\" font-size=\"10.00\">OffensiveLayers.0.bias</text>\n<text text-anchor=\"middle\" x=\"1125.5\" y=\"-503\" font-family=\"monospace\" font-size=\"10.00\"> (40)</text>\n</g>\n<!-- 140672566590656&#45;&gt;140672083707024 -->\n<g id=\"edge122\" class=\"edge\">\n<title>140672566590656&#45;&gt;140672083707024</title>\n<path fill=\"none\" stroke=\"black\" d=\"M1125.5,-495.8C1125.5,-486.7 1125.5,-474.79 1125.5,-464.9\"/>\n<polygon fill=\"black\" stroke=\"black\" points=\"1129,-464.84 1125.5,-454.84 1122,-464.84 1129,-464.84\"/>\n</g>\n<!-- 140672083707072 -->\n<g id=\"node126\" class=\"node\">\n<title>140672083707072</title>\n<polygon fill=\"lightgrey\" stroke=\"black\" points=\"1271,-454.5 1194,-454.5 1194,-435.5 1271,-435.5 1271,-454.5\"/>\n<text text-anchor=\"middle\" x=\"1232.5\" y=\"-442.5\" font-family=\"monospace\" font-size=\"10.00\">TBackward0</text>\n</g>\n<!-- 140672083707072&#45;&gt;140672083707600 -->\n<g id=\"edge124\" class=\"edge\">\n<title>140672083707072&#45;&gt;140672083707600</title>\n<path fill=\"none\" stroke=\"black\" d=\"M1224.95,-435.37C1216.31,-425.5 1201.97,-409.11 1191.13,-396.72\"/>\n<polygon fill=\"black\" stroke=\"black\" points=\"1193.51,-394.13 1184.29,-388.91 1188.24,-398.74 1193.51,-394.13\"/>\n</g>\n<!-- 140672083706976 -->\n<g id=\"node127\" class=\"node\">\n<title>140672083706976</title>\n<polygon fill=\"lightgrey\" stroke=\"black\" points=\"1319,-520.5 1218,-520.5 1218,-501.5 1319,-501.5 1319,-520.5\"/>\n<text text-anchor=\"middle\" x=\"1268.5\" y=\"-508.5\" font-family=\"monospace\" font-size=\"10.00\">AccumulateGrad</text>\n</g>\n<!-- 140672083706976&#45;&gt;140672083707072 -->\n<g id=\"edge125\" class=\"edge\">\n<title>140672083706976&#45;&gt;140672083707072</title>\n<path fill=\"none\" stroke=\"black\" d=\"M1263.64,-501.37C1258.25,-491.78 1249.4,-476.05 1242.51,-463.8\"/>\n<polygon fill=\"black\" stroke=\"black\" points=\"1245.46,-461.91 1237.51,-454.91 1239.36,-465.34 1245.46,-461.91\"/>\n</g>\n<!-- 140672566590576 -->\n<g id=\"node128\" class=\"node\">\n<title>140672566590576</title>\n<polygon fill=\"lightblue\" stroke=\"black\" points=\"1349,-592 1188,-592 1188,-562 1349,-562 1349,-592\"/>\n<text text-anchor=\"middle\" x=\"1268.5\" y=\"-580\" font-family=\"monospace\" font-size=\"10.00\">OffensiveLayers.0.weight</text>\n<text text-anchor=\"middle\" x=\"1268.5\" y=\"-569\" font-family=\"monospace\" font-size=\"10.00\"> (40, 50)</text>\n</g>\n<!-- 140672566590576&#45;&gt;140672083706976 -->\n<g id=\"edge126\" class=\"edge\">\n<title>140672566590576&#45;&gt;140672083706976</title>\n<path fill=\"none\" stroke=\"black\" d=\"M1268.5,-561.8C1268.5,-552.7 1268.5,-540.79 1268.5,-530.9\"/>\n<polygon fill=\"black\" stroke=\"black\" points=\"1272,-530.84 1268.5,-520.84 1265,-530.84 1272,-530.84\"/>\n</g>\n<!-- 140672083709328 -->\n<g id=\"node129\" class=\"node\">\n<title>140672083709328</title>\n<polygon fill=\"lightgrey\" stroke=\"black\" points=\"1319,-322.5 1242,-322.5 1242,-303.5 1319,-303.5 1319,-322.5\"/>\n<text text-anchor=\"middle\" x=\"1280.5\" y=\"-310.5\" font-family=\"monospace\" font-size=\"10.00\">TBackward0</text>\n</g>\n<!-- 140672083709328&#45;&gt;140672166938800 -->\n<g id=\"edge127\" class=\"edge\">\n<title>140672083709328&#45;&gt;140672166938800</title>\n<path fill=\"none\" stroke=\"black\" d=\"M1269.44,-303.37C1256.24,-293.06 1233.92,-275.65 1217.84,-263.09\"/>\n<polygon fill=\"black\" stroke=\"black\" points=\"1219.68,-260.09 1209.65,-256.7 1215.38,-265.61 1219.68,-260.09\"/>\n</g>\n<!-- 140672083706880 -->\n<g id=\"node130\" class=\"node\">\n<title>140672083706880</title>\n<polygon fill=\"lightgrey\" stroke=\"black\" points=\"1387,-388.5 1286,-388.5 1286,-369.5 1387,-369.5 1387,-388.5\"/>\n<text text-anchor=\"middle\" x=\"1336.5\" y=\"-376.5\" font-family=\"monospace\" font-size=\"10.00\">AccumulateGrad</text>\n</g>\n<!-- 140672083706880&#45;&gt;140672083709328 -->\n<g id=\"edge128\" class=\"edge\">\n<title>140672083706880&#45;&gt;140672083709328</title>\n<path fill=\"none\" stroke=\"black\" d=\"M1328.95,-369.37C1320.31,-359.5 1305.97,-343.11 1295.13,-330.72\"/>\n<polygon fill=\"black\" stroke=\"black\" points=\"1297.51,-328.13 1288.29,-322.91 1292.24,-332.74 1297.51,-328.13\"/>\n</g>\n<!-- 140672566590736 -->\n<g id=\"node131\" class=\"node\">\n<title>140672566590736</title>\n<polygon fill=\"lightblue\" stroke=\"black\" points=\"1450,-460 1289,-460 1289,-430 1450,-430 1450,-460\"/>\n<text text-anchor=\"middle\" x=\"1369.5\" y=\"-448\" font-family=\"monospace\" font-size=\"10.00\">OffensiveLayers.2.weight</text>\n<text text-anchor=\"middle\" x=\"1369.5\" y=\"-437\" font-family=\"monospace\" font-size=\"10.00\"> (20, 40)</text>\n</g>\n<!-- 140672566590736&#45;&gt;140672083706880 -->\n<g id=\"edge129\" class=\"edge\">\n<title>140672566590736&#45;&gt;140672083706880</title>\n<path fill=\"none\" stroke=\"black\" d=\"M1362.18,-429.8C1357.33,-420.41 1350.95,-408.02 1345.75,-397.95\"/>\n<polygon fill=\"black\" stroke=\"black\" points=\"1348.75,-396.13 1341.06,-388.84 1342.53,-399.34 1348.75,-396.13\"/>\n</g>\n<!-- 140672166940144 -->\n<g id=\"node132\" class=\"node\">\n<title>140672166940144</title>\n<polygon fill=\"lightgrey\" stroke=\"black\" points=\"1387,-196 1310,-196 1310,-177 1387,-177 1387,-196\"/>\n<text text-anchor=\"middle\" x=\"1348.5\" y=\"-184\" font-family=\"monospace\" font-size=\"10.00\">TBackward0</text>\n</g>\n<!-- 140672166940144&#45;&gt;140672166938704 -->\n<g id=\"edge130\" class=\"edge\">\n<title>140672166940144&#45;&gt;140672166938704</title>\n<path fill=\"none\" stroke=\"black\" d=\"M1324.4,-176.98C1299.62,-168.23 1260.8,-154.51 1232.81,-144.62\"/>\n<polygon fill=\"black\" stroke=\"black\" points=\"1233.63,-141.2 1223.04,-141.17 1231.3,-147.8 1233.63,-141.2\"/>\n</g>\n<!-- 140672166940336 -->\n<g id=\"node133\" class=\"node\">\n<title>140672166940336</title>\n<polygon fill=\"lightgrey\" stroke=\"black\" points=\"1443,-256.5 1342,-256.5 1342,-237.5 1443,-237.5 1443,-256.5\"/>\n<text text-anchor=\"middle\" x=\"1392.5\" y=\"-244.5\" font-family=\"monospace\" font-size=\"10.00\">AccumulateGrad</text>\n</g>\n<!-- 140672166940336&#45;&gt;140672166940144 -->\n<g id=\"edge131\" class=\"edge\">\n<title>140672166940336&#45;&gt;140672166940144</title>\n<path fill=\"none\" stroke=\"black\" d=\"M1386.01,-237.37C1379.51,-228.73 1369.34,-215.2 1361.22,-204.42\"/>\n<polygon fill=\"black\" stroke=\"black\" points=\"1363.83,-202.06 1355.02,-196.17 1358.23,-206.26 1363.83,-202.06\"/>\n</g>\n<!-- 140672566590896 -->\n<g id=\"node134\" class=\"node\">\n<title>140672566590896</title>\n<polygon fill=\"lightblue\" stroke=\"black\" points=\"1498,-328 1337,-328 1337,-298 1498,-298 1498,-328\"/>\n<text text-anchor=\"middle\" x=\"1417.5\" y=\"-316\" font-family=\"monospace\" font-size=\"10.00\">OffensiveLayers.4.weight</text>\n<text text-anchor=\"middle\" x=\"1417.5\" y=\"-305\" font-family=\"monospace\" font-size=\"10.00\"> (2, 20)</text>\n</g>\n<!-- 140672566590896&#45;&gt;140672166940336 -->\n<g id=\"edge132\" class=\"edge\">\n<title>140672566590896&#45;&gt;140672166940336</title>\n<path fill=\"none\" stroke=\"black\" d=\"M1411.95,-297.8C1408.32,-288.5 1403.54,-276.27 1399.63,-266.26\"/>\n<polygon fill=\"black\" stroke=\"black\" points=\"1402.85,-264.89 1395.95,-256.84 1396.33,-267.43 1402.85,-264.89\"/>\n</g>\n<!-- 140671672584048 -->\n<g id=\"node135\" class=\"node\">\n<title>140671672584048</title>\n<polygon fill=\"#caff70\" stroke=\"black\" points=\"1737,-31 1678,-31 1678,0 1737,0 1737,-31\"/>\n<text text-anchor=\"middle\" x=\"1707.5\" y=\"-7\" font-family=\"monospace\" font-size=\"10.00\"> (1, 2)</text>\n</g>\n<!-- 140672166939856 -->\n<g id=\"node136\" class=\"node\">\n<title>140672166939856</title>\n<polygon fill=\"lightgrey\" stroke=\"black\" points=\"1764,-86 1651,-86 1651,-67 1764,-67 1764,-86\"/>\n<text text-anchor=\"middle\" x=\"1707.5\" y=\"-74\" font-family=\"monospace\" font-size=\"10.00\">SigmoidBackward0</text>\n</g>\n<!-- 140672166939856&#45;&gt;140671672584048 -->\n<g id=\"edge155\" class=\"edge\">\n<title>140672166939856&#45;&gt;140671672584048</title>\n<path fill=\"none\" stroke=\"black\" d=\"M1707.5,-66.79C1707.5,-60.07 1707.5,-50.4 1707.5,-41.34\"/>\n<polygon fill=\"black\" stroke=\"black\" points=\"1711,-41.19 1707.5,-31.19 1704,-41.19 1711,-41.19\"/>\n</g>\n<!-- 140672166939760 -->\n<g id=\"node137\" class=\"node\">\n<title>140672166939760</title>\n<polygon fill=\"lightgrey\" stroke=\"black\" points=\"1758,-141 1657,-141 1657,-122 1758,-122 1758,-141\"/>\n<text text-anchor=\"middle\" x=\"1707.5\" y=\"-129\" font-family=\"monospace\" font-size=\"10.00\">AddmmBackward0</text>\n</g>\n<!-- 140672166939760&#45;&gt;140672166939856 -->\n<g id=\"edge134\" class=\"edge\">\n<title>140672166939760&#45;&gt;140672166939856</title>\n<path fill=\"none\" stroke=\"black\" d=\"M1707.5,-121.75C1707.5,-114.8 1707.5,-104.85 1707.5,-96.13\"/>\n<polygon fill=\"black\" stroke=\"black\" points=\"1711,-96.09 1707.5,-86.09 1704,-96.09 1711,-96.09\"/>\n</g>\n<!-- 140672083707648 -->\n<g id=\"node138\" class=\"node\">\n<title>140672083707648</title>\n<polygon fill=\"lightgrey\" stroke=\"black\" points=\"1620,-196 1519,-196 1519,-177 1620,-177 1620,-196\"/>\n<text text-anchor=\"middle\" x=\"1569.5\" y=\"-184\" font-family=\"monospace\" font-size=\"10.00\">AccumulateGrad</text>\n</g>\n<!-- 140672083707648&#45;&gt;140672166939760 -->\n<g id=\"edge135\" class=\"edge\">\n<title>140672083707648&#45;&gt;140672166939760</title>\n<path fill=\"none\" stroke=\"black\" d=\"M1591.67,-176.98C1614.27,-168.3 1649.56,-154.75 1675.25,-144.88\"/>\n<polygon fill=\"black\" stroke=\"black\" points=\"1676.84,-148.02 1684.92,-141.17 1674.33,-141.49 1676.84,-148.02\"/>\n</g>\n<!-- 140671683543104 -->\n<g id=\"node139\" class=\"node\">\n<title>140671683543104</title>\n<polygon fill=\"lightblue\" stroke=\"black\" points=\"1639,-262 1472,-262 1472,-232 1639,-232 1639,-262\"/>\n<text text-anchor=\"middle\" x=\"1555.5\" y=\"-250\" font-family=\"monospace\" font-size=\"10.00\">MotivationalLayers.4.bias</text>\n<text text-anchor=\"middle\" x=\"1555.5\" y=\"-239\" font-family=\"monospace\" font-size=\"10.00\"> (2)</text>\n</g>\n<!-- 140671683543104&#45;&gt;140672083707648 -->\n<g id=\"edge136\" class=\"edge\">\n<title>140671683543104&#45;&gt;140672083707648</title>\n<path fill=\"none\" stroke=\"black\" d=\"M1558.89,-231.84C1560.73,-224.13 1563.04,-214.49 1565.03,-206.17\"/>\n<polygon fill=\"black\" stroke=\"black\" points=\"1568.48,-206.81 1567.4,-196.27 1561.67,-205.18 1568.48,-206.81\"/>\n</g>\n<!-- 140672083706784 -->\n<g id=\"node140\" class=\"node\">\n<title>140672083706784</title>\n<polygon fill=\"lightgrey\" stroke=\"black\" points=\"1764,-196 1651,-196 1651,-177 1764,-177 1764,-196\"/>\n<text text-anchor=\"middle\" x=\"1707.5\" y=\"-184\" font-family=\"monospace\" font-size=\"10.00\">SigmoidBackward0</text>\n</g>\n<!-- 140672083706784&#45;&gt;140672166939760 -->\n<g id=\"edge137\" class=\"edge\">\n<title>140672083706784&#45;&gt;140672166939760</title>\n<path fill=\"none\" stroke=\"black\" d=\"M1707.5,-176.75C1707.5,-169.8 1707.5,-159.85 1707.5,-151.13\"/>\n<polygon fill=\"black\" stroke=\"black\" points=\"1711,-151.09 1707.5,-141.09 1704,-151.09 1711,-151.09\"/>\n</g>\n<!-- 140672083706832 -->\n<g id=\"node141\" class=\"node\">\n<title>140672083706832</title>\n<polygon fill=\"lightgrey\" stroke=\"black\" points=\"1758,-256.5 1657,-256.5 1657,-237.5 1758,-237.5 1758,-256.5\"/>\n<text text-anchor=\"middle\" x=\"1707.5\" y=\"-244.5\" font-family=\"monospace\" font-size=\"10.00\">AddmmBackward0</text>\n</g>\n<!-- 140672083706832&#45;&gt;140672083706784 -->\n<g id=\"edge138\" class=\"edge\">\n<title>140672083706832&#45;&gt;140672083706784</title>\n<path fill=\"none\" stroke=\"black\" d=\"M1707.5,-237.37C1707.5,-229.25 1707.5,-216.81 1707.5,-206.39\"/>\n<polygon fill=\"black\" stroke=\"black\" points=\"1711,-206.17 1707.5,-196.17 1704,-206.17 1711,-206.17\"/>\n</g>\n<!-- 140672083706352 -->\n<g id=\"node142\" class=\"node\">\n<title>140672083706352</title>\n<polygon fill=\"lightgrey\" stroke=\"black\" points=\"1617,-322.5 1516,-322.5 1516,-303.5 1617,-303.5 1617,-322.5\"/>\n<text text-anchor=\"middle\" x=\"1566.5\" y=\"-310.5\" font-family=\"monospace\" font-size=\"10.00\">AccumulateGrad</text>\n</g>\n<!-- 140672083706352&#45;&gt;140672083706832 -->\n<g id=\"edge139\" class=\"edge\">\n<title>140672083706352&#45;&gt;140672083706832</title>\n<path fill=\"none\" stroke=\"black\" d=\"M1585.52,-303.37C1609.59,-292.44 1651.27,-273.52 1679.11,-260.88\"/>\n<polygon fill=\"black\" stroke=\"black\" points=\"1680.68,-264.02 1688.34,-256.7 1677.78,-257.65 1680.68,-264.02\"/>\n</g>\n<!-- 140672566591296 -->\n<g id=\"node143\" class=\"node\">\n<title>140672566591296</title>\n<polygon fill=\"lightblue\" stroke=\"black\" points=\"1592,-394 1425,-394 1425,-364 1592,-364 1592,-394\"/>\n<text text-anchor=\"middle\" x=\"1508.5\" y=\"-382\" font-family=\"monospace\" font-size=\"10.00\">MotivationalLayers.2.bias</text>\n<text text-anchor=\"middle\" x=\"1508.5\" y=\"-371\" font-family=\"monospace\" font-size=\"10.00\"> (20)</text>\n</g>\n<!-- 140672566591296&#45;&gt;140672083706352 -->\n<g id=\"edge140\" class=\"edge\">\n<title>140672566591296&#45;&gt;140672083706352</title>\n<path fill=\"none\" stroke=\"black\" d=\"M1521.37,-363.8C1530.33,-353.92 1542.29,-340.72 1551.64,-330.39\"/>\n<polygon fill=\"black\" stroke=\"black\" points=\"1554.36,-332.6 1558.48,-322.84 1549.18,-327.9 1554.36,-332.6\"/>\n</g>\n<!-- 140672083706400 -->\n<g id=\"node144\" class=\"node\">\n<title>140672083706400</title>\n<polygon fill=\"lightgrey\" stroke=\"black\" points=\"1730,-322.5 1635,-322.5 1635,-303.5 1730,-303.5 1730,-322.5\"/>\n<text text-anchor=\"middle\" x=\"1682.5\" y=\"-310.5\" font-family=\"monospace\" font-size=\"10.00\">ReluBackward0</text>\n</g>\n<!-- 140672083706400&#45;&gt;140672083706832 -->\n<g id=\"edge141\" class=\"edge\">\n<title>140672083706400&#45;&gt;140672083706832</title>\n<path fill=\"none\" stroke=\"black\" d=\"M1685.87,-303.37C1689.54,-293.97 1695.52,-278.67 1700.26,-266.53\"/>\n<polygon fill=\"black\" stroke=\"black\" points=\"1703.64,-267.49 1704.02,-256.91 1697.12,-264.95 1703.64,-267.49\"/>\n</g>\n<!-- 140672083706160&#45;&gt;140672083706400 -->\n<g id=\"edge142\" class=\"edge\">\n<title>140672083706160&#45;&gt;140672083706400</title>\n<path fill=\"none\" stroke=\"black\" d=\"M1663.47,-369.37C1666.7,-359.97 1671.96,-344.67 1676.13,-332.53\"/>\n<polygon fill=\"black\" stroke=\"black\" points=\"1679.5,-333.5 1679.44,-322.91 1672.88,-331.22 1679.5,-333.5\"/>\n</g>\n<!-- 140672083706208 -->\n<g id=\"node146\" class=\"node\">\n<title>140672083706208</title>\n<polygon fill=\"lightgrey\" stroke=\"black\" points=\"1593,-454.5 1492,-454.5 1492,-435.5 1593,-435.5 1593,-454.5\"/>\n<text text-anchor=\"middle\" x=\"1542.5\" y=\"-442.5\" font-family=\"monospace\" font-size=\"10.00\">AccumulateGrad</text>\n</g>\n<!-- 140672083706208&#45;&gt;140672083706160 -->\n<g id=\"edge143\" class=\"edge\">\n<title>140672083706208&#45;&gt;140672083706160</title>\n<path fill=\"none\" stroke=\"black\" d=\"M1558.41,-435.37C1578.21,-424.63 1612.23,-406.18 1635.51,-393.55\"/>\n<polygon fill=\"black\" stroke=\"black\" points=\"1637.34,-396.54 1644.46,-388.7 1634,-390.39 1637.34,-396.54\"/>\n</g>\n<!-- 140672566591136 -->\n<g id=\"node147\" class=\"node\">\n<title>140672566591136</title>\n<polygon fill=\"lightblue\" stroke=\"black\" points=\"1614,-526 1447,-526 1447,-496 1614,-496 1614,-526\"/>\n<text text-anchor=\"middle\" x=\"1530.5\" y=\"-514\" font-family=\"monospace\" font-size=\"10.00\">MotivationalLayers.0.bias</text>\n<text text-anchor=\"middle\" x=\"1530.5\" y=\"-503\" font-family=\"monospace\" font-size=\"10.00\"> (40)</text>\n</g>\n<!-- 140672566591136&#45;&gt;140672083706208 -->\n<g id=\"edge144\" class=\"edge\">\n<title>140672566591136&#45;&gt;140672083706208</title>\n<path fill=\"none\" stroke=\"black\" d=\"M1533.16,-495.8C1534.87,-486.7 1537.1,-474.79 1538.96,-464.9\"/>\n<polygon fill=\"black\" stroke=\"black\" points=\"1542.44,-465.32 1540.84,-454.84 1535.56,-464.03 1542.44,-465.32\"/>\n</g>\n<!-- 140672083706256 -->\n<g id=\"node148\" class=\"node\">\n<title>140672083706256</title>\n<polygon fill=\"lightgrey\" stroke=\"black\" points=\"1699,-454.5 1622,-454.5 1622,-435.5 1699,-435.5 1699,-454.5\"/>\n<text text-anchor=\"middle\" x=\"1660.5\" y=\"-442.5\" font-family=\"monospace\" font-size=\"10.00\">TBackward0</text>\n</g>\n<!-- 140672083706256&#45;&gt;140672083706160 -->\n<g id=\"edge146\" class=\"edge\">\n<title>140672083706256&#45;&gt;140672083706160</title>\n<path fill=\"none\" stroke=\"black\" d=\"M1660.5,-435.37C1660.5,-426.16 1660.5,-411.29 1660.5,-399.27\"/>\n<polygon fill=\"black\" stroke=\"black\" points=\"1664,-398.91 1660.5,-388.91 1657,-398.91 1664,-398.91\"/>\n</g>\n<!-- 140672057977680 -->\n<g id=\"node149\" class=\"node\">\n<title>140672057977680</title>\n<polygon fill=\"lightgrey\" stroke=\"black\" points=\"1733,-520.5 1632,-520.5 1632,-501.5 1733,-501.5 1733,-520.5\"/>\n<text text-anchor=\"middle\" x=\"1682.5\" y=\"-508.5\" font-family=\"monospace\" font-size=\"10.00\">AccumulateGrad</text>\n</g>\n<!-- 140672057977680&#45;&gt;140672083706256 -->\n<g id=\"edge147\" class=\"edge\">\n<title>140672057977680&#45;&gt;140672083706256</title>\n<path fill=\"none\" stroke=\"black\" d=\"M1679.53,-501.37C1676.3,-491.97 1671.04,-476.67 1666.87,-464.53\"/>\n<polygon fill=\"black\" stroke=\"black\" points=\"1670.12,-463.22 1663.56,-454.91 1663.5,-465.5 1670.12,-463.22\"/>\n</g>\n<!-- 140672566591056 -->\n<g id=\"node150\" class=\"node\">\n<title>140672566591056</title>\n<polygon fill=\"lightblue\" stroke=\"black\" points=\"1772,-592 1593,-592 1593,-562 1772,-562 1772,-592\"/>\n<text text-anchor=\"middle\" x=\"1682.5\" y=\"-580\" font-family=\"monospace\" font-size=\"10.00\">MotivationalLayers.0.weight</text>\n<text text-anchor=\"middle\" x=\"1682.5\" y=\"-569\" font-family=\"monospace\" font-size=\"10.00\"> (40, 50)</text>\n</g>\n<!-- 140672566591056&#45;&gt;140672057977680 -->\n<g id=\"edge148\" class=\"edge\">\n<title>140672566591056&#45;&gt;140672057977680</title>\n<path fill=\"none\" stroke=\"black\" d=\"M1682.5,-561.8C1682.5,-552.7 1682.5,-540.79 1682.5,-530.9\"/>\n<polygon fill=\"black\" stroke=\"black\" points=\"1686,-530.84 1682.5,-520.84 1679,-530.84 1686,-530.84\"/>\n</g>\n<!-- 140672083706544 -->\n<g id=\"node151\" class=\"node\">\n<title>140672083706544</title>\n<polygon fill=\"lightgrey\" stroke=\"black\" points=\"1825,-322.5 1748,-322.5 1748,-303.5 1825,-303.5 1825,-322.5\"/>\n<text text-anchor=\"middle\" x=\"1786.5\" y=\"-310.5\" font-family=\"monospace\" font-size=\"10.00\">TBackward0</text>\n</g>\n<!-- 140672083706544&#45;&gt;140672083706832 -->\n<g id=\"edge149\" class=\"edge\">\n<title>140672083706544&#45;&gt;140672083706832</title>\n<path fill=\"none\" stroke=\"black\" d=\"M1775.85,-303.37C1763.12,-293.06 1741.62,-275.65 1726.13,-263.09\"/>\n<polygon fill=\"black\" stroke=\"black\" points=\"1728.21,-260.27 1718.24,-256.7 1723.8,-265.71 1728.21,-260.27\"/>\n</g>\n<!-- 140672083706064 -->\n<g id=\"node152\" class=\"node\">\n<title>140672083706064</title>\n<polygon fill=\"lightgrey\" stroke=\"black\" points=\"1844,-388.5 1743,-388.5 1743,-369.5 1844,-369.5 1844,-388.5\"/>\n<text text-anchor=\"middle\" x=\"1793.5\" y=\"-376.5\" font-family=\"monospace\" font-size=\"10.00\">AccumulateGrad</text>\n</g>\n<!-- 140672083706064&#45;&gt;140672083706544 -->\n<g id=\"edge150\" class=\"edge\">\n<title>140672083706064&#45;&gt;140672083706544</title>\n<path fill=\"none\" stroke=\"black\" d=\"M1792.56,-369.37C1791.54,-360.07 1789.89,-344.98 1788.57,-332.9\"/>\n<polygon fill=\"black\" stroke=\"black\" points=\"1792.04,-332.47 1787.47,-322.91 1785.08,-333.23 1792.04,-332.47\"/>\n</g>\n<!-- 140672566591216 -->\n<g id=\"node153\" class=\"node\">\n<title>140672566591216</title>\n<polygon fill=\"lightblue\" stroke=\"black\" points=\"1896,-460 1717,-460 1717,-430 1896,-430 1896,-460\"/>\n<text text-anchor=\"middle\" x=\"1806.5\" y=\"-448\" font-family=\"monospace\" font-size=\"10.00\">MotivationalLayers.2.weight</text>\n<text text-anchor=\"middle\" x=\"1806.5\" y=\"-437\" font-family=\"monospace\" font-size=\"10.00\"> (20, 40)</text>\n</g>\n<!-- 140672566591216&#45;&gt;140672083706064 -->\n<g id=\"edge151\" class=\"edge\">\n<title>140672566591216&#45;&gt;140672083706064</title>\n<path fill=\"none\" stroke=\"black\" d=\"M1803.61,-429.8C1801.77,-420.7 1799.35,-408.79 1797.34,-398.9\"/>\n<polygon fill=\"black\" stroke=\"black\" points=\"1800.72,-397.95 1795.3,-388.84 1793.86,-399.34 1800.72,-397.95\"/>\n</g>\n<!-- 140672083707120 -->\n<g id=\"node154\" class=\"node\">\n<title>140672083707120</title>\n<polygon fill=\"lightgrey\" stroke=\"black\" points=\"1862,-196 1785,-196 1785,-177 1862,-177 1862,-196\"/>\n<text text-anchor=\"middle\" x=\"1823.5\" y=\"-184\" font-family=\"monospace\" font-size=\"10.00\">TBackward0</text>\n</g>\n<!-- 140672083707120&#45;&gt;140672166939760 -->\n<g id=\"edge152\" class=\"edge\">\n<title>140672083707120&#45;&gt;140672166939760</title>\n<path fill=\"none\" stroke=\"black\" d=\"M1804.86,-176.98C1786.2,-168.46 1757.25,-155.23 1735.76,-145.41\"/>\n<polygon fill=\"black\" stroke=\"black\" points=\"1737.03,-142.14 1726.48,-141.17 1734.12,-148.51 1737.03,-142.14\"/>\n</g>\n<!-- 140672083706304 -->\n<g id=\"node155\" class=\"node\">\n<title>140672083706304</title>\n<polygon fill=\"lightgrey\" stroke=\"black\" points=\"1930,-256.5 1829,-256.5 1829,-237.5 1930,-237.5 1930,-256.5\"/>\n<text text-anchor=\"middle\" x=\"1879.5\" y=\"-244.5\" font-family=\"monospace\" font-size=\"10.00\">AccumulateGrad</text>\n</g>\n<!-- 140672083706304&#45;&gt;140672083707120 -->\n<g id=\"edge153\" class=\"edge\">\n<title>140672083706304&#45;&gt;140672083707120</title>\n<path fill=\"none\" stroke=\"black\" d=\"M1871.24,-237.37C1862.72,-228.47 1849.24,-214.39 1838.77,-203.45\"/>\n<polygon fill=\"black\" stroke=\"black\" points=\"1841.24,-200.97 1831.8,-196.17 1836.18,-205.81 1841.24,-200.97\"/>\n</g>\n<!-- 140672566591376 -->\n<g id=\"node156\" class=\"node\">\n<title>140672566591376</title>\n<polygon fill=\"lightblue\" stroke=\"black\" points=\"2022,-328 1843,-328 1843,-298 2022,-298 2022,-328\"/>\n<text text-anchor=\"middle\" x=\"1932.5\" y=\"-316\" font-family=\"monospace\" font-size=\"10.00\">MotivationalLayers.4.weight</text>\n<text text-anchor=\"middle\" x=\"1932.5\" y=\"-305\" font-family=\"monospace\" font-size=\"10.00\"> (2, 20)</text>\n</g>\n<!-- 140672566591376&#45;&gt;140672083706304 -->\n<g id=\"edge154\" class=\"edge\">\n<title>140672566591376&#45;&gt;140672083706304</title>\n<path fill=\"none\" stroke=\"black\" d=\"M1920.74,-297.8C1912.64,-288.01 1901.84,-274.98 1893.33,-264.7\"/>\n<polygon fill=\"black\" stroke=\"black\" points=\"1895.9,-262.31 1886.82,-256.84 1890.51,-266.78 1895.9,-262.31\"/>\n</g>\n</g>\n</svg>\n",
      "text/plain": [
       "<graphviz.graphs.Digraph at 0x7ff0ad12fe50>"
      ]
     },
     "execution_count": 49,
     "metadata": {},
     "output_type": "execute_result"
    },
    {
     "name": "stderr",
     "output_type": "stream",
     "text": [
      "\n",
      "(evince:360225): Gtk-WARNING **: 10:50:30.190: Could not load a pixbuf from icon theme.\n",
      "This may indicate that pixbuf loaders or the mime database could not be found.\n"
     ]
    }
   ],
   "source": [
    "from torchviz import make_dot\n",
    "train_loader = DataLoader(train_dataset, batch_size=1, shuffle=True)\n",
    "\n",
    "for i, feature in enumerate(train_loader):\n",
    "    output = model(feature['image'], feature['text'])\n",
    "    break\n",
    "\n",
    "# Visualize the model\n",
    "make_dot(output, params=dict(model.named_parameters())).render('model2_architecture.gv', view=True)\n",
    "make_dot(output, params=dict(model.named_parameters()))\n"
   ]
  },
  {
   "cell_type": "code",
   "execution_count": 33,
   "metadata": {},
   "outputs": [],
   "source": [
    "# import accuracy_score and F1 score\n",
    "from sklearn.metrics import accuracy_score, f1_score"
   ]
  },
  {
   "cell_type": "code",
   "execution_count": null,
   "metadata": {},
   "outputs": [],
   "source": []
  },
  {
   "cell_type": "markdown",
   "metadata": {},
   "source": [
    "#### Model - Training"
   ]
  },
  {
   "cell_type": "code",
   "execution_count": 39,
   "metadata": {},
   "outputs": [
    {
     "name": "stdout",
     "output_type": "stream",
     "text": [
      "Epoch: 1/30  | Loss: 2.7514  | Accuracy: 40.3846  | F1 Score: 40.1855\n",
      "Epoch: 2/30  | Loss: 2.8154  | Accuracy: 46.1538  | F1 Score: 45.8333\n",
      "Epoch: 3/30  | Loss: 2.7373  | Accuracy: 40.3846  | F1 Score: 38.5437\n",
      "Epoch: 4/30  | Loss: 2.7654  | Accuracy: 36.5385  | F1 Score: 36.3265\n",
      "Epoch: 5/30  | Loss: 2.8089  | Accuracy: 44.2308  | F1 Score: 44.2101\n",
      "Epoch: 6/30  | Loss: 2.7432  | Accuracy: 51.9231  | F1 Score: 51.9053\n",
      "Epoch: 7/30  | Loss: 2.7339  | Accuracy: 57.6923  | F1 Score: 56.0676\n",
      "Epoch: 8/30  | Loss: 2.7639  | Accuracy: 46.1538  | F1 Score: 44.8485\n",
      "Epoch: 9/30  | Loss: 2.8149  | Accuracy: 48.0769  | F1 Score: 48.0577\n",
      "Epoch: 10/30  | Loss: 2.7759  | Accuracy: 38.4615  | F1 Score: 36.9697\n",
      "Epoch: 11/30  | Loss: 2.7504  | Accuracy: 42.3077  | F1 Score: 40.9091\n",
      "Epoch: 12/30  | Loss: 2.7339  | Accuracy: 40.3846  | F1 Score: 38.5437\n",
      "Epoch: 13/30  | Loss: 2.7691  | Accuracy: 26.9231  | F1 Score: 25.9370\n",
      "Epoch: 14/30  | Loss: 2.7853  | Accuracy: 44.2308  | F1 Score: 41.6183\n",
      "Epoch: 15/30  | Loss: 2.7850  | Accuracy: 34.6154  | F1 Score: 34.2262\n",
      "Epoch: 16/30  | Loss: 2.7789  | Accuracy: 40.3846  | F1 Score: 39.2844\n",
      "Epoch: 17/30  | Loss: 2.7834  | Accuracy: 46.1538  | F1 Score: 44.0860\n",
      "Epoch: 18/30  | Loss: 2.7436  | Accuracy: 48.0769  | F1 Score: 47.5924\n",
      "Epoch: 19/30  | Loss: 2.7845  | Accuracy: 44.2308  | F1 Score: 43.7103\n",
      "Epoch: 20/30  | Loss: 2.7664  | Accuracy: 50.0000  | F1 Score: 47.1875\n",
      "Epoch: 21/30  | Loss: 2.7636  | Accuracy: 48.0769  | F1 Score: 48.0577\n",
      "Epoch: 22/30  | Loss: 2.7469  | Accuracy: 44.2308  | F1 Score: 42.5086\n",
      "Epoch: 23/30  | Loss: 2.7663  | Accuracy: 40.3846  | F1 Score: 39.2844\n",
      "Epoch: 24/30  | Loss: 2.8298  | Accuracy: 30.7692  | F1 Score: 30.6667\n",
      "Epoch: 25/30  | Loss: 2.7886  | Accuracy: 38.4615  | F1 Score: 36.9697\n",
      "Epoch: 26/30  | Loss: 2.7500  | Accuracy: 36.5385  | F1 Score: 35.3672\n",
      "Epoch: 27/30  | Loss: 2.7225  | Accuracy: 44.2308  | F1 Score: 43.2015\n",
      "Epoch: 28/30  | Loss: 2.7808  | Accuracy: 44.2308  | F1 Score: 43.7103\n",
      "Epoch: 29/30  | Loss: 2.7495  | Accuracy: 50.0000  | F1 Score: 48.7879\n",
      "Epoch: 30/30  | Loss: 2.7375  | Accuracy: 53.8462  | F1 Score: 50.2392\n",
      "F1 Score:  58.7447882378758\n"
     ]
    }
   ],
   "source": [
    "# Calculate the loss\n",
    "def criterion (outputs, labels):\n",
    "    # print(outputs, labels)\n",
    "    loss = 0\n",
    "    for i in range(len(outputs)):\n",
    "        lab = labels.squeeze(1)\n",
    "        lab = lab[:, i]\n",
    "        lab = lab.long()\n",
    "        loss += nn.CrossEntropyLoss()(outputs[i], lab)\n",
    "    return loss\n",
    "\n",
    "optimizer = torch.optim.SGD(model.parameters(), lr=0.000015) \n",
    "epochs = 30\n",
    "train_loader = DataLoader(train_dataset, batch_size=30, shuffle=True)\n",
    "shape = 30\n",
    "loss_list = []\n",
    "f1_score_list = []\n",
    "y_preds = []\n",
    "y_true = []\n",
    "\n",
    "for epoch in range(epochs):\n",
    "    lr = 1e-5\n",
    "    for i, feature in enumerate(train_loader):\n",
    "\n",
    "        optimizer.zero_grad()\n",
    "\n",
    "        # Forward Pass\n",
    "        output = model(feature['image'], feature['text'])\n",
    "\n",
    "        # Loss\n",
    "        loss = criterion(output, feature['labels'])\n",
    "\n",
    "        # Backward Pass\n",
    "        loss.backward()\n",
    "        optimizer.step()\n",
    "\n",
    "        # Get a list of 4 Predicted labels each as 0 or 1\n",
    "        predicted_labels = []\n",
    "        for i in range(len(output)):\n",
    "            predicted_labels.append(torch.argmax(output[i], 1))\n",
    "\n",
    "        # Reorganize the predicted labels to 10*4\n",
    "        predicted_labels = torch.cat(predicted_labels)\n",
    "\n",
    "\n",
    "        y_true = feature['labels']\n",
    "\n",
    "        predicted_labels = predicted_labels.flatten()\n",
    "        y_true = y_true.flatten()\n",
    "\n",
    "        # Calculate the accuracy\n",
    "        accuracy = accuracy_score(y_true, predicted_labels)*100\n",
    "        f1_sc = f1_score(y_true, predicted_labels, average='macro')*100\n",
    "\n",
    "        f1_score_list.append(f1_sc)\n",
    "\n",
    "    print(\"Epoch: {}/{}\".format(epoch+1, epochs), \" | Loss: {:.4f}\".format(loss.item()), \" | Accuracy: {:.4f}\".format(accuracy), \" | F1 Score: {:.4f}\".format(f1_sc))\n",
    "\n",
    "print(\"F1 Score: \", max(f1_score_list))"
   ]
  },
  {
   "cell_type": "markdown",
   "metadata": {},
   "source": [
    "#### Save the Model"
   ]
  },
  {
   "cell_type": "code",
   "execution_count": 40,
   "metadata": {},
   "outputs": [],
   "source": [
    "# Save the Model to path specified \n",
    "torch.save(model.state_dict(), model_path)"
   ]
  },
  {
   "cell_type": "code",
   "execution_count": 52,
   "metadata": {},
   "outputs": [
    {
     "data": {
      "text/plain": [
       "MultiLabelClassification_NN(\n",
       "  (Image_NN): Sequential(\n",
       "    (0): Linear(in_features=22500, out_features=500, bias=True)\n",
       "    (1): ReLU()\n",
       "    (2): Linear(in_features=500, out_features=220, bias=True)\n",
       "    (3): ReLU()\n",
       "    (4): Linear(in_features=220, out_features=100, bias=True)\n",
       "  )\n",
       "  (Text_NN): Sequential(\n",
       "    (0): Linear(in_features=20700, out_features=450, bias=True)\n",
       "    (1): Sigmoid()\n",
       "    (2): Linear(in_features=450, out_features=250, bias=True)\n",
       "    (3): Sigmoid()\n",
       "    (4): Linear(in_features=250, out_features=150, bias=True)\n",
       "  )\n",
       "  (concatenate_NN): Sequential(\n",
       "    (0): Linear(in_features=250, out_features=120, bias=True)\n",
       "    (1): ReLU()\n",
       "    (2): Linear(in_features=120, out_features=100, bias=True)\n",
       "    (3): Sigmoid()\n",
       "    (4): Linear(in_features=100, out_features=80, bias=True)\n",
       "    (5): ReLU()\n",
       "    (6): Linear(in_features=80, out_features=50, bias=True)\n",
       "  )\n",
       "  (HumourLayers): Sequential(\n",
       "    (0): Linear(in_features=50, out_features=40, bias=True)\n",
       "    (1): ReLU()\n",
       "    (2): Linear(in_features=40, out_features=20, bias=True)\n",
       "    (3): Sigmoid()\n",
       "    (4): Linear(in_features=20, out_features=2, bias=True)\n",
       "    (5): Sigmoid()\n",
       "  )\n",
       "  (SarcasmLayers): Sequential(\n",
       "    (0): Linear(in_features=50, out_features=40, bias=True)\n",
       "    (1): ReLU()\n",
       "    (2): Linear(in_features=40, out_features=20, bias=True)\n",
       "    (3): Sigmoid()\n",
       "    (4): Linear(in_features=20, out_features=2, bias=True)\n",
       "    (5): Sigmoid()\n",
       "  )\n",
       "  (OffensiveLayers): Sequential(\n",
       "    (0): Linear(in_features=50, out_features=40, bias=True)\n",
       "    (1): ReLU()\n",
       "    (2): Linear(in_features=40, out_features=20, bias=True)\n",
       "    (3): Sigmoid()\n",
       "    (4): Linear(in_features=20, out_features=2, bias=True)\n",
       "    (5): Sigmoid()\n",
       "  )\n",
       "  (MotivationalLayers): Sequential(\n",
       "    (0): Linear(in_features=50, out_features=40, bias=True)\n",
       "    (1): ReLU()\n",
       "    (2): Linear(in_features=40, out_features=20, bias=True)\n",
       "    (3): Sigmoid()\n",
       "    (4): Linear(in_features=20, out_features=2, bias=True)\n",
       "    (5): Sigmoid()\n",
       "  )\n",
       ")"
      ]
     },
     "execution_count": 52,
     "metadata": {},
     "output_type": "execute_result"
    }
   ],
   "source": [
    "# Load the Model from path specified\n",
    "MMNN_model_part2 = MultiLabelClassification_NN(\n",
    "    Net1_input, Net1_hidden1, Net1_hidden2, Net1_hidden3,\n",
    "    Net2_input, Net2_hidden1, Net2_hidden2, Net2_hidden3,\n",
    "    concat_hidden1, concat_hidden2, concat_hidden3, output,\n",
    "    humour_hidden1, humour_hidden2, humour_hidden3,\n",
    "    sarcasm_hidden1, sarcasm_hidden2, sarcasm_hidden3,\n",
    "    offensive_hidden1, offensive_hidden2, offensive_hidden3,\n",
    "    motivational_hidden1, motivational_hidden2, motivational_hidden3)\n",
    "MMNN_model_part2.load_state_dict(torch.load(model_path))\n",
    "MMNN_model_part2.eval()"
   ]
  },
  {
   "cell_type": "markdown",
   "metadata": {},
   "source": [
    "#### Test Model"
   ]
  },
  {
   "cell_type": "code",
   "execution_count": null,
   "metadata": {},
   "outputs": [
    {
     "ename": "TypeError",
     "evalue": "list indices must be integers or slices, not str",
     "output_type": "error",
     "traceback": [
      "\u001b[0;31m---------------------------------------------------------------------------\u001b[0m",
      "\u001b[0;31mTypeError\u001b[0m                                 Traceback (most recent call last)",
      "\u001b[0;32m/tmp/ipykernel_252367/3926292428.py\u001b[0m in \u001b[0;36m<module>\u001b[0;34m\u001b[0m\n\u001b[1;32m      5\u001b[0m \u001b[0;34m\u001b[0m\u001b[0m\n\u001b[1;32m      6\u001b[0m \u001b[0;32mfor\u001b[0m \u001b[0mi\u001b[0m\u001b[0;34m,\u001b[0m \u001b[0mfeature\u001b[0m \u001b[0;32min\u001b[0m \u001b[0menumerate\u001b[0m\u001b[0;34m(\u001b[0m\u001b[0mtest_loader\u001b[0m\u001b[0;34m)\u001b[0m\u001b[0;34m:\u001b[0m\u001b[0;34m\u001b[0m\u001b[0;34m\u001b[0m\u001b[0m\n\u001b[0;32m----> 7\u001b[0;31m     \u001b[0moutput\u001b[0m \u001b[0;34m=\u001b[0m \u001b[0mmodel\u001b[0m\u001b[0;34m(\u001b[0m\u001b[0mfeature\u001b[0m\u001b[0;34m[\u001b[0m\u001b[0;34m'image'\u001b[0m\u001b[0;34m]\u001b[0m\u001b[0;34m,\u001b[0m \u001b[0mfeature\u001b[0m\u001b[0;34m[\u001b[0m\u001b[0;34m'text'\u001b[0m\u001b[0;34m]\u001b[0m\u001b[0;34m)\u001b[0m\u001b[0;34m\u001b[0m\u001b[0;34m\u001b[0m\u001b[0m\n\u001b[0m\u001b[1;32m      8\u001b[0m \u001b[0;34m\u001b[0m\u001b[0m\n\u001b[1;32m      9\u001b[0m     \u001b[0;31m# Get a list of 4 Predicted labels each as 0 or 1\u001b[0m\u001b[0;34m\u001b[0m\u001b[0;34m\u001b[0m\u001b[0m\n",
      "\u001b[0;31mTypeError\u001b[0m: list indices must be integers or slices, not str"
     ]
    }
   ],
   "source": [
    "# Test Model \n",
    "test_loader = DataLoader(test_images, batch_size=30, shuffle=False)\n",
    "shape = 30\n",
    "\n",
    "\n",
    "for i, feature in enumerate(test_loader):\n",
    "    output = model(feature['image'], feature['text'])\n",
    "\n",
    "    # Get a list of 4 Predicted labels each as 0 or 1\n",
    "    predicted_labels = []\n",
    "    for i in range(len(output)):\n",
    "        predicted_labels.append(torch.argmax(output[i], 1))\n",
    "    # Reorganize the predicted labels to 10*4\n",
    "    predicted_labels = torch.cat(predicted_labels)\n",
    "    y_true = feature['labels']\n",
    "    predicted_labels = predicted_labels.flatten()\n",
    "    y_true = y_true.flatten()\n",
    "    # Calculate the accuracy\n",
    "    accuracy = accuracy_score(y_true, predicted_labels)*100\n",
    "    f1_sc = f1_score(y_true, predicted_labels, average='macro')*100\n"
   ]
  },
  {
   "cell_type": "code",
   "execution_count": null,
   "metadata": {},
   "outputs": [],
   "source": []
  }
 ],
 "metadata": {
  "kernelspec": {
   "display_name": "Python 3.10.4 64-bit",
   "language": "python",
   "name": "python3"
  },
  "language_info": {
   "codemirror_mode": {
    "name": "ipython",
    "version": 3
   },
   "file_extension": ".py",
   "mimetype": "text/x-python",
   "name": "python",
   "nbconvert_exporter": "python",
   "pygments_lexer": "ipython3",
   "version": "3.10.6 (main, Nov 14 2022, 16:10:14) [GCC 11.3.0]"
  },
  "vscode": {
   "interpreter": {
    "hash": "916dbcbb3f70747c44a77c7bcd40155683ae19c65e1c03b4aa3499c5328201f1"
   }
  }
 },
 "nbformat": 4,
 "nbformat_minor": 2
}
